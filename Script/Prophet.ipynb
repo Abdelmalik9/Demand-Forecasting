{
 "cells": [
  {
   "cell_type": "markdown",
   "metadata": {
    "id": "3tV6dsPphjh-"
   },
   "source": [
    "# Directory, Libraries and Data"
   ]
  },
  {
   "cell_type": "code",
   "execution_count": 5,
   "metadata": {
    "id": "9_qRIMyDhuJg"
   },
   "outputs": [],
   "source": [
    "#Import libraries\n",
    "import numpy as np\n",
    "import pandas as pd\n",
    "from prophet import Prophet"
   ]
  },
  {
   "cell_type": "code",
   "execution_count": 42,
   "metadata": {
    "colab": {
     "base_uri": "https://localhost:8080/",
     "height": 206
    },
    "executionInfo": {
     "elapsed": 523,
     "status": "ok",
     "timestamp": 1669098453499,
     "user": {
      "displayName": "Diogo Resende",
      "userId": "05706604408624562002"
     },
     "user_tz": -60
    },
    "id": "E0wPJ7Rbh2E3",
    "outputId": "f8201671-aff1-4aa6-e5ec-df35f6258b4c"
   },
   "outputs": [
    {
     "data": {
      "application/vnd.microsoft.datawrangler.viewer.v0+json": {
       "columns": [
        {
         "name": "index",
         "rawType": "int64",
         "type": "integer"
        },
        {
         "name": "Date",
         "rawType": "object",
         "type": "string"
        },
        {
         "name": "Total Individuals in Shelter",
         "rawType": "int64",
         "type": "integer"
        },
        {
         "name": "Easter",
         "rawType": "int64",
         "type": "integer"
        },
        {
         "name": "Thanksgiving",
         "rawType": "int64",
         "type": "integer"
        },
        {
         "name": "Christmas",
         "rawType": "int64",
         "type": "integer"
        },
        {
         "name": "Temperature",
         "rawType": "float64",
         "type": "float"
        }
       ],
       "ref": "cfb4a5e1-ad42-453e-a9af-de88f9b5e6db",
       "rows": [
        [
         "2524",
         "11/29/2020",
         "53708",
         "0",
         "0",
         "0",
         "11.21"
        ],
        [
         "2525",
         "11/30/2020",
         "53745",
         "0",
         "0",
         "0",
         "16.62"
        ],
        [
         "2526",
         "12/1/2020",
         "53686",
         "0",
         "0",
         "0",
         "13.47"
        ],
        [
         "2527",
         "12/2/2020",
         "53592",
         "0",
         "0",
         "0",
         "7.19"
        ],
        [
         "2528",
         "12/3/2020",
         "53501",
         "0",
         "0",
         "0",
         "9.3"
        ],
        [
         "2529",
         "12/4/2020",
         "53634",
         "0",
         "0",
         "0",
         "10.15"
        ],
        [
         "2530",
         "12/5/2020",
         "53610",
         "0",
         "0",
         "0",
         "8.65"
        ],
        [
         "2531",
         "12/6/2020",
         "53676",
         "0",
         "0",
         "0",
         "5.13"
        ],
        [
         "2532",
         "12/7/2020",
         "53686",
         "0",
         "0",
         "0",
         "4.43"
        ],
        [
         "2533",
         "12/8/2020",
         "53674",
         "0",
         "0",
         "0",
         "3.3"
        ],
        [
         "2534",
         "12/9/2020",
         "53626",
         "0",
         "0",
         "0",
         "4.09"
        ],
        [
         "2535",
         "12/10/2020",
         "53698",
         "0",
         "0",
         "0",
         "8.51"
        ],
        [
         "2536",
         "12/11/2020",
         "53758",
         "0",
         "0",
         "0",
         "11.54"
        ],
        [
         "2537",
         "12/12/2020",
         "53684",
         "0",
         "0",
         "0",
         "12.55"
        ],
        [
         "2538",
         "12/13/2020",
         "53694",
         "0",
         "0",
         "0",
         "13.04"
        ],
        [
         "2539",
         "12/14/2020",
         "53778",
         "0",
         "0",
         "0",
         "6.42"
        ],
        [
         "2540",
         "12/15/2020",
         "53712",
         "0",
         "0",
         "0",
         "4.23"
        ],
        [
         "2541",
         "12/16/2020",
         "53682",
         "0",
         "0",
         "0",
         "3.09"
        ],
        [
         "2542",
         "12/17/2020",
         "53604",
         "0",
         "0",
         "0",
         "3.7"
        ],
        [
         "2543",
         "12/18/2020",
         "53652",
         "0",
         "0",
         "0",
         "0.85"
        ],
        [
         "2544",
         "12/19/2020",
         "53630",
         "0",
         "0",
         "0",
         "1.23"
        ],
        [
         "2545",
         "12/20/2020",
         "53557",
         "0",
         "0",
         "0",
         "5.23"
        ],
        [
         "2546",
         "12/21/2020",
         "53665",
         "0",
         "0",
         "0",
         "5.94"
        ],
        [
         "2547",
         "12/22/2020",
         "53442",
         "0",
         "0",
         "0",
         "7.17"
        ],
        [
         "2548",
         "12/23/2020",
         "53356",
         "0",
         "0",
         "0",
         "6.26"
        ],
        [
         "2549",
         "12/24/2020",
         "53351",
         "0",
         "0",
         "0",
         "14.3"
        ],
        [
         "2550",
         "12/25/2020",
         "53385",
         "0",
         "0",
         "1",
         "15.12"
        ],
        [
         "2551",
         "12/26/2020",
         "53470",
         "0",
         "0",
         "0",
         "0.89"
        ],
        [
         "2552",
         "12/27/2020",
         "53534",
         "0",
         "0",
         "0",
         "2.89"
        ],
        [
         "2553",
         "12/28/2020",
         "53349",
         "0",
         "0",
         "0",
         "8.83"
        ],
        [
         "2554",
         "12/29/2020",
         "53206",
         "0",
         "0",
         "0",
         "3.48"
        ],
        [
         "2555",
         "12/30/2020",
         "53085",
         "0",
         "0",
         "0",
         "5.97"
        ],
        [
         "2556",
         "12/31/2020",
         "52874",
         "0",
         "0",
         "0",
         "8.22"
        ]
       ],
       "shape": {
        "columns": 6,
        "rows": 33
       }
      },
      "text/html": [
       "<div>\n",
       "<style scoped>\n",
       "    .dataframe tbody tr th:only-of-type {\n",
       "        vertical-align: middle;\n",
       "    }\n",
       "\n",
       "    .dataframe tbody tr th {\n",
       "        vertical-align: top;\n",
       "    }\n",
       "\n",
       "    .dataframe thead th {\n",
       "        text-align: right;\n",
       "    }\n",
       "</style>\n",
       "<table border=\"1\" class=\"dataframe\">\n",
       "  <thead>\n",
       "    <tr style=\"text-align: right;\">\n",
       "      <th></th>\n",
       "      <th>Date</th>\n",
       "      <th>Total Individuals in Shelter</th>\n",
       "      <th>Easter</th>\n",
       "      <th>Thanksgiving</th>\n",
       "      <th>Christmas</th>\n",
       "      <th>Temperature</th>\n",
       "    </tr>\n",
       "  </thead>\n",
       "  <tbody>\n",
       "    <tr>\n",
       "      <th>2524</th>\n",
       "      <td>11/29/2020</td>\n",
       "      <td>53708</td>\n",
       "      <td>0</td>\n",
       "      <td>0</td>\n",
       "      <td>0</td>\n",
       "      <td>11.21</td>\n",
       "    </tr>\n",
       "    <tr>\n",
       "      <th>2525</th>\n",
       "      <td>11/30/2020</td>\n",
       "      <td>53745</td>\n",
       "      <td>0</td>\n",
       "      <td>0</td>\n",
       "      <td>0</td>\n",
       "      <td>16.62</td>\n",
       "    </tr>\n",
       "    <tr>\n",
       "      <th>2526</th>\n",
       "      <td>12/1/2020</td>\n",
       "      <td>53686</td>\n",
       "      <td>0</td>\n",
       "      <td>0</td>\n",
       "      <td>0</td>\n",
       "      <td>13.47</td>\n",
       "    </tr>\n",
       "    <tr>\n",
       "      <th>2527</th>\n",
       "      <td>12/2/2020</td>\n",
       "      <td>53592</td>\n",
       "      <td>0</td>\n",
       "      <td>0</td>\n",
       "      <td>0</td>\n",
       "      <td>7.19</td>\n",
       "    </tr>\n",
       "    <tr>\n",
       "      <th>2528</th>\n",
       "      <td>12/3/2020</td>\n",
       "      <td>53501</td>\n",
       "      <td>0</td>\n",
       "      <td>0</td>\n",
       "      <td>0</td>\n",
       "      <td>9.30</td>\n",
       "    </tr>\n",
       "    <tr>\n",
       "      <th>2529</th>\n",
       "      <td>12/4/2020</td>\n",
       "      <td>53634</td>\n",
       "      <td>0</td>\n",
       "      <td>0</td>\n",
       "      <td>0</td>\n",
       "      <td>10.15</td>\n",
       "    </tr>\n",
       "    <tr>\n",
       "      <th>2530</th>\n",
       "      <td>12/5/2020</td>\n",
       "      <td>53610</td>\n",
       "      <td>0</td>\n",
       "      <td>0</td>\n",
       "      <td>0</td>\n",
       "      <td>8.65</td>\n",
       "    </tr>\n",
       "    <tr>\n",
       "      <th>2531</th>\n",
       "      <td>12/6/2020</td>\n",
       "      <td>53676</td>\n",
       "      <td>0</td>\n",
       "      <td>0</td>\n",
       "      <td>0</td>\n",
       "      <td>5.13</td>\n",
       "    </tr>\n",
       "    <tr>\n",
       "      <th>2532</th>\n",
       "      <td>12/7/2020</td>\n",
       "      <td>53686</td>\n",
       "      <td>0</td>\n",
       "      <td>0</td>\n",
       "      <td>0</td>\n",
       "      <td>4.43</td>\n",
       "    </tr>\n",
       "    <tr>\n",
       "      <th>2533</th>\n",
       "      <td>12/8/2020</td>\n",
       "      <td>53674</td>\n",
       "      <td>0</td>\n",
       "      <td>0</td>\n",
       "      <td>0</td>\n",
       "      <td>3.30</td>\n",
       "    </tr>\n",
       "    <tr>\n",
       "      <th>2534</th>\n",
       "      <td>12/9/2020</td>\n",
       "      <td>53626</td>\n",
       "      <td>0</td>\n",
       "      <td>0</td>\n",
       "      <td>0</td>\n",
       "      <td>4.09</td>\n",
       "    </tr>\n",
       "    <tr>\n",
       "      <th>2535</th>\n",
       "      <td>12/10/2020</td>\n",
       "      <td>53698</td>\n",
       "      <td>0</td>\n",
       "      <td>0</td>\n",
       "      <td>0</td>\n",
       "      <td>8.51</td>\n",
       "    </tr>\n",
       "    <tr>\n",
       "      <th>2536</th>\n",
       "      <td>12/11/2020</td>\n",
       "      <td>53758</td>\n",
       "      <td>0</td>\n",
       "      <td>0</td>\n",
       "      <td>0</td>\n",
       "      <td>11.54</td>\n",
       "    </tr>\n",
       "    <tr>\n",
       "      <th>2537</th>\n",
       "      <td>12/12/2020</td>\n",
       "      <td>53684</td>\n",
       "      <td>0</td>\n",
       "      <td>0</td>\n",
       "      <td>0</td>\n",
       "      <td>12.55</td>\n",
       "    </tr>\n",
       "    <tr>\n",
       "      <th>2538</th>\n",
       "      <td>12/13/2020</td>\n",
       "      <td>53694</td>\n",
       "      <td>0</td>\n",
       "      <td>0</td>\n",
       "      <td>0</td>\n",
       "      <td>13.04</td>\n",
       "    </tr>\n",
       "    <tr>\n",
       "      <th>2539</th>\n",
       "      <td>12/14/2020</td>\n",
       "      <td>53778</td>\n",
       "      <td>0</td>\n",
       "      <td>0</td>\n",
       "      <td>0</td>\n",
       "      <td>6.42</td>\n",
       "    </tr>\n",
       "    <tr>\n",
       "      <th>2540</th>\n",
       "      <td>12/15/2020</td>\n",
       "      <td>53712</td>\n",
       "      <td>0</td>\n",
       "      <td>0</td>\n",
       "      <td>0</td>\n",
       "      <td>4.23</td>\n",
       "    </tr>\n",
       "    <tr>\n",
       "      <th>2541</th>\n",
       "      <td>12/16/2020</td>\n",
       "      <td>53682</td>\n",
       "      <td>0</td>\n",
       "      <td>0</td>\n",
       "      <td>0</td>\n",
       "      <td>3.09</td>\n",
       "    </tr>\n",
       "    <tr>\n",
       "      <th>2542</th>\n",
       "      <td>12/17/2020</td>\n",
       "      <td>53604</td>\n",
       "      <td>0</td>\n",
       "      <td>0</td>\n",
       "      <td>0</td>\n",
       "      <td>3.70</td>\n",
       "    </tr>\n",
       "    <tr>\n",
       "      <th>2543</th>\n",
       "      <td>12/18/2020</td>\n",
       "      <td>53652</td>\n",
       "      <td>0</td>\n",
       "      <td>0</td>\n",
       "      <td>0</td>\n",
       "      <td>0.85</td>\n",
       "    </tr>\n",
       "    <tr>\n",
       "      <th>2544</th>\n",
       "      <td>12/19/2020</td>\n",
       "      <td>53630</td>\n",
       "      <td>0</td>\n",
       "      <td>0</td>\n",
       "      <td>0</td>\n",
       "      <td>1.23</td>\n",
       "    </tr>\n",
       "    <tr>\n",
       "      <th>2545</th>\n",
       "      <td>12/20/2020</td>\n",
       "      <td>53557</td>\n",
       "      <td>0</td>\n",
       "      <td>0</td>\n",
       "      <td>0</td>\n",
       "      <td>5.23</td>\n",
       "    </tr>\n",
       "    <tr>\n",
       "      <th>2546</th>\n",
       "      <td>12/21/2020</td>\n",
       "      <td>53665</td>\n",
       "      <td>0</td>\n",
       "      <td>0</td>\n",
       "      <td>0</td>\n",
       "      <td>5.94</td>\n",
       "    </tr>\n",
       "    <tr>\n",
       "      <th>2547</th>\n",
       "      <td>12/22/2020</td>\n",
       "      <td>53442</td>\n",
       "      <td>0</td>\n",
       "      <td>0</td>\n",
       "      <td>0</td>\n",
       "      <td>7.17</td>\n",
       "    </tr>\n",
       "    <tr>\n",
       "      <th>2548</th>\n",
       "      <td>12/23/2020</td>\n",
       "      <td>53356</td>\n",
       "      <td>0</td>\n",
       "      <td>0</td>\n",
       "      <td>0</td>\n",
       "      <td>6.26</td>\n",
       "    </tr>\n",
       "    <tr>\n",
       "      <th>2549</th>\n",
       "      <td>12/24/2020</td>\n",
       "      <td>53351</td>\n",
       "      <td>0</td>\n",
       "      <td>0</td>\n",
       "      <td>0</td>\n",
       "      <td>14.30</td>\n",
       "    </tr>\n",
       "    <tr>\n",
       "      <th>2550</th>\n",
       "      <td>12/25/2020</td>\n",
       "      <td>53385</td>\n",
       "      <td>0</td>\n",
       "      <td>0</td>\n",
       "      <td>1</td>\n",
       "      <td>15.12</td>\n",
       "    </tr>\n",
       "    <tr>\n",
       "      <th>2551</th>\n",
       "      <td>12/26/2020</td>\n",
       "      <td>53470</td>\n",
       "      <td>0</td>\n",
       "      <td>0</td>\n",
       "      <td>0</td>\n",
       "      <td>0.89</td>\n",
       "    </tr>\n",
       "    <tr>\n",
       "      <th>2552</th>\n",
       "      <td>12/27/2020</td>\n",
       "      <td>53534</td>\n",
       "      <td>0</td>\n",
       "      <td>0</td>\n",
       "      <td>0</td>\n",
       "      <td>2.89</td>\n",
       "    </tr>\n",
       "    <tr>\n",
       "      <th>2553</th>\n",
       "      <td>12/28/2020</td>\n",
       "      <td>53349</td>\n",
       "      <td>0</td>\n",
       "      <td>0</td>\n",
       "      <td>0</td>\n",
       "      <td>8.83</td>\n",
       "    </tr>\n",
       "    <tr>\n",
       "      <th>2554</th>\n",
       "      <td>12/29/2020</td>\n",
       "      <td>53206</td>\n",
       "      <td>0</td>\n",
       "      <td>0</td>\n",
       "      <td>0</td>\n",
       "      <td>3.48</td>\n",
       "    </tr>\n",
       "    <tr>\n",
       "      <th>2555</th>\n",
       "      <td>12/30/2020</td>\n",
       "      <td>53085</td>\n",
       "      <td>0</td>\n",
       "      <td>0</td>\n",
       "      <td>0</td>\n",
       "      <td>5.97</td>\n",
       "    </tr>\n",
       "    <tr>\n",
       "      <th>2556</th>\n",
       "      <td>12/31/2020</td>\n",
       "      <td>52874</td>\n",
       "      <td>0</td>\n",
       "      <td>0</td>\n",
       "      <td>0</td>\n",
       "      <td>8.22</td>\n",
       "    </tr>\n",
       "  </tbody>\n",
       "</table>\n",
       "</div>"
      ],
      "text/plain": [
       "            Date  Total Individuals in Shelter  Easter  Thanksgiving  \\\n",
       "2524  11/29/2020                         53708       0             0   \n",
       "2525  11/30/2020                         53745       0             0   \n",
       "2526   12/1/2020                         53686       0             0   \n",
       "2527   12/2/2020                         53592       0             0   \n",
       "2528   12/3/2020                         53501       0             0   \n",
       "2529   12/4/2020                         53634       0             0   \n",
       "2530   12/5/2020                         53610       0             0   \n",
       "2531   12/6/2020                         53676       0             0   \n",
       "2532   12/7/2020                         53686       0             0   \n",
       "2533   12/8/2020                         53674       0             0   \n",
       "2534   12/9/2020                         53626       0             0   \n",
       "2535  12/10/2020                         53698       0             0   \n",
       "2536  12/11/2020                         53758       0             0   \n",
       "2537  12/12/2020                         53684       0             0   \n",
       "2538  12/13/2020                         53694       0             0   \n",
       "2539  12/14/2020                         53778       0             0   \n",
       "2540  12/15/2020                         53712       0             0   \n",
       "2541  12/16/2020                         53682       0             0   \n",
       "2542  12/17/2020                         53604       0             0   \n",
       "2543  12/18/2020                         53652       0             0   \n",
       "2544  12/19/2020                         53630       0             0   \n",
       "2545  12/20/2020                         53557       0             0   \n",
       "2546  12/21/2020                         53665       0             0   \n",
       "2547  12/22/2020                         53442       0             0   \n",
       "2548  12/23/2020                         53356       0             0   \n",
       "2549  12/24/2020                         53351       0             0   \n",
       "2550  12/25/2020                         53385       0             0   \n",
       "2551  12/26/2020                         53470       0             0   \n",
       "2552  12/27/2020                         53534       0             0   \n",
       "2553  12/28/2020                         53349       0             0   \n",
       "2554  12/29/2020                         53206       0             0   \n",
       "2555  12/30/2020                         53085       0             0   \n",
       "2556  12/31/2020                         52874       0             0   \n",
       "\n",
       "      Christmas  Temperature  \n",
       "2524          0        11.21  \n",
       "2525          0        16.62  \n",
       "2526          0        13.47  \n",
       "2527          0         7.19  \n",
       "2528          0         9.30  \n",
       "2529          0        10.15  \n",
       "2530          0         8.65  \n",
       "2531          0         5.13  \n",
       "2532          0         4.43  \n",
       "2533          0         3.30  \n",
       "2534          0         4.09  \n",
       "2535          0         8.51  \n",
       "2536          0        11.54  \n",
       "2537          0        12.55  \n",
       "2538          0        13.04  \n",
       "2539          0         6.42  \n",
       "2540          0         4.23  \n",
       "2541          0         3.09  \n",
       "2542          0         3.70  \n",
       "2543          0         0.85  \n",
       "2544          0         1.23  \n",
       "2545          0         5.23  \n",
       "2546          0         5.94  \n",
       "2547          0         7.17  \n",
       "2548          0         6.26  \n",
       "2549          0        14.30  \n",
       "2550          1        15.12  \n",
       "2551          0         0.89  \n",
       "2552          0         2.89  \n",
       "2553          0         8.83  \n",
       "2554          0         3.48  \n",
       "2555          0         5.97  \n",
       "2556          0         8.22  "
      ]
     },
     "execution_count": 42,
     "metadata": {},
     "output_type": "execute_result"
    }
   ],
   "source": [
    "#Data\n",
    "df = pd.read_csv(\"DHS_Daily_Report_2020.csv\")\n",
    "df.tail(33)"
   ]
  },
  {
   "cell_type": "code",
   "execution_count": 43,
   "metadata": {
    "colab": {
     "base_uri": "https://localhost:8080/"
    },
    "executionInfo": {
     "elapsed": 17,
     "status": "ok",
     "timestamp": 1669098453500,
     "user": {
      "displayName": "Diogo Resende",
      "userId": "05706604408624562002"
     },
     "user_tz": -60
    },
    "id": "UUn_vuCqine-",
    "outputId": "b4cf6c15-6e42-4f06-bbc2-bd1ee1a70d5d"
   },
   "outputs": [
    {
     "name": "stdout",
     "output_type": "stream",
     "text": [
      "<class 'pandas.core.frame.DataFrame'>\n",
      "RangeIndex: 2557 entries, 0 to 2556\n",
      "Data columns (total 6 columns):\n",
      " #   Column                        Non-Null Count  Dtype  \n",
      "---  ------                        --------------  -----  \n",
      " 0   Date                          2557 non-null   object \n",
      " 1   Total Individuals in Shelter  2557 non-null   int64  \n",
      " 2   Easter                        2557 non-null   int64  \n",
      " 3   Thanksgiving                  2557 non-null   int64  \n",
      " 4   Christmas                     2557 non-null   int64  \n",
      " 5   Temperature                   2557 non-null   float64\n",
      "dtypes: float64(1), int64(4), object(1)\n",
      "memory usage: 120.0+ KB\n"
     ]
    }
   ],
   "source": [
    "#Looking into what kind of variables we have\n",
    "df.info()"
   ]
  },
  {
   "cell_type": "code",
   "execution_count": 44,
   "metadata": {
    "colab": {
     "base_uri": "https://localhost:8080/",
     "height": 300
    },
    "executionInfo": {
     "elapsed": 15,
     "status": "ok",
     "timestamp": 1669098453501,
     "user": {
      "displayName": "Diogo Resende",
      "userId": "05706604408624562002"
     },
     "user_tz": -60
    },
    "id": "xTJLR6JNi2_6",
    "outputId": "ceba902b-5e72-49ca-af91-ba9d597a03e1"
   },
   "outputs": [
    {
     "data": {
      "application/vnd.microsoft.datawrangler.viewer.v0+json": {
       "columns": [
        {
         "name": "index",
         "rawType": "object",
         "type": "string"
        },
        {
         "name": "Total Individuals in Shelter",
         "rawType": "float64",
         "type": "float"
        },
        {
         "name": "Easter",
         "rawType": "float64",
         "type": "float"
        },
        {
         "name": "Thanksgiving",
         "rawType": "float64",
         "type": "float"
        },
        {
         "name": "Christmas",
         "rawType": "float64",
         "type": "float"
        },
        {
         "name": "Temperature",
         "rawType": "float64",
         "type": "float"
        }
       ],
       "ref": "859dfd3a-2fb7-44dc-b042-eab82123c3cb",
       "rows": [
        [
         "count",
         "2557.0",
         "2557.0",
         "2557.0",
         "2557.0",
         "2557.0"
        ],
        [
         "mean",
         "57937.296832225264",
         "0.002737583105201408",
         "0.002737583105201408",
         "0.002737583105201408",
         "14.863011341415723"
        ],
        [
         "std",
         "2361.9781126707458",
         "0.05226047123573176",
         "0.05226047123573176",
         "0.05226047123573176",
         "8.848963645249185"
        ],
        [
         "min",
         "50689.0",
         "0.0",
         "0.0",
         "0.0",
         "-8.85"
        ],
        [
         "25%",
         "56729.0",
         "0.0",
         "0.0",
         "0.0",
         "7.62"
        ],
        [
         "50%",
         "58369.0",
         "0.0",
         "0.0",
         "0.0",
         "14.87"
        ],
        [
         "75%",
         "59856.0",
         "0.0",
         "0.0",
         "0.0",
         "23.09"
        ],
        [
         "max",
         "61415.0",
         "1.0",
         "1.0",
         "1.0",
         "30.9"
        ]
       ],
       "shape": {
        "columns": 5,
        "rows": 8
       }
      },
      "text/html": [
       "<div>\n",
       "<style scoped>\n",
       "    .dataframe tbody tr th:only-of-type {\n",
       "        vertical-align: middle;\n",
       "    }\n",
       "\n",
       "    .dataframe tbody tr th {\n",
       "        vertical-align: top;\n",
       "    }\n",
       "\n",
       "    .dataframe thead th {\n",
       "        text-align: right;\n",
       "    }\n",
       "</style>\n",
       "<table border=\"1\" class=\"dataframe\">\n",
       "  <thead>\n",
       "    <tr style=\"text-align: right;\">\n",
       "      <th></th>\n",
       "      <th>Total Individuals in Shelter</th>\n",
       "      <th>Easter</th>\n",
       "      <th>Thanksgiving</th>\n",
       "      <th>Christmas</th>\n",
       "      <th>Temperature</th>\n",
       "    </tr>\n",
       "  </thead>\n",
       "  <tbody>\n",
       "    <tr>\n",
       "      <th>count</th>\n",
       "      <td>2557.000000</td>\n",
       "      <td>2557.000000</td>\n",
       "      <td>2557.000000</td>\n",
       "      <td>2557.000000</td>\n",
       "      <td>2557.000000</td>\n",
       "    </tr>\n",
       "    <tr>\n",
       "      <th>mean</th>\n",
       "      <td>57937.296832</td>\n",
       "      <td>0.002738</td>\n",
       "      <td>0.002738</td>\n",
       "      <td>0.002738</td>\n",
       "      <td>14.863011</td>\n",
       "    </tr>\n",
       "    <tr>\n",
       "      <th>std</th>\n",
       "      <td>2361.978113</td>\n",
       "      <td>0.052260</td>\n",
       "      <td>0.052260</td>\n",
       "      <td>0.052260</td>\n",
       "      <td>8.848964</td>\n",
       "    </tr>\n",
       "    <tr>\n",
       "      <th>min</th>\n",
       "      <td>50689.000000</td>\n",
       "      <td>0.000000</td>\n",
       "      <td>0.000000</td>\n",
       "      <td>0.000000</td>\n",
       "      <td>-8.850000</td>\n",
       "    </tr>\n",
       "    <tr>\n",
       "      <th>25%</th>\n",
       "      <td>56729.000000</td>\n",
       "      <td>0.000000</td>\n",
       "      <td>0.000000</td>\n",
       "      <td>0.000000</td>\n",
       "      <td>7.620000</td>\n",
       "    </tr>\n",
       "    <tr>\n",
       "      <th>50%</th>\n",
       "      <td>58369.000000</td>\n",
       "      <td>0.000000</td>\n",
       "      <td>0.000000</td>\n",
       "      <td>0.000000</td>\n",
       "      <td>14.870000</td>\n",
       "    </tr>\n",
       "    <tr>\n",
       "      <th>75%</th>\n",
       "      <td>59856.000000</td>\n",
       "      <td>0.000000</td>\n",
       "      <td>0.000000</td>\n",
       "      <td>0.000000</td>\n",
       "      <td>23.090000</td>\n",
       "    </tr>\n",
       "    <tr>\n",
       "      <th>max</th>\n",
       "      <td>61415.000000</td>\n",
       "      <td>1.000000</td>\n",
       "      <td>1.000000</td>\n",
       "      <td>1.000000</td>\n",
       "      <td>30.900000</td>\n",
       "    </tr>\n",
       "  </tbody>\n",
       "</table>\n",
       "</div>"
      ],
      "text/plain": [
       "       Total Individuals in Shelter       Easter  Thanksgiving    Christmas  \\\n",
       "count                   2557.000000  2557.000000   2557.000000  2557.000000   \n",
       "mean                   57937.296832     0.002738      0.002738     0.002738   \n",
       "std                     2361.978113     0.052260      0.052260     0.052260   \n",
       "min                    50689.000000     0.000000      0.000000     0.000000   \n",
       "25%                    56729.000000     0.000000      0.000000     0.000000   \n",
       "50%                    58369.000000     0.000000      0.000000     0.000000   \n",
       "75%                    59856.000000     0.000000      0.000000     0.000000   \n",
       "max                    61415.000000     1.000000      1.000000     1.000000   \n",
       "\n",
       "       Temperature  \n",
       "count  2557.000000  \n",
       "mean     14.863011  \n",
       "std       8.848964  \n",
       "min      -8.850000  \n",
       "25%       7.620000  \n",
       "50%      14.870000  \n",
       "75%      23.090000  \n",
       "max      30.900000  "
      ]
     },
     "execution_count": 44,
     "metadata": {},
     "output_type": "execute_result"
    }
   ],
   "source": [
    "#Summary statistics\n",
    "df.describe()"
   ]
  },
  {
   "cell_type": "markdown",
   "metadata": {
    "id": "xVJCeqwokCYj"
   },
   "source": [
    "# Data Preparation"
   ]
  },
  {
   "cell_type": "code",
   "execution_count": 45,
   "metadata": {
    "colab": {
     "base_uri": "https://localhost:8080/"
    },
    "executionInfo": {
     "elapsed": 13,
     "status": "ok",
     "timestamp": 1669098454233,
     "user": {
      "displayName": "Diogo Resende",
      "userId": "05706604408624562002"
     },
     "user_tz": -60
    },
    "id": "cbUw2bwfkEps",
    "outputId": "bd45e4de-a3e0-4328-d6be-161ae88d47fc"
   },
   "outputs": [
    {
     "data": {
      "application/vnd.microsoft.datawrangler.viewer.v0+json": {
       "columns": [
        {
         "name": "index",
         "rawType": "int64",
         "type": "integer"
        },
        {
         "name": "Date",
         "rawType": "datetime64[ns]",
         "type": "datetime"
        }
       ],
       "ref": "7771f219-a519-45ca-a08f-bad6bb0cfec3",
       "rows": [
        [
         "0",
         "2014-01-01 00:00:00"
        ],
        [
         "1",
         "2014-01-02 00:00:00"
        ],
        [
         "2",
         "2014-01-03 00:00:00"
        ],
        [
         "3",
         "2014-01-04 00:00:00"
        ],
        [
         "4",
         "2014-01-05 00:00:00"
        ],
        [
         "5",
         "2014-01-06 00:00:00"
        ],
        [
         "6",
         "2014-01-07 00:00:00"
        ],
        [
         "7",
         "2014-01-08 00:00:00"
        ],
        [
         "8",
         "2014-01-09 00:00:00"
        ],
        [
         "9",
         "2014-01-10 00:00:00"
        ],
        [
         "10",
         "2014-01-11 00:00:00"
        ],
        [
         "11",
         "2014-01-12 00:00:00"
        ],
        [
         "12",
         "2014-01-13 00:00:00"
        ],
        [
         "13",
         "2014-01-14 00:00:00"
        ],
        [
         "14",
         "2014-01-15 00:00:00"
        ],
        [
         "15",
         "2014-01-16 00:00:00"
        ],
        [
         "16",
         "2014-01-17 00:00:00"
        ],
        [
         "17",
         "2014-01-18 00:00:00"
        ],
        [
         "18",
         "2014-01-19 00:00:00"
        ],
        [
         "19",
         "2014-01-20 00:00:00"
        ],
        [
         "20",
         "2014-01-21 00:00:00"
        ],
        [
         "21",
         "2014-01-22 00:00:00"
        ],
        [
         "22",
         "2014-01-23 00:00:00"
        ],
        [
         "23",
         "2014-01-24 00:00:00"
        ],
        [
         "24",
         "2014-01-25 00:00:00"
        ],
        [
         "25",
         "2014-01-26 00:00:00"
        ],
        [
         "26",
         "2014-01-27 00:00:00"
        ],
        [
         "27",
         "2014-01-28 00:00:00"
        ],
        [
         "28",
         "2014-01-29 00:00:00"
        ],
        [
         "29",
         "2014-01-30 00:00:00"
        ],
        [
         "30",
         "2014-01-31 00:00:00"
        ],
        [
         "31",
         "2014-02-01 00:00:00"
        ],
        [
         "32",
         "2014-02-02 00:00:00"
        ],
        [
         "33",
         "2014-02-03 00:00:00"
        ],
        [
         "34",
         "2014-02-04 00:00:00"
        ],
        [
         "35",
         "2014-02-05 00:00:00"
        ],
        [
         "36",
         "2014-02-06 00:00:00"
        ],
        [
         "37",
         "2014-02-07 00:00:00"
        ],
        [
         "38",
         "2014-02-08 00:00:00"
        ],
        [
         "39",
         "2014-02-09 00:00:00"
        ],
        [
         "40",
         "2014-02-10 00:00:00"
        ],
        [
         "41",
         "2014-02-11 00:00:00"
        ],
        [
         "42",
         "2014-02-12 00:00:00"
        ],
        [
         "43",
         "2014-02-13 00:00:00"
        ],
        [
         "44",
         "2014-02-14 00:00:00"
        ],
        [
         "45",
         "2014-02-15 00:00:00"
        ],
        [
         "46",
         "2014-02-16 00:00:00"
        ],
        [
         "47",
         "2014-02-17 00:00:00"
        ],
        [
         "48",
         "2014-02-18 00:00:00"
        ],
        [
         "49",
         "2014-02-19 00:00:00"
        ]
       ],
       "shape": {
        "columns": 1,
        "rows": 2557
       }
      },
      "text/plain": [
       "0      2014-01-01\n",
       "1      2014-01-02\n",
       "2      2014-01-03\n",
       "3      2014-01-04\n",
       "4      2014-01-05\n",
       "          ...    \n",
       "2552   2020-12-27\n",
       "2553   2020-12-28\n",
       "2554   2020-12-29\n",
       "2555   2020-12-30\n",
       "2556   2020-12-31\n",
       "Name: Date, Length: 2557, dtype: datetime64[ns]"
      ]
     },
     "execution_count": 45,
     "metadata": {},
     "output_type": "execute_result"
    }
   ],
   "source": [
    "#Date variable: %m/%d/%Y -> %Y-%m-%d\n",
    "df.Date = pd.to_datetime(df.Date,\n",
    "                         format = \"%m/%d/%Y\")\n",
    "df.Date"
   ]
  },
  {
   "cell_type": "code",
   "execution_count": 46,
   "metadata": {
    "colab": {
     "base_uri": "https://localhost:8080/",
     "height": 81
    },
    "executionInfo": {
     "elapsed": 12,
     "status": "ok",
     "timestamp": 1669098454234,
     "user": {
      "displayName": "Diogo Resende",
      "userId": "05706604408624562002"
     },
     "user_tz": -60
    },
    "id": "jvZ2MIDmld8z",
    "outputId": "0d5dab96-2cf3-4f3a-b8e6-436b0b89af4d"
   },
   "outputs": [
    {
     "data": {
      "application/vnd.microsoft.datawrangler.viewer.v0+json": {
       "columns": [
        {
         "name": "index",
         "rawType": "int64",
         "type": "integer"
        },
        {
         "name": "ds",
         "rawType": "datetime64[ns]",
         "type": "datetime"
        },
        {
         "name": "y",
         "rawType": "int64",
         "type": "integer"
        },
        {
         "name": "Easter",
         "rawType": "int64",
         "type": "integer"
        },
        {
         "name": "Thanksgiving",
         "rawType": "int64",
         "type": "integer"
        },
        {
         "name": "Christmas",
         "rawType": "int64",
         "type": "integer"
        },
        {
         "name": "Temperature",
         "rawType": "float64",
         "type": "float"
        }
       ],
       "ref": "8861f591-c56f-4200-aca9-deca41eb2c8d",
       "rows": [
        [
         "0",
         "2014-01-01 00:00:00",
         "50689",
         "0",
         "0",
         "0",
         "2.17"
        ]
       ],
       "shape": {
        "columns": 6,
        "rows": 1
       }
      },
      "text/html": [
       "<div>\n",
       "<style scoped>\n",
       "    .dataframe tbody tr th:only-of-type {\n",
       "        vertical-align: middle;\n",
       "    }\n",
       "\n",
       "    .dataframe tbody tr th {\n",
       "        vertical-align: top;\n",
       "    }\n",
       "\n",
       "    .dataframe thead th {\n",
       "        text-align: right;\n",
       "    }\n",
       "</style>\n",
       "<table border=\"1\" class=\"dataframe\">\n",
       "  <thead>\n",
       "    <tr style=\"text-align: right;\">\n",
       "      <th></th>\n",
       "      <th>ds</th>\n",
       "      <th>y</th>\n",
       "      <th>Easter</th>\n",
       "      <th>Thanksgiving</th>\n",
       "      <th>Christmas</th>\n",
       "      <th>Temperature</th>\n",
       "    </tr>\n",
       "  </thead>\n",
       "  <tbody>\n",
       "    <tr>\n",
       "      <th>0</th>\n",
       "      <td>2014-01-01</td>\n",
       "      <td>50689</td>\n",
       "      <td>0</td>\n",
       "      <td>0</td>\n",
       "      <td>0</td>\n",
       "      <td>2.17</td>\n",
       "    </tr>\n",
       "  </tbody>\n",
       "</table>\n",
       "</div>"
      ],
      "text/plain": [
       "          ds      y  Easter  Thanksgiving  Christmas  Temperature\n",
       "0 2014-01-01  50689       0             0          0         2.17"
      ]
     },
     "execution_count": 46,
     "metadata": {},
     "output_type": "execute_result"
    }
   ],
   "source": [
    "#Change variable: Date -> ds, time-series (Udemy) -> y\n",
    "df = df.rename(columns = {'Date': 'ds',\n",
    "                          'Total Individuals in Shelter': 'y'})\n",
    "df.head(1)"
   ]
  },
  {
   "cell_type": "markdown",
   "metadata": {
    "id": "UPdNDVh39Dno"
   },
   "source": [
    "# holidays"
   ]
  },
  {
   "cell_type": "code",
   "execution_count": 47,
   "metadata": {
    "id": "EW_P7byi9El0"
   },
   "outputs": [],
   "source": [
    "#Easter\n",
    "easter_dates = pd.to_datetime(df[df.Easter ==1 ].ds)\n",
    "easter = pd.DataFrame({'holiday': 'easter',\n",
    "                       'ds': easter_dates,\n",
    "                       'lower_window': -3,\n",
    "                       'upper_window': 4})"
   ]
  },
  {
   "cell_type": "code",
   "execution_count": 49,
   "metadata": {
    "id": "IWDTC3JA-Xkb"
   },
   "outputs": [],
   "source": [
    "#Thanksgiving\n",
    "Thanksgiving_dates = pd.to_datetime(df[df['Thanksgiving'] == 1].ds)\n",
    "Thanksgiving = pd.DataFrame({'holiday': 'Thanksgiving',\n",
    "                   'ds': Thanksgiving_dates,\n",
    "                   'lower_window': -7,\n",
    "                   'upper_window': 2})"
   ]
  },
  {
   "cell_type": "code",
   "execution_count": 51,
   "metadata": {
    "colab": {
     "base_uri": "https://localhost:8080/",
     "height": 363
    },
    "executionInfo": {
     "elapsed": 19,
     "status": "ok",
     "timestamp": 1669098455041,
     "user": {
      "displayName": "Diogo Resende",
      "userId": "05706604408624562002"
     },
     "user_tz": -60
    },
    "id": "-Q2NkR0J_NAm",
    "outputId": "c917e41e-9e1b-4e38-8292-1945c13bc74a"
   },
   "outputs": [
    {
     "data": {
      "application/vnd.microsoft.datawrangler.viewer.v0+json": {
       "columns": [
        {
         "name": "index",
         "rawType": "int64",
         "type": "integer"
        },
        {
         "name": "holiday",
         "rawType": "object",
         "type": "string"
        },
        {
         "name": "ds",
         "rawType": "datetime64[ns]",
         "type": "datetime"
        },
        {
         "name": "lower_window",
         "rawType": "int64",
         "type": "integer"
        },
        {
         "name": "upper_window",
         "rawType": "int64",
         "type": "integer"
        }
       ],
       "ref": "384c07c1-bdef-401b-b795-cd403974b147",
       "rows": [
        [
         "109",
         "easter",
         "2014-04-20 00:00:00",
         "-3",
         "4"
        ],
        [
         "459",
         "easter",
         "2015-04-05 00:00:00",
         "-3",
         "4"
        ],
        [
         "816",
         "easter",
         "2016-03-27 00:00:00",
         "-3",
         "4"
        ],
        [
         "1201",
         "easter",
         "2017-04-16 00:00:00",
         "-3",
         "4"
        ],
        [
         "1551",
         "easter",
         "2018-04-01 00:00:00",
         "-3",
         "4"
        ],
        [
         "1936",
         "easter",
         "2019-04-21 00:00:00",
         "-3",
         "4"
        ],
        [
         "2293",
         "easter",
         "2020-04-12 00:00:00",
         "-3",
         "4"
        ],
        [
         "330",
         "Thanksgiving",
         "2014-11-27 00:00:00",
         "-7",
         "2"
        ],
        [
         "694",
         "Thanksgiving",
         "2015-11-26 00:00:00",
         "-7",
         "2"
        ],
        [
         "1058",
         "Thanksgiving",
         "2016-11-24 00:00:00",
         "-7",
         "2"
        ],
        [
         "1422",
         "Thanksgiving",
         "2017-11-23 00:00:00",
         "-7",
         "2"
        ],
        [
         "1786",
         "Thanksgiving",
         "2018-11-22 00:00:00",
         "-7",
         "2"
        ],
        [
         "2157",
         "Thanksgiving",
         "2019-11-28 00:00:00",
         "-7",
         "2"
        ],
        [
         "2521",
         "Thanksgiving",
         "2020-11-26 00:00:00",
         "-7",
         "2"
        ]
       ],
       "shape": {
        "columns": 4,
        "rows": 14
       }
      },
      "text/html": [
       "<div>\n",
       "<style scoped>\n",
       "    .dataframe tbody tr th:only-of-type {\n",
       "        vertical-align: middle;\n",
       "    }\n",
       "\n",
       "    .dataframe tbody tr th {\n",
       "        vertical-align: top;\n",
       "    }\n",
       "\n",
       "    .dataframe thead th {\n",
       "        text-align: right;\n",
       "    }\n",
       "</style>\n",
       "<table border=\"1\" class=\"dataframe\">\n",
       "  <thead>\n",
       "    <tr style=\"text-align: right;\">\n",
       "      <th></th>\n",
       "      <th>holiday</th>\n",
       "      <th>ds</th>\n",
       "      <th>lower_window</th>\n",
       "      <th>upper_window</th>\n",
       "    </tr>\n",
       "  </thead>\n",
       "  <tbody>\n",
       "    <tr>\n",
       "      <th>109</th>\n",
       "      <td>easter</td>\n",
       "      <td>2014-04-20</td>\n",
       "      <td>-3</td>\n",
       "      <td>4</td>\n",
       "    </tr>\n",
       "    <tr>\n",
       "      <th>459</th>\n",
       "      <td>easter</td>\n",
       "      <td>2015-04-05</td>\n",
       "      <td>-3</td>\n",
       "      <td>4</td>\n",
       "    </tr>\n",
       "    <tr>\n",
       "      <th>816</th>\n",
       "      <td>easter</td>\n",
       "      <td>2016-03-27</td>\n",
       "      <td>-3</td>\n",
       "      <td>4</td>\n",
       "    </tr>\n",
       "    <tr>\n",
       "      <th>1201</th>\n",
       "      <td>easter</td>\n",
       "      <td>2017-04-16</td>\n",
       "      <td>-3</td>\n",
       "      <td>4</td>\n",
       "    </tr>\n",
       "    <tr>\n",
       "      <th>1551</th>\n",
       "      <td>easter</td>\n",
       "      <td>2018-04-01</td>\n",
       "      <td>-3</td>\n",
       "      <td>4</td>\n",
       "    </tr>\n",
       "    <tr>\n",
       "      <th>1936</th>\n",
       "      <td>easter</td>\n",
       "      <td>2019-04-21</td>\n",
       "      <td>-3</td>\n",
       "      <td>4</td>\n",
       "    </tr>\n",
       "    <tr>\n",
       "      <th>2293</th>\n",
       "      <td>easter</td>\n",
       "      <td>2020-04-12</td>\n",
       "      <td>-3</td>\n",
       "      <td>4</td>\n",
       "    </tr>\n",
       "    <tr>\n",
       "      <th>330</th>\n",
       "      <td>Thanksgiving</td>\n",
       "      <td>2014-11-27</td>\n",
       "      <td>-7</td>\n",
       "      <td>2</td>\n",
       "    </tr>\n",
       "    <tr>\n",
       "      <th>694</th>\n",
       "      <td>Thanksgiving</td>\n",
       "      <td>2015-11-26</td>\n",
       "      <td>-7</td>\n",
       "      <td>2</td>\n",
       "    </tr>\n",
       "    <tr>\n",
       "      <th>1058</th>\n",
       "      <td>Thanksgiving</td>\n",
       "      <td>2016-11-24</td>\n",
       "      <td>-7</td>\n",
       "      <td>2</td>\n",
       "    </tr>\n",
       "    <tr>\n",
       "      <th>1422</th>\n",
       "      <td>Thanksgiving</td>\n",
       "      <td>2017-11-23</td>\n",
       "      <td>-7</td>\n",
       "      <td>2</td>\n",
       "    </tr>\n",
       "    <tr>\n",
       "      <th>1786</th>\n",
       "      <td>Thanksgiving</td>\n",
       "      <td>2018-11-22</td>\n",
       "      <td>-7</td>\n",
       "      <td>2</td>\n",
       "    </tr>\n",
       "    <tr>\n",
       "      <th>2157</th>\n",
       "      <td>Thanksgiving</td>\n",
       "      <td>2019-11-28</td>\n",
       "      <td>-7</td>\n",
       "      <td>2</td>\n",
       "    </tr>\n",
       "    <tr>\n",
       "      <th>2521</th>\n",
       "      <td>Thanksgiving</td>\n",
       "      <td>2020-11-26</td>\n",
       "      <td>-7</td>\n",
       "      <td>2</td>\n",
       "    </tr>\n",
       "  </tbody>\n",
       "</table>\n",
       "</div>"
      ],
      "text/plain": [
       "           holiday         ds  lower_window  upper_window\n",
       "109         easter 2014-04-20            -3             4\n",
       "459         easter 2015-04-05            -3             4\n",
       "816         easter 2016-03-27            -3             4\n",
       "1201        easter 2017-04-16            -3             4\n",
       "1551        easter 2018-04-01            -3             4\n",
       "1936        easter 2019-04-21            -3             4\n",
       "2293        easter 2020-04-12            -3             4\n",
       "330   Thanksgiving 2014-11-27            -7             2\n",
       "694   Thanksgiving 2015-11-26            -7             2\n",
       "1058  Thanksgiving 2016-11-24            -7             2\n",
       "1422  Thanksgiving 2017-11-23            -7             2\n",
       "1786  Thanksgiving 2018-11-22            -7             2\n",
       "2157  Thanksgiving 2019-11-28            -7             2\n",
       "2521  Thanksgiving 2020-11-26            -7             2"
      ]
     },
     "execution_count": 51,
     "metadata": {},
     "output_type": "execute_result"
    }
   ],
   "source": [
    "#combine the holidays\n",
    "holidays = pd.concat([easter, Thanksgiving])\n",
    "holidays"
   ]
  },
  {
   "cell_type": "code",
   "execution_count": 52,
   "metadata": {
    "colab": {
     "base_uri": "https://localhost:8080/",
     "height": 49
    },
    "executionInfo": {
     "elapsed": 9,
     "status": "ok",
     "timestamp": 1669098455042,
     "user": {
      "displayName": "Diogo Resende",
      "userId": "05706604408624562002"
     },
     "user_tz": -60
    },
    "id": "SF8LTWK3__ej",
    "outputId": "d1496a2e-03e0-4311-a3bf-4c8c640783f7"
   },
   "outputs": [
    {
     "data": {
      "application/vnd.microsoft.datawrangler.viewer.v0+json": {
       "columns": [
        {
         "name": "index",
         "rawType": "int64",
         "type": "integer"
        },
        {
         "name": "ds",
         "rawType": "datetime64[ns]",
         "type": "datetime"
        },
        {
         "name": "y",
         "rawType": "int64",
         "type": "integer"
        },
        {
         "name": "Christmas",
         "rawType": "int64",
         "type": "integer"
        },
        {
         "name": "Temperature",
         "rawType": "float64",
         "type": "float"
        }
       ],
       "ref": "2ee5b821-8907-4c6e-aaec-be606756b739",
       "rows": [
        [
         "0",
         "2014-01-01 00:00:00",
         "50689",
         "0",
         "2.17"
        ],
        [
         "1",
         "2014-01-02 00:00:00",
         "50797",
         "0",
         "2.51"
        ]
       ],
       "shape": {
        "columns": 4,
        "rows": 2
       }
      },
      "text/html": [
       "<div>\n",
       "<style scoped>\n",
       "    .dataframe tbody tr th:only-of-type {\n",
       "        vertical-align: middle;\n",
       "    }\n",
       "\n",
       "    .dataframe tbody tr th {\n",
       "        vertical-align: top;\n",
       "    }\n",
       "\n",
       "    .dataframe thead th {\n",
       "        text-align: right;\n",
       "    }\n",
       "</style>\n",
       "<table border=\"1\" class=\"dataframe\">\n",
       "  <thead>\n",
       "    <tr style=\"text-align: right;\">\n",
       "      <th></th>\n",
       "      <th>ds</th>\n",
       "      <th>y</th>\n",
       "      <th>Christmas</th>\n",
       "      <th>Temperature</th>\n",
       "    </tr>\n",
       "  </thead>\n",
       "  <tbody>\n",
       "    <tr>\n",
       "      <th>0</th>\n",
       "      <td>2014-01-01</td>\n",
       "      <td>50689</td>\n",
       "      <td>0</td>\n",
       "      <td>2.17</td>\n",
       "    </tr>\n",
       "    <tr>\n",
       "      <th>1</th>\n",
       "      <td>2014-01-02</td>\n",
       "      <td>50797</td>\n",
       "      <td>0</td>\n",
       "      <td>2.51</td>\n",
       "    </tr>\n",
       "  </tbody>\n",
       "</table>\n",
       "</div>"
      ],
      "text/plain": [
       "          ds      y  Christmas  Temperature\n",
       "0 2014-01-01  50689          0         2.17\n",
       "1 2014-01-02  50797          0         2.51"
      ]
     },
     "execution_count": 52,
     "metadata": {},
     "output_type": "execute_result"
    }
   ],
   "source": [
    "#Tidying up the DF\n",
    "df = df.drop(columns = [\"Easter\", \"Thanksgiving\"])\n",
    "df.head(2)"
   ]
  },
  {
   "cell_type": "markdown",
   "metadata": {
    "id": "-GktZVJ5CSg3"
   },
   "source": [
    "# Facebook Prophet "
   ]
  },
  {
   "cell_type": "code",
   "execution_count": 53,
   "metadata": {
    "colab": {
     "base_uri": "https://localhost:8080/"
    },
    "executionInfo": {
     "elapsed": 9,
     "status": "ok",
     "timestamp": 1669098809611,
     "user": {
      "displayName": "Diogo Resende",
      "userId": "05706604408624562002"
     },
     "user_tz": -60
    },
    "id": "VLXn28MfBTpg",
    "outputId": "4dd43349-9b14-41ad-d4e1-985d12dbb22a"
   },
   "outputs": [
    {
     "name": "stdout",
     "output_type": "stream",
     "text": [
      "             ds      y  Christmas  Temperature\n",
      "2526 2020-12-01  53686          0        13.47\n",
      "             ds      y  Christmas  Temperature\n",
      "2525 2020-11-30  53745          0        16.62\n"
     ]
    }
   ],
   "source": [
    "#Training and Test Split\n",
    "test_days = 31\n",
    "training = df.iloc[:-test_days, : ]\n",
    "test = df.iloc[-test_days:, : ]\n",
    "print(test.head(1))\n",
    "print(training.tail(1))"
   ]
  },
  {
   "cell_type": "code",
   "execution_count": 54,
   "metadata": {
    "colab": {
     "base_uri": "https://localhost:8080/"
    },
    "executionInfo": {
     "elapsed": 1304,
     "status": "ok",
     "timestamp": 1669108487289,
     "user": {
      "displayName": "Diogo Resende",
      "userId": "05706604408624562002"
     },
     "user_tz": -60
    },
    "id": "xk67U1dVPUbl",
    "outputId": "a21f8349-ce12-49d9-8a68-df4cd394b5d9"
   },
   "outputs": [
    {
     "name": "stderr",
     "output_type": "stream",
     "text": [
      "23:55:04 - cmdstanpy - INFO - Chain [1] start processing\n",
      "23:55:09 - cmdstanpy - INFO - Chain [1] done processing\n"
     ]
    },
    {
     "data": {
      "text/plain": [
       "<prophet.forecaster.Prophet at 0x199b2ce4f50>"
      ]
     },
     "execution_count": 54,
     "metadata": {},
     "output_type": "execute_result"
    }
   ],
   "source": [
    "#Prophet Model\n",
    "m = Prophet(growth = 'linear',\n",
    "            yearly_seasonality = True,\n",
    "            weekly_seasonality = True,\n",
    "            daily_seasonality = False,\n",
    "            holidays = holidays,\n",
    "            seasonality_mode = 'multiplicative',\n",
    "            seasonality_prior_scale = 10,\n",
    "            holidays_prior_scale = 10,\n",
    "            changepoint_prior_scale= 0.05)\n",
    "m.add_regressor(\"Christmas\")\n",
    "m.add_regressor(\"Temperature\")\n",
    "#m.add_regressor('XXXX')\n",
    "m.fit(training)"
   ]
  },
  {
   "cell_type": "code",
   "execution_count": 55,
   "metadata": {
    "colab": {
     "base_uri": "https://localhost:8080/",
     "height": 81
    },
    "executionInfo": {
     "elapsed": 230,
     "status": "ok",
     "timestamp": 1669108490528,
     "user": {
      "displayName": "Diogo Resende",
      "userId": "05706604408624562002"
     },
     "user_tz": -60
    },
    "id": "WqMAKaowRG8k",
    "outputId": "684d700f-27a4-4d54-876e-d1c6eaf0c5cb"
   },
   "outputs": [
    {
     "data": {
      "application/vnd.microsoft.datawrangler.viewer.v0+json": {
       "columns": [
        {
         "name": "index",
         "rawType": "int64",
         "type": "integer"
        },
        {
         "name": "regressor",
         "rawType": "object",
         "type": "string"
        },
        {
         "name": "regressor_mode",
         "rawType": "object",
         "type": "string"
        },
        {
         "name": "center",
         "rawType": "float64",
         "type": "float"
        },
        {
         "name": "coef_lower",
         "rawType": "float64",
         "type": "float"
        },
        {
         "name": "coef",
         "rawType": "float64",
         "type": "float"
        },
        {
         "name": "coef_upper",
         "rawType": "float64",
         "type": "float"
        }
       ],
       "ref": "0b312b9c-2e9f-41c7-ba15-d35104c39723",
       "rows": [
        [
         "0",
         "Christmas",
         "multiplicative",
         "0.0",
         "-0.000131455",
         "-0.000131455",
         "-0.000131455"
        ],
        [
         "1",
         "Temperature",
         "multiplicative",
         "14.960233570863025",
         "-0.0001882208572142988",
         "-0.0001882208572142988",
         "-0.0001882208572142988"
        ]
       ],
       "shape": {
        "columns": 6,
        "rows": 2
       }
      },
      "text/html": [
       "<div>\n",
       "<style scoped>\n",
       "    .dataframe tbody tr th:only-of-type {\n",
       "        vertical-align: middle;\n",
       "    }\n",
       "\n",
       "    .dataframe tbody tr th {\n",
       "        vertical-align: top;\n",
       "    }\n",
       "\n",
       "    .dataframe thead th {\n",
       "        text-align: right;\n",
       "    }\n",
       "</style>\n",
       "<table border=\"1\" class=\"dataframe\">\n",
       "  <thead>\n",
       "    <tr style=\"text-align: right;\">\n",
       "      <th></th>\n",
       "      <th>regressor</th>\n",
       "      <th>regressor_mode</th>\n",
       "      <th>center</th>\n",
       "      <th>coef_lower</th>\n",
       "      <th>coef</th>\n",
       "      <th>coef_upper</th>\n",
       "    </tr>\n",
       "  </thead>\n",
       "  <tbody>\n",
       "    <tr>\n",
       "      <th>0</th>\n",
       "      <td>Christmas</td>\n",
       "      <td>multiplicative</td>\n",
       "      <td>0.000000</td>\n",
       "      <td>-0.000131</td>\n",
       "      <td>-0.000131</td>\n",
       "      <td>-0.000131</td>\n",
       "    </tr>\n",
       "    <tr>\n",
       "      <th>1</th>\n",
       "      <td>Temperature</td>\n",
       "      <td>multiplicative</td>\n",
       "      <td>14.960234</td>\n",
       "      <td>-0.000188</td>\n",
       "      <td>-0.000188</td>\n",
       "      <td>-0.000188</td>\n",
       "    </tr>\n",
       "  </tbody>\n",
       "</table>\n",
       "</div>"
      ],
      "text/plain": [
       "     regressor  regressor_mode     center  coef_lower      coef  coef_upper\n",
       "0    Christmas  multiplicative   0.000000   -0.000131 -0.000131   -0.000131\n",
       "1  Temperature  multiplicative  14.960234   -0.000188 -0.000188   -0.000188"
      ]
     },
     "execution_count": 55,
     "metadata": {},
     "output_type": "execute_result"
    }
   ],
   "source": [
    "#Regressor coefficients\n",
    "from prophet.utilities import regressor_coefficients\n",
    "regressor_coefficients(m)"
   ]
  },
  {
   "cell_type": "markdown",
   "metadata": {
    "id": "zNaMtP6tTHGU"
   },
   "source": [
    "# Accuracy Assesment"
   ]
  },
  {
   "cell_type": "code",
   "execution_count": 56,
   "metadata": {
    "colab": {
     "base_uri": "https://localhost:8080/",
     "height": 424
    },
    "executionInfo": {
     "elapsed": 453,
     "status": "ok",
     "timestamp": 1669108493394,
     "user": {
      "displayName": "Diogo Resende",
      "userId": "05706604408624562002"
     },
     "user_tz": -60
    },
    "id": "0lEDSxxbTJGU",
    "outputId": "8380a3bd-e225-4606-bde3-9f4a47557f6a"
   },
   "outputs": [
    {
     "data": {
      "application/vnd.microsoft.datawrangler.viewer.v0+json": {
       "columns": [
        {
         "name": "index",
         "rawType": "int64",
         "type": "integer"
        },
        {
         "name": "ds",
         "rawType": "datetime64[ns]",
         "type": "datetime"
        },
        {
         "name": "Christmas",
         "rawType": "int64",
         "type": "integer"
        },
        {
         "name": "Temperature",
         "rawType": "float64",
         "type": "float"
        }
       ],
       "ref": "acd8785f-4fba-4b09-bd0d-9e21dba55378",
       "rows": [
        [
         "0",
         "2014-01-01 00:00:00",
         "0",
         "2.17"
        ],
        [
         "1",
         "2014-01-02 00:00:00",
         "0",
         "2.51"
        ],
        [
         "2",
         "2014-01-03 00:00:00",
         "0",
         "-6.35"
        ],
        [
         "3",
         "2014-01-04 00:00:00",
         "0",
         "-1.27"
        ],
        [
         "4",
         "2014-01-05 00:00:00",
         "0",
         "7.18"
        ],
        [
         "5",
         "2014-01-06 00:00:00",
         "0",
         "9.89"
        ],
        [
         "6",
         "2014-01-07 00:00:00",
         "0",
         "-6.95"
        ],
        [
         "7",
         "2014-01-08 00:00:00",
         "0",
         "-4.06"
        ],
        [
         "8",
         "2014-01-09 00:00:00",
         "0",
         "-0.77"
        ],
        [
         "9",
         "2014-01-10 00:00:00",
         "0",
         "4.83"
        ],
        [
         "10",
         "2014-01-11 00:00:00",
         "0",
         "11.14"
        ],
        [
         "11",
         "2014-01-12 00:00:00",
         "0",
         "8.72"
        ],
        [
         "12",
         "2014-01-13 00:00:00",
         "0",
         "7.94"
        ],
        [
         "13",
         "2014-01-14 00:00:00",
         "0",
         "7.21"
        ],
        [
         "14",
         "2014-01-15 00:00:00",
         "0",
         "5.08"
        ],
        [
         "15",
         "2014-01-16 00:00:00",
         "0",
         "4.62"
        ],
        [
         "16",
         "2014-01-17 00:00:00",
         "0",
         "5.87"
        ],
        [
         "17",
         "2014-01-18 00:00:00",
         "0",
         "5.24"
        ],
        [
         "18",
         "2014-01-19 00:00:00",
         "0",
         "3.47"
        ],
        [
         "19",
         "2014-01-20 00:00:00",
         "0",
         "6.37"
        ],
        [
         "20",
         "2014-01-21 00:00:00",
         "0",
         "-1.25"
        ],
        [
         "21",
         "2014-01-22 00:00:00",
         "0",
         "-6.63"
        ],
        [
         "22",
         "2014-01-23 00:00:00",
         "0",
         "-5.62"
        ],
        [
         "23",
         "2014-01-24 00:00:00",
         "0",
         "-5.32"
        ],
        [
         "24",
         "2014-01-25 00:00:00",
         "0",
         "-0.89"
        ],
        [
         "25",
         "2014-01-26 00:00:00",
         "0",
         "0.39"
        ],
        [
         "26",
         "2014-01-27 00:00:00",
         "0",
         "4.82"
        ],
        [
         "27",
         "2014-01-28 00:00:00",
         "0",
         "-5.28"
        ],
        [
         "28",
         "2014-01-29 00:00:00",
         "0",
         "-3.99"
        ],
        [
         "29",
         "2014-01-30 00:00:00",
         "0",
         "-2.2"
        ],
        [
         "30",
         "2014-01-31 00:00:00",
         "0",
         "3.32"
        ],
        [
         "31",
         "2014-02-01 00:00:00",
         "0",
         "4.73"
        ],
        [
         "32",
         "2014-02-02 00:00:00",
         "0",
         "6.84"
        ],
        [
         "33",
         "2014-02-03 00:00:00",
         "0",
         "2.93"
        ],
        [
         "34",
         "2014-02-04 00:00:00",
         "0",
         "0.82"
        ],
        [
         "35",
         "2014-02-05 00:00:00",
         "0",
         "1.82"
        ],
        [
         "36",
         "2014-02-06 00:00:00",
         "0",
         "-0.95"
        ],
        [
         "37",
         "2014-02-07 00:00:00",
         "0",
         "-1.11"
        ],
        [
         "38",
         "2014-02-08 00:00:00",
         "0",
         "-2.83"
        ],
        [
         "39",
         "2014-02-09 00:00:00",
         "0",
         "-2.13"
        ],
        [
         "40",
         "2014-02-10 00:00:00",
         "0",
         "-2.7"
        ],
        [
         "41",
         "2014-02-11 00:00:00",
         "0",
         "-4.44"
        ],
        [
         "42",
         "2014-02-12 00:00:00",
         "0",
         "-1.13"
        ],
        [
         "43",
         "2014-02-13 00:00:00",
         "0",
         "1.54"
        ],
        [
         "44",
         "2014-02-14 00:00:00",
         "0",
         "2.26"
        ],
        [
         "45",
         "2014-02-15 00:00:00",
         "0",
         "1.79"
        ],
        [
         "46",
         "2014-02-16 00:00:00",
         "0",
         "-2.49"
        ],
        [
         "47",
         "2014-02-17 00:00:00",
         "0",
         "-2.17"
        ],
        [
         "48",
         "2014-02-18 00:00:00",
         "0",
         "2.58"
        ],
        [
         "49",
         "2014-02-19 00:00:00",
         "0",
         "3.9"
        ]
       ],
       "shape": {
        "columns": 3,
        "rows": 2557
       }
      },
      "text/html": [
       "<div>\n",
       "<style scoped>\n",
       "    .dataframe tbody tr th:only-of-type {\n",
       "        vertical-align: middle;\n",
       "    }\n",
       "\n",
       "    .dataframe tbody tr th {\n",
       "        vertical-align: top;\n",
       "    }\n",
       "\n",
       "    .dataframe thead th {\n",
       "        text-align: right;\n",
       "    }\n",
       "</style>\n",
       "<table border=\"1\" class=\"dataframe\">\n",
       "  <thead>\n",
       "    <tr style=\"text-align: right;\">\n",
       "      <th></th>\n",
       "      <th>ds</th>\n",
       "      <th>Christmas</th>\n",
       "      <th>Temperature</th>\n",
       "    </tr>\n",
       "  </thead>\n",
       "  <tbody>\n",
       "    <tr>\n",
       "      <th>0</th>\n",
       "      <td>2014-01-01</td>\n",
       "      <td>0</td>\n",
       "      <td>2.17</td>\n",
       "    </tr>\n",
       "    <tr>\n",
       "      <th>1</th>\n",
       "      <td>2014-01-02</td>\n",
       "      <td>0</td>\n",
       "      <td>2.51</td>\n",
       "    </tr>\n",
       "    <tr>\n",
       "      <th>2</th>\n",
       "      <td>2014-01-03</td>\n",
       "      <td>0</td>\n",
       "      <td>-6.35</td>\n",
       "    </tr>\n",
       "    <tr>\n",
       "      <th>3</th>\n",
       "      <td>2014-01-04</td>\n",
       "      <td>0</td>\n",
       "      <td>-1.27</td>\n",
       "    </tr>\n",
       "    <tr>\n",
       "      <th>4</th>\n",
       "      <td>2014-01-05</td>\n",
       "      <td>0</td>\n",
       "      <td>7.18</td>\n",
       "    </tr>\n",
       "    <tr>\n",
       "      <th>...</th>\n",
       "      <td>...</td>\n",
       "      <td>...</td>\n",
       "      <td>...</td>\n",
       "    </tr>\n",
       "    <tr>\n",
       "      <th>2552</th>\n",
       "      <td>2020-12-27</td>\n",
       "      <td>0</td>\n",
       "      <td>2.89</td>\n",
       "    </tr>\n",
       "    <tr>\n",
       "      <th>2553</th>\n",
       "      <td>2020-12-28</td>\n",
       "      <td>0</td>\n",
       "      <td>8.83</td>\n",
       "    </tr>\n",
       "    <tr>\n",
       "      <th>2554</th>\n",
       "      <td>2020-12-29</td>\n",
       "      <td>0</td>\n",
       "      <td>3.48</td>\n",
       "    </tr>\n",
       "    <tr>\n",
       "      <th>2555</th>\n",
       "      <td>2020-12-30</td>\n",
       "      <td>0</td>\n",
       "      <td>5.97</td>\n",
       "    </tr>\n",
       "    <tr>\n",
       "      <th>2556</th>\n",
       "      <td>2020-12-31</td>\n",
       "      <td>0</td>\n",
       "      <td>8.22</td>\n",
       "    </tr>\n",
       "  </tbody>\n",
       "</table>\n",
       "<p>2557 rows × 3 columns</p>\n",
       "</div>"
      ],
      "text/plain": [
       "             ds  Christmas  Temperature\n",
       "0    2014-01-01          0         2.17\n",
       "1    2014-01-02          0         2.51\n",
       "2    2014-01-03          0        -6.35\n",
       "3    2014-01-04          0        -1.27\n",
       "4    2014-01-05          0         7.18\n",
       "...         ...        ...          ...\n",
       "2552 2020-12-27          0         2.89\n",
       "2553 2020-12-28          0         8.83\n",
       "2554 2020-12-29          0         3.48\n",
       "2555 2020-12-30          0         5.97\n",
       "2556 2020-12-31          0         8.22\n",
       "\n",
       "[2557 rows x 3 columns]"
      ]
     },
     "execution_count": 56,
     "metadata": {},
     "output_type": "execute_result"
    }
   ],
   "source": [
    "#create future dataframe\n",
    "future = m.make_future_dataframe(periods = test_days,\n",
    "                                 freq = 'D')\n",
    "future = pd.concat([future, df.iloc[:, 2:]],\n",
    "                   axis = 1)\n",
    "future"
   ]
  },
  {
   "cell_type": "code",
   "execution_count": null,
   "metadata": {
    "colab": {
     "base_uri": "https://localhost:8080/"
    },
    "executionInfo": {
     "elapsed": 2412,
     "status": "ok",
     "timestamp": 1669108497867,
     "user": {
      "displayName": "Diogo Resende",
      "userId": "05706604408624562002"
     },
     "user_tz": -60
    },
    "id": "ntRMmyNvT-Ca",
    "outputId": "52e35222-bcb9-45e5-805a-f5b77c39a5f2"
   },
   "outputs": [
    {
     "data": {
      "application/vnd.microsoft.datawrangler.viewer.v0+json": {
       "columns": [
        {
         "name": "index",
         "rawType": "int64",
         "type": "integer"
        },
        {
         "name": "ds",
         "rawType": "datetime64[ns]",
         "type": "datetime"
        },
        {
         "name": "trend",
         "rawType": "float64",
         "type": "float"
        },
        {
         "name": "yhat_lower",
         "rawType": "float64",
         "type": "float"
        },
        {
         "name": "yhat_upper",
         "rawType": "float64",
         "type": "float"
        },
        {
         "name": "trend_lower",
         "rawType": "float64",
         "type": "float"
        },
        {
         "name": "trend_upper",
         "rawType": "float64",
         "type": "float"
        },
        {
         "name": "Christmas",
         "rawType": "float64",
         "type": "float"
        },
        {
         "name": "Christmas_lower",
         "rawType": "float64",
         "type": "float"
        },
        {
         "name": "Christmas_upper",
         "rawType": "float64",
         "type": "float"
        },
        {
         "name": "Temperature",
         "rawType": "float64",
         "type": "float"
        },
        {
         "name": "Temperature_lower",
         "rawType": "float64",
         "type": "float"
        },
        {
         "name": "Temperature_upper",
         "rawType": "float64",
         "type": "float"
        },
        {
         "name": "Thanksgiving",
         "rawType": "float64",
         "type": "float"
        },
        {
         "name": "Thanksgiving_lower",
         "rawType": "float64",
         "type": "float"
        },
        {
         "name": "Thanksgiving_upper",
         "rawType": "float64",
         "type": "float"
        },
        {
         "name": "easter",
         "rawType": "float64",
         "type": "float"
        },
        {
         "name": "easter_lower",
         "rawType": "float64",
         "type": "float"
        },
        {
         "name": "easter_upper",
         "rawType": "float64",
         "type": "float"
        },
        {
         "name": "extra_regressors_multiplicative",
         "rawType": "float64",
         "type": "float"
        },
        {
         "name": "extra_regressors_multiplicative_lower",
         "rawType": "float64",
         "type": "float"
        },
        {
         "name": "extra_regressors_multiplicative_upper",
         "rawType": "float64",
         "type": "float"
        },
        {
         "name": "holidays",
         "rawType": "float64",
         "type": "float"
        },
        {
         "name": "holidays_lower",
         "rawType": "float64",
         "type": "float"
        },
        {
         "name": "holidays_upper",
         "rawType": "float64",
         "type": "float"
        },
        {
         "name": "multiplicative_terms",
         "rawType": "float64",
         "type": "float"
        },
        {
         "name": "multiplicative_terms_lower",
         "rawType": "float64",
         "type": "float"
        },
        {
         "name": "multiplicative_terms_upper",
         "rawType": "float64",
         "type": "float"
        },
        {
         "name": "weekly",
         "rawType": "float64",
         "type": "float"
        },
        {
         "name": "weekly_lower",
         "rawType": "float64",
         "type": "float"
        },
        {
         "name": "weekly_upper",
         "rawType": "float64",
         "type": "float"
        },
        {
         "name": "yearly",
         "rawType": "float64",
         "type": "float"
        },
        {
         "name": "yearly_lower",
         "rawType": "float64",
         "type": "float"
        },
        {
         "name": "yearly_upper",
         "rawType": "float64",
         "type": "float"
        },
        {
         "name": "additive_terms",
         "rawType": "float64",
         "type": "float"
        },
        {
         "name": "additive_terms_lower",
         "rawType": "float64",
         "type": "float"
        },
        {
         "name": "additive_terms_upper",
         "rawType": "float64",
         "type": "float"
        },
        {
         "name": "yhat",
         "rawType": "float64",
         "type": "float"
        }
       ],
       "ref": "7ebbedec-18cc-4017-a483-73752d735c52",
       "rows": [
        [
         "0",
         "2014-01-01 00:00:00",
         "50073.737610000004",
         "50489.38794740501",
         "51247.75002314501",
         "50073.737610000004",
         "50073.737610000004",
         "0.0",
         "0.0",
         "0.0",
         "0.0024073887266789404",
         "0.0024073887266789404",
         "0.0024073887266789404",
         "0.0",
         "0.0",
         "0.0",
         "0.0",
         "0.0",
         "0.0",
         "0.0024073887266789404",
         "0.0024073887266789404",
         "0.0024073887266789404",
         "0.0",
         "0.0",
         "0.0",
         "0.01574554308259642",
         "0.01574554308259642",
         "0.01574554308259642",
         "0.0007303413559178326",
         "0.0007303413559178326",
         "0.0007303413559178326",
         "0.012607812999999647",
         "0.012607812999999647",
         "0.012607812999999647",
         "0.0",
         "0.0",
         "0.0",
         "50862.17580284488"
        ],
        [
         "1",
         "2014-01-02 00:00:00",
         "50094.47992426139",
         "50501.2300885287",
         "51219.15236853906",
         "50094.47992426139",
         "50094.47992426139",
         "0.0",
         "0.0",
         "0.0",
         "0.002343393635226079",
         "0.002343393635226079",
         "0.002343393635226079",
         "0.0",
         "0.0",
         "0.0",
         "0.0",
         "0.0",
         "0.0",
         "0.002343393635226079",
         "0.002343393635226079",
         "0.002343393635226079",
         "0.0",
         "0.0",
         "0.0",
         "0.015734571443459144",
         "0.015734571443459144",
         "0.015734571443459144",
         "0.0006207108000002253",
         "0.0006207108000002253",
         "0.0006207108000002253",
         "0.01277046700823284",
         "0.01277046700823284",
         "0.01277046700823284",
         "0.0",
         "0.0",
         "0.0",
         "50882.695097552605"
        ],
        [
         "2",
         "2014-01-03 00:00:00",
         "50115.22223852277",
         "50550.2284388715",
         "51294.754142879596",
         "50115.22223852277",
         "50115.22223852277",
         "0.0",
         "0.0",
         "0.0",
         "0.004011030430144766",
         "0.004011030430144766",
         "0.004011030430144766",
         "0.0",
         "0.0",
         "0.0",
         "0.0",
         "0.0",
         "0.0",
         "0.004011030430144766",
         "0.004011030430144766",
         "0.004011030430144766",
         "0.0",
         "0.0",
         "0.0",
         "0.01612396231904096",
         "0.01612396231904096",
         "0.01612396231904096",
         "-0.0008858167633958219",
         "-0.0008858167633958219",
         "-0.0008858167633958219",
         "0.012998748652292015",
         "0.012998748652292015",
         "0.012998748652292015",
         "0.0",
         "0.0",
         "0.0",
         "50923.27819350708"
        ],
        [
         "3",
         "2014-01-04 00:00:00",
         "50135.96455278416",
         "50501.58136986743",
         "51235.58691634895",
         "50135.96455278416",
         "50135.96455278416",
         "0.0",
         "0.0",
         "0.0",
         "0.0030548684754961282",
         "0.0030548684754961282",
         "0.0030548684754961282",
         "0.0",
         "0.0",
         "0.0",
         "0.0",
         "0.0",
         "0.0",
         "0.0030548684754961282",
         "0.0030548684754961282",
         "0.0030548684754961282",
         "0.0",
         "0.0",
         "0.0",
         "0.014785882906599799",
         "0.014785882906599799",
         "0.014785882906599799",
         "-0.0015597921766217786",
         "-0.0015597921766217786",
         "-0.0015597921766217786",
         "0.013290806607725449",
         "0.013290806607725449",
         "0.013290806607725449",
         "0.0",
         "0.0",
         "0.0",
         "50877.26905407107"
        ],
        [
         "4",
         "2014-01-05 00:00:00",
         "50156.70686704554",
         "50520.88747318613",
         "51307.092091868944",
         "50156.70686704554",
         "50156.70686704554",
         "0.0",
         "0.0",
         "0.0",
         "0.0014644022320353036",
         "0.0014644022320353036",
         "0.0014644022320353036",
         "0.0",
         "0.0",
         "0.0",
         "0.0",
         "0.0",
         "0.0",
         "0.0014644022320353036",
         "0.0014644022320353036",
         "0.0014644022320353036",
         "0.0",
         "0.0",
         "0.0",
         "0.015255702409992517",
         "0.015255702409992517",
         "0.015255702409992517",
         "0.00014782320555605443",
         "0.00014782320555605443",
         "0.00014782320555605443",
         "0.013643476972401158",
         "0.013643476972401158",
         "0.013643476972401158",
         "0.0",
         "0.0",
         "0.0",
         "50921.88266087441"
        ]
       ],
       "shape": {
        "columns": 37,
        "rows": 5
       }
      },
      "text/html": [
       "<div>\n",
       "<style scoped>\n",
       "    .dataframe tbody tr th:only-of-type {\n",
       "        vertical-align: middle;\n",
       "    }\n",
       "\n",
       "    .dataframe tbody tr th {\n",
       "        vertical-align: top;\n",
       "    }\n",
       "\n",
       "    .dataframe thead th {\n",
       "        text-align: right;\n",
       "    }\n",
       "</style>\n",
       "<table border=\"1\" class=\"dataframe\">\n",
       "  <thead>\n",
       "    <tr style=\"text-align: right;\">\n",
       "      <th></th>\n",
       "      <th>ds</th>\n",
       "      <th>trend</th>\n",
       "      <th>yhat_lower</th>\n",
       "      <th>yhat_upper</th>\n",
       "      <th>trend_lower</th>\n",
       "      <th>trend_upper</th>\n",
       "      <th>Christmas</th>\n",
       "      <th>Christmas_lower</th>\n",
       "      <th>Christmas_upper</th>\n",
       "      <th>Temperature</th>\n",
       "      <th>...</th>\n",
       "      <th>weekly</th>\n",
       "      <th>weekly_lower</th>\n",
       "      <th>weekly_upper</th>\n",
       "      <th>yearly</th>\n",
       "      <th>yearly_lower</th>\n",
       "      <th>yearly_upper</th>\n",
       "      <th>additive_terms</th>\n",
       "      <th>additive_terms_lower</th>\n",
       "      <th>additive_terms_upper</th>\n",
       "      <th>yhat</th>\n",
       "    </tr>\n",
       "  </thead>\n",
       "  <tbody>\n",
       "    <tr>\n",
       "      <th>0</th>\n",
       "      <td>2014-01-01</td>\n",
       "      <td>50073.737610</td>\n",
       "      <td>50489.387947</td>\n",
       "      <td>51247.750023</td>\n",
       "      <td>50073.737610</td>\n",
       "      <td>50073.737610</td>\n",
       "      <td>0.0</td>\n",
       "      <td>0.0</td>\n",
       "      <td>0.0</td>\n",
       "      <td>0.002407</td>\n",
       "      <td>...</td>\n",
       "      <td>0.000730</td>\n",
       "      <td>0.000730</td>\n",
       "      <td>0.000730</td>\n",
       "      <td>0.012608</td>\n",
       "      <td>0.012608</td>\n",
       "      <td>0.012608</td>\n",
       "      <td>0.0</td>\n",
       "      <td>0.0</td>\n",
       "      <td>0.0</td>\n",
       "      <td>50862.175803</td>\n",
       "    </tr>\n",
       "    <tr>\n",
       "      <th>1</th>\n",
       "      <td>2014-01-02</td>\n",
       "      <td>50094.479924</td>\n",
       "      <td>50501.230089</td>\n",
       "      <td>51219.152369</td>\n",
       "      <td>50094.479924</td>\n",
       "      <td>50094.479924</td>\n",
       "      <td>0.0</td>\n",
       "      <td>0.0</td>\n",
       "      <td>0.0</td>\n",
       "      <td>0.002343</td>\n",
       "      <td>...</td>\n",
       "      <td>0.000621</td>\n",
       "      <td>0.000621</td>\n",
       "      <td>0.000621</td>\n",
       "      <td>0.012770</td>\n",
       "      <td>0.012770</td>\n",
       "      <td>0.012770</td>\n",
       "      <td>0.0</td>\n",
       "      <td>0.0</td>\n",
       "      <td>0.0</td>\n",
       "      <td>50882.695098</td>\n",
       "    </tr>\n",
       "    <tr>\n",
       "      <th>2</th>\n",
       "      <td>2014-01-03</td>\n",
       "      <td>50115.222239</td>\n",
       "      <td>50550.228439</td>\n",
       "      <td>51294.754143</td>\n",
       "      <td>50115.222239</td>\n",
       "      <td>50115.222239</td>\n",
       "      <td>0.0</td>\n",
       "      <td>0.0</td>\n",
       "      <td>0.0</td>\n",
       "      <td>0.004011</td>\n",
       "      <td>...</td>\n",
       "      <td>-0.000886</td>\n",
       "      <td>-0.000886</td>\n",
       "      <td>-0.000886</td>\n",
       "      <td>0.012999</td>\n",
       "      <td>0.012999</td>\n",
       "      <td>0.012999</td>\n",
       "      <td>0.0</td>\n",
       "      <td>0.0</td>\n",
       "      <td>0.0</td>\n",
       "      <td>50923.278194</td>\n",
       "    </tr>\n",
       "    <tr>\n",
       "      <th>3</th>\n",
       "      <td>2014-01-04</td>\n",
       "      <td>50135.964553</td>\n",
       "      <td>50501.581370</td>\n",
       "      <td>51235.586916</td>\n",
       "      <td>50135.964553</td>\n",
       "      <td>50135.964553</td>\n",
       "      <td>0.0</td>\n",
       "      <td>0.0</td>\n",
       "      <td>0.0</td>\n",
       "      <td>0.003055</td>\n",
       "      <td>...</td>\n",
       "      <td>-0.001560</td>\n",
       "      <td>-0.001560</td>\n",
       "      <td>-0.001560</td>\n",
       "      <td>0.013291</td>\n",
       "      <td>0.013291</td>\n",
       "      <td>0.013291</td>\n",
       "      <td>0.0</td>\n",
       "      <td>0.0</td>\n",
       "      <td>0.0</td>\n",
       "      <td>50877.269054</td>\n",
       "    </tr>\n",
       "    <tr>\n",
       "      <th>4</th>\n",
       "      <td>2014-01-05</td>\n",
       "      <td>50156.706867</td>\n",
       "      <td>50520.887473</td>\n",
       "      <td>51307.092092</td>\n",
       "      <td>50156.706867</td>\n",
       "      <td>50156.706867</td>\n",
       "      <td>0.0</td>\n",
       "      <td>0.0</td>\n",
       "      <td>0.0</td>\n",
       "      <td>0.001464</td>\n",
       "      <td>...</td>\n",
       "      <td>0.000148</td>\n",
       "      <td>0.000148</td>\n",
       "      <td>0.000148</td>\n",
       "      <td>0.013643</td>\n",
       "      <td>0.013643</td>\n",
       "      <td>0.013643</td>\n",
       "      <td>0.0</td>\n",
       "      <td>0.0</td>\n",
       "      <td>0.0</td>\n",
       "      <td>50921.882661</td>\n",
       "    </tr>\n",
       "  </tbody>\n",
       "</table>\n",
       "<p>5 rows × 37 columns</p>\n",
       "</div>"
      ],
      "text/plain": [
       "          ds         trend    yhat_lower    yhat_upper   trend_lower  \\\n",
       "0 2014-01-01  50073.737610  50489.387947  51247.750023  50073.737610   \n",
       "1 2014-01-02  50094.479924  50501.230089  51219.152369  50094.479924   \n",
       "2 2014-01-03  50115.222239  50550.228439  51294.754143  50115.222239   \n",
       "3 2014-01-04  50135.964553  50501.581370  51235.586916  50135.964553   \n",
       "4 2014-01-05  50156.706867  50520.887473  51307.092092  50156.706867   \n",
       "\n",
       "    trend_upper  Christmas  Christmas_lower  Christmas_upper  Temperature  \\\n",
       "0  50073.737610        0.0              0.0              0.0     0.002407   \n",
       "1  50094.479924        0.0              0.0              0.0     0.002343   \n",
       "2  50115.222239        0.0              0.0              0.0     0.004011   \n",
       "3  50135.964553        0.0              0.0              0.0     0.003055   \n",
       "4  50156.706867        0.0              0.0              0.0     0.001464   \n",
       "\n",
       "   ...    weekly  weekly_lower  weekly_upper    yearly  yearly_lower  \\\n",
       "0  ...  0.000730      0.000730      0.000730  0.012608      0.012608   \n",
       "1  ...  0.000621      0.000621      0.000621  0.012770      0.012770   \n",
       "2  ... -0.000886     -0.000886     -0.000886  0.012999      0.012999   \n",
       "3  ... -0.001560     -0.001560     -0.001560  0.013291      0.013291   \n",
       "4  ...  0.000148      0.000148      0.000148  0.013643      0.013643   \n",
       "\n",
       "   yearly_upper  additive_terms  additive_terms_lower  additive_terms_upper  \\\n",
       "0      0.012608             0.0                   0.0                   0.0   \n",
       "1      0.012770             0.0                   0.0                   0.0   \n",
       "2      0.012999             0.0                   0.0                   0.0   \n",
       "3      0.013291             0.0                   0.0                   0.0   \n",
       "4      0.013643             0.0                   0.0                   0.0   \n",
       "\n",
       "           yhat  \n",
       "0  50862.175803  \n",
       "1  50882.695098  \n",
       "2  50923.278194  \n",
       "3  50877.269054  \n",
       "4  50921.882661  \n",
       "\n",
       "[5 rows x 37 columns]"
      ]
     },
     "execution_count": 58,
     "metadata": {},
     "output_type": "execute_result"
    }
   ],
   "source": [
    "#forecasting\n",
    "forecast = m.predict(future)\n",
    "forecast.head()"
   ]
  },
  {
   "cell_type": "code",
   "execution_count": 59,
   "metadata": {
    "id": "HHxSvAdFpiB1"
   },
   "outputs": [
    {
     "data": {
      "application/vnd.microsoft.datawrangler.viewer.v0+json": {
       "columns": [
        {
         "name": "index",
         "rawType": "int64",
         "type": "integer"
        },
        {
         "name": "yhat",
         "rawType": "float64",
         "type": "float"
        }
       ],
       "ref": "96d078df-d191-4222-a566-99b0c8a06f82",
       "rows": [
        [
         "2526",
         "54920.12510154556"
        ],
        [
         "2527",
         "55025.26065443589"
        ]
       ],
       "shape": {
        "columns": 1,
        "rows": 2
       }
      },
      "text/plain": [
       "2526    54920.125102\n",
       "2527    55025.260654\n",
       "Name: yhat, dtype: float64"
      ]
     },
     "execution_count": 59,
     "metadata": {},
     "output_type": "execute_result"
    }
   ],
   "source": [
    "#Retrieve the predictions\n",
    "predictions = forecast.yhat[-test_days:]\n",
    "predictions[:2]"
   ]
  },
  {
   "cell_type": "code",
   "execution_count": 60,
   "metadata": {
    "colab": {
     "base_uri": "https://localhost:8080/"
    },
    "executionInfo": {
     "elapsed": 256,
     "status": "ok",
     "timestamp": 1669109231346,
     "user": {
      "displayName": "Diogo Resende",
      "userId": "05706604408624562002"
     },
     "user_tz": -60
    },
    "id": "YvBw1Mzlpfxo",
    "outputId": "250723cd-347b-4c55-c82c-2bda5a8c3421"
   },
   "outputs": [
    {
     "name": "stdout",
     "output_type": "stream",
     "text": [
      "1323.0145383721344\n",
      "1329.3011608582585\n"
     ]
    }
   ],
   "source": [
    "#Accuracy assessment\n",
    "#MAR-RMSE\n",
    "from sklearn.metrics import mean_squared_error, mean_absolute_error\n",
    "print(mean_absolute_error(test.y, predictions))\n",
    "print(np.sqrt(mean_squared_error(test.y, predictions)))"
   ]
  },
  {
   "cell_type": "markdown",
   "metadata": {
    "id": "8SLoUHrMrEIb"
   },
   "source": [
    "# Visualization"
   ]
  },
  {
   "cell_type": "code",
   "execution_count": 61,
   "metadata": {
    "colab": {
     "base_uri": "https://localhost:8080/",
     "height": 441
    },
    "executionInfo": {
     "elapsed": 1399,
     "status": "ok",
     "timestamp": 1669109441233,
     "user": {
      "displayName": "Diogo Resende",
      "userId": "05706604408624562002"
     },
     "user_tz": -60
    },
    "id": "aZsZmbEHrFTY",
    "outputId": "af2dbde4-4cf2-48c8-9226-3e4850f30eb0"
   },
   "outputs": [
    {
     "data": {
      "image/png": "[encoded data removed]",
      "text/plain": [
       "<Figure size 1000x600 with 1 Axes>"
      ]
     },
     "metadata": {},
     "output_type": "display_data"
    }
   ],
   "source": [
    "#Visualize the forecast\n",
    "m.plot(forecast);"
   ]
  },
  {
   "cell_type": "code",
   "execution_count": 62,
   "metadata": {
    "colab": {
     "base_uri": "https://localhost:8080/",
     "height": 1000
    },
    "executionInfo": {
     "elapsed": 2929,
     "status": "ok",
     "timestamp": 1669109564794,
     "user": {
      "displayName": "Diogo Resende",
      "userId": "05706604408624562002"
     },
     "user_tz": -60
    },
    "id": "LpuQnwaerfVQ",
    "outputId": "d68db0b0-b455-4ee7-90b4-876ca39dd363"
   },
   "outputs": [
    {
     "data": {
      "image/png": "[encoded data removed]",
      "text/plain": [
       "<Figure size 900x1500 with 5 Axes>"
      ]
     },
     "metadata": {},
     "output_type": "display_data"
    }
   ],
   "source": [
    "#plot components -> Structural Time Series decomposition\n",
    "m.plot_components(forecast);"
   ]
  },
  {
   "cell_type": "markdown",
   "metadata": {
    "id": "WBT0T6dA2NIP"
   },
   "source": [
    "# Cross-Validation"
   ]
  },
  {
   "cell_type": "code",
   "execution_count": 63,
   "metadata": {
    "id": "jWzIPlvj2OZG"
   },
   "outputs": [],
   "source": [
    "#CV\n",
    "from prophet.diagnostics import cross_validation\n",
    "df_cv = cross_validation(m,\n",
    "                         horizon = '31 days',\n",
    "                         initial = '1450 days',\n",
    "                         parallel = 'processes')"
   ]
  },
  {
   "cell_type": "code",
   "execution_count": 64,
   "metadata": {
    "colab": {
     "base_uri": "https://localhost:8080/",
     "height": 206
    },
    "executionInfo": {
     "elapsed": 271,
     "status": "ok",
     "timestamp": 1669112674618,
     "user": {
      "displayName": "Diogo Resende",
      "userId": "05706604408624562002"
     },
     "user_tz": -60
    },
    "id": "1185oflv2tbq",
    "outputId": "42e19464-90b9-4074-94de-b1d0fcac0f8a"
   },
   "outputs": [
    {
     "data": {
      "application/vnd.microsoft.datawrangler.viewer.v0+json": {
       "columns": [
        {
         "name": "index",
         "rawType": "int64",
         "type": "integer"
        },
        {
         "name": "ds",
         "rawType": "datetime64[ns]",
         "type": "datetime"
        },
        {
         "name": "yhat",
         "rawType": "float64",
         "type": "float"
        },
        {
         "name": "yhat_lower",
         "rawType": "float64",
         "type": "float"
        },
        {
         "name": "yhat_upper",
         "rawType": "float64",
         "type": "float"
        },
        {
         "name": "y",
         "rawType": "int64",
         "type": "integer"
        },
        {
         "name": "cutoff",
         "rawType": "datetime64[ns]",
         "type": "datetime"
        }
       ],
       "ref": "e5f504c5-6253-4d89-b2e8-85fdb8597d57",
       "rows": [
        [
         "0",
         "2017-12-27 00:00:00",
         "60079.5929919958",
         "59913.15266524026",
         "60252.78169640332",
         "60033",
         "2017-12-26 12:00:00"
        ],
        [
         "1",
         "2017-12-28 00:00:00",
         "60063.59925637066",
         "59887.8147370517",
         "60239.194335474705",
         "60079",
         "2017-12-26 12:00:00"
        ],
        [
         "2",
         "2017-12-29 00:00:00",
         "59937.327738666434",
         "59755.36146289852",
         "60103.14410682403",
         "60050",
         "2017-12-26 12:00:00"
        ],
        [
         "3",
         "2017-12-30 00:00:00",
         "59857.59813929001",
         "59686.23175844719",
         "60031.45385477924",
         "60017",
         "2017-12-26 12:00:00"
        ],
        [
         "4",
         "2017-12-31 00:00:00",
         "59965.17753005409",
         "59791.126759629165",
         "60143.34553756377",
         "59933",
         "2017-12-26 12:00:00"
        ]
       ],
       "shape": {
        "columns": 6,
        "rows": 5
       }
      },
      "text/html": [
       "<div>\n",
       "<style scoped>\n",
       "    .dataframe tbody tr th:only-of-type {\n",
       "        vertical-align: middle;\n",
       "    }\n",
       "\n",
       "    .dataframe tbody tr th {\n",
       "        vertical-align: top;\n",
       "    }\n",
       "\n",
       "    .dataframe thead th {\n",
       "        text-align: right;\n",
       "    }\n",
       "</style>\n",
       "<table border=\"1\" class=\"dataframe\">\n",
       "  <thead>\n",
       "    <tr style=\"text-align: right;\">\n",
       "      <th></th>\n",
       "      <th>ds</th>\n",
       "      <th>yhat</th>\n",
       "      <th>yhat_lower</th>\n",
       "      <th>yhat_upper</th>\n",
       "      <th>y</th>\n",
       "      <th>cutoff</th>\n",
       "    </tr>\n",
       "  </thead>\n",
       "  <tbody>\n",
       "    <tr>\n",
       "      <th>0</th>\n",
       "      <td>2017-12-27</td>\n",
       "      <td>60079.592992</td>\n",
       "      <td>59913.152665</td>\n",
       "      <td>60252.781696</td>\n",
       "      <td>60033</td>\n",
       "      <td>2017-12-26 12:00:00</td>\n",
       "    </tr>\n",
       "    <tr>\n",
       "      <th>1</th>\n",
       "      <td>2017-12-28</td>\n",
       "      <td>60063.599256</td>\n",
       "      <td>59887.814737</td>\n",
       "      <td>60239.194335</td>\n",
       "      <td>60079</td>\n",
       "      <td>2017-12-26 12:00:00</td>\n",
       "    </tr>\n",
       "    <tr>\n",
       "      <th>2</th>\n",
       "      <td>2017-12-29</td>\n",
       "      <td>59937.327739</td>\n",
       "      <td>59755.361463</td>\n",
       "      <td>60103.144107</td>\n",
       "      <td>60050</td>\n",
       "      <td>2017-12-26 12:00:00</td>\n",
       "    </tr>\n",
       "    <tr>\n",
       "      <th>3</th>\n",
       "      <td>2017-12-30</td>\n",
       "      <td>59857.598139</td>\n",
       "      <td>59686.231758</td>\n",
       "      <td>60031.453855</td>\n",
       "      <td>60017</td>\n",
       "      <td>2017-12-26 12:00:00</td>\n",
       "    </tr>\n",
       "    <tr>\n",
       "      <th>4</th>\n",
       "      <td>2017-12-31</td>\n",
       "      <td>59965.177530</td>\n",
       "      <td>59791.126760</td>\n",
       "      <td>60143.345538</td>\n",
       "      <td>59933</td>\n",
       "      <td>2017-12-26 12:00:00</td>\n",
       "    </tr>\n",
       "  </tbody>\n",
       "</table>\n",
       "</div>"
      ],
      "text/plain": [
       "          ds          yhat    yhat_lower    yhat_upper      y  \\\n",
       "0 2017-12-27  60079.592992  59913.152665  60252.781696  60033   \n",
       "1 2017-12-28  60063.599256  59887.814737  60239.194335  60079   \n",
       "2 2017-12-29  59937.327739  59755.361463  60103.144107  60050   \n",
       "3 2017-12-30  59857.598139  59686.231758  60031.453855  60017   \n",
       "4 2017-12-31  59965.177530  59791.126760  60143.345538  59933   \n",
       "\n",
       "               cutoff  \n",
       "0 2017-12-26 12:00:00  \n",
       "1 2017-12-26 12:00:00  \n",
       "2 2017-12-26 12:00:00  \n",
       "3 2017-12-26 12:00:00  \n",
       "4 2017-12-26 12:00:00  "
      ]
     },
     "execution_count": 64,
     "metadata": {},
     "output_type": "execute_result"
    }
   ],
   "source": [
    "#Output of the CV\n",
    "df_cv.head()"
   ]
  },
  {
   "cell_type": "code",
   "execution_count": 65,
   "metadata": {
    "colab": {
     "base_uri": "https://localhost:8080/"
    },
    "executionInfo": {
     "elapsed": 738,
     "status": "ok",
     "timestamp": 1669112876911,
     "user": {
      "displayName": "Diogo Resende",
      "userId": "05706604408624562002"
     },
     "user_tz": -60
    },
    "id": "iNGYMqwK3-Je",
    "outputId": "b8fff37f-e0f7-4093-e6b5-f7f5a34d3d32"
   },
   "outputs": [
    {
     "name": "stdout",
     "output_type": "stream",
     "text": [
      "497.12924456057937\n",
      "765.5290683202406\n"
     ]
    }
   ],
   "source": [
    "#Error assessment\n",
    "print(mean_absolute_error(df_cv['y'], df_cv['yhat']))\n",
    "print(np.sqrt(mean_squared_error(df_cv['y'], df_cv['yhat'])))"
   ]
  },
  {
   "cell_type": "code",
   "execution_count": 66,
   "metadata": {
    "colab": {
     "base_uri": "https://localhost:8080/",
     "height": 477
    },
    "executionInfo": {
     "elapsed": 1144,
     "status": "ok",
     "timestamp": 1669113075248,
     "user": {
      "displayName": "Diogo Resende",
      "userId": "05706604408624562002"
     },
     "user_tz": -60
    },
    "id": "OxA4PAOt4maU",
    "outputId": "b684735d-6c37-40dd-97af-07ee669bfa6b"
   },
   "outputs": [
    {
     "name": "stderr",
     "output_type": "stream",
     "text": [
      "c:\\Program Files\\Python313\\Lib\\site-packages\\prophet\\plot.py:547: FutureWarning: Series.view is deprecated and will be removed in a future version. Use ``astype`` as an alternative to change the dtype.\n",
      "  x_plt = df_none['horizon'].astype('timedelta64[ns]').view(np.int64) / float(dt_conversions[i])\n",
      "c:\\Program Files\\Python313\\Lib\\site-packages\\prophet\\plot.py:548: FutureWarning: Series.view is deprecated and will be removed in a future version. Use ``astype`` as an alternative to change the dtype.\n",
      "  x_plt_h = df_h['horizon'].astype('timedelta64[ns]').view(np.int64) / float(dt_conversions[i])\n"
     ]
    },
    {
     "data": {
      "image/png": "[encoded data removed]",
      "text/plain": [
       "<Figure size 1000x600 with 1 Axes>"
      ]
     },
     "metadata": {},
     "output_type": "display_data"
    }
   ],
   "source": [
    "#CV Visualization\n",
    "from prophet.plot import plot_cross_validation_metric\n",
    "plot_cross_validation_metric(df_cv,\n",
    "                             metric = 'rmse');"
   ]
  },
  {
   "cell_type": "markdown",
   "metadata": {
    "id": "XeCtLdmt65KE"
   },
   "source": [
    "# Parameter tuning"
   ]
  },
  {
   "cell_type": "code",
   "execution_count": 67,
   "metadata": {
    "colab": {
     "base_uri": "https://localhost:8080/"
    },
    "executionInfo": {
     "elapsed": 259,
     "status": "ok",
     "timestamp": 1669113818620,
     "user": {
      "displayName": "Diogo Resende",
      "userId": "05706604408624562002"
     },
     "user_tz": -60
    },
    "id": "n8f4KY4h67v5",
    "outputId": "33708ac8-4b96-40b3-d951-04f87035b07b"
   },
   "outputs": [
    {
     "data": {
      "text/plain": [
       "27"
      ]
     },
     "execution_count": 67,
     "metadata": {},
     "output_type": "execute_result"
    }
   ],
   "source": [
    "#Parameter Grid\n",
    "from sklearn.model_selection import ParameterGrid\n",
    "param_grid = {'seasonality_prior_scale': [5, 10, 20],\n",
    "              'holidays_prior_scale': [5, 10, 20],\n",
    "              'changepoint_prior_scale': [0.01, 0.05, 0.1]}\n",
    "grid = ParameterGrid(param_grid)\n",
    "len(list(grid))              "
   ]
  },
  {
   "cell_type": "code",
   "execution_count": null,
   "metadata": {
    "id": "zwC6nxeU8WTu"
   },
   "outputs": [],
   "source": [
    "#Empty list to store results\n",
    "rmse = []\n",
    "#start the loop\n",
    "for params in grid:\n",
    "  #build the model\n",
    "  m = Prophet(growth = 'linear',\n",
    "            yearly_seasonality = True,\n",
    "            weekly_seasonality = True,\n",
    "            daily_seasonality = False,\n",
    "            holidays = holidays,\n",
    "            seasonality_mode = 'multiplicative',\n",
    "            seasonality_prior_scale = params['seasonality_prior_scale'],\n",
    "            holidays_prior_scale = params['holidays_prior_scale'],\n",
    "            changepoint_prior_scale= params['changepoint_prior_scale'])\n",
    "  m.add_regressor(\"Christmas\")\n",
    "  m.add_regressor(\"Temperature\")\n",
    "  m.fit(training)\n",
    "\n",
    "  #Cross-Validation\n",
    "  df_cv = cross_validation(m,\n",
    "                           horizon = '31 days',\n",
    "                           initial = '2300 days',\n",
    "                           parallel = 'processes')\n",
    "\n",
    "  #Measure and store results\n",
    "  error = np.sqrt(mean_squared_error(df_cv.y, df_cv.yhat))\n",
    "  rmse.append(error)"
   ]
  },
  {
   "cell_type": "code",
   "execution_count": 69,
   "metadata": {},
   "outputs": [
    {
     "data": {
      "text/plain": [
       "(2526, 4)"
      ]
     },
     "execution_count": 69,
     "metadata": {},
     "output_type": "execute_result"
    }
   ],
   "source": [
    "# finding how many observations\n",
    "training.shape"
   ]
  },
  {
   "cell_type": "code",
   "execution_count": 70,
   "metadata": {},
   "outputs": [
    {
     "name": "stdout",
     "output_type": "stream",
     "text": [
      "{'seasonality_prior_scale': 20, 'holidays_prior_scale': 20, 'changepoint_prior_scale': 0.1}\n"
     ]
    }
   ],
   "source": [
    "#Find the best parameters\n",
    "best_params = grid[np.argmin(rmse)]\n",
    "print(best_params)"
   ]
  },
  {
   "cell_type": "code",
   "execution_count": null,
   "metadata": {},
   "outputs": [],
   "source": []
  }
 ],
 "metadata": {
  "colab": {
   "authorship_tag": "ABX9TyNaaupqFvRRSZcJrC/Cz62o",
   "mount_file_id": "1Yj03O2UjcGB3FK6KdSzl54l29giA4gTV",
   "provenance": []
  },
  "kernelspec": {
   "display_name": "Python 3",
   "name": "python3"
  },
  "language_info": {
   "codemirror_mode": {
    "name": "ipython",
    "version": 3
   },
   "file_extension": ".py",
   "mimetype": "text/x-python",
   "name": "python",
   "nbconvert_exporter": "python",
   "pygments_lexer": "ipython3",
   "version": "3.13.2"
  }
 },
 "nbformat": 4,
 "nbformat_minor": 0
}
