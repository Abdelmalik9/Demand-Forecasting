{
 "cells": [
  {
   "cell_type": "markdown",
   "metadata": {
    "id": "3tV6dsPphjh-"
   },
   "source": [
    "# Directory, Libraries and Data"
   ]
  },
  {
   "cell_type": "code",
   "execution_count": 5,
   "metadata": {
    "id": "9_qRIMyDhuJg"
   },
   "outputs": [],
   "source": [
    "#Import libraries\n",
    "import numpy as np\n",
    "import pandas as pd\n",
    "from prophet import Prophet"
   ]
  },
  {
   "cell_type": "code",
   "execution_count": 34,
   "metadata": {
    "colab": {
     "base_uri": "https://localhost:8080/",
     "height": 206
    },
    "executionInfo": {
     "elapsed": 523,
     "status": "ok",
     "timestamp": 1669098453499,
     "user": {
      "displayName": "Diogo Resende",
      "userId": "05706604408624562002"
     },
     "user_tz": -60
    },
    "id": "E0wPJ7Rbh2E3",
    "outputId": "f8201671-aff1-4aa6-e5ec-df35f6258b4c"
   },
   "outputs": [
    {
     "data": {
      "application/vnd.microsoft.datawrangler.viewer.v0+json": {
       "columns": [
        {
         "name": "index",
         "rawType": "int64",
         "type": "integer"
        },
        {
         "name": "Date",
         "rawType": "object",
         "type": "string"
        },
        {
         "name": "Udemy",
         "rawType": "int64",
         "type": "integer"
        },
        {
         "name": "Easter",
         "rawType": "int64",
         "type": "integer"
        },
        {
         "name": "Christmas",
         "rawType": "int64",
         "type": "integer"
        },
        {
         "name": "Black Friday",
         "rawType": "int64",
         "type": "integer"
        }
       ],
       "ref": "cfdf266f-887e-4261-a895-525a2fff4294",
       "rows": [
        [
         "1794",
         "11/29/2020",
         "1883",
         "0",
         "0",
         "0"
        ],
        [
         "1795",
         "11/30/2020",
         "2551",
         "0",
         "0",
         "0"
        ],
        [
         "1796",
         "12/1/2020",
         "2393",
         "0",
         "0",
         "0"
        ],
        [
         "1797",
         "12/2/2020",
         "2185",
         "0",
         "0",
         "0"
        ],
        [
         "1798",
         "12/3/2020",
         "2249",
         "0",
         "0",
         "0"
        ],
        [
         "1799",
         "12/4/2020",
         "1964",
         "0",
         "0",
         "0"
        ],
        [
         "1800",
         "12/5/2020",
         "1603",
         "0",
         "0",
         "0"
        ],
        [
         "1801",
         "12/6/2020",
         "1753",
         "0",
         "0",
         "0"
        ],
        [
         "1802",
         "12/7/2020",
         "2165",
         "0",
         "0",
         "0"
        ],
        [
         "1803",
         "12/8/2020",
         "2007",
         "0",
         "0",
         "0"
        ],
        [
         "1804",
         "12/9/2020",
         "1929",
         "0",
         "0",
         "0"
        ],
        [
         "1805",
         "12/10/2020",
         "2058",
         "0",
         "0",
         "0"
        ],
        [
         "1806",
         "12/11/2020",
         "1879",
         "0",
         "0",
         "0"
        ],
        [
         "1807",
         "12/12/2020",
         "1540",
         "0",
         "0",
         "0"
        ],
        [
         "1808",
         "12/13/2020",
         "1742",
         "0",
         "0",
         "0"
        ],
        [
         "1809",
         "12/14/2020",
         "2131",
         "0",
         "0",
         "0"
        ],
        [
         "1810",
         "12/15/2020",
         "2199",
         "0",
         "0",
         "0"
        ],
        [
         "1811",
         "12/16/2020",
         "2182",
         "0",
         "0",
         "0"
        ],
        [
         "1812",
         "12/17/2020",
         "1944",
         "0",
         "0",
         "0"
        ],
        [
         "1813",
         "12/18/2020",
         "1729",
         "0",
         "0",
         "0"
        ],
        [
         "1814",
         "12/19/2020",
         "1367",
         "0",
         "0",
         "0"
        ],
        [
         "1815",
         "12/20/2020",
         "1679",
         "0",
         "0",
         "0"
        ],
        [
         "1816",
         "12/21/2020",
         "1876",
         "0",
         "0",
         "0"
        ],
        [
         "1817",
         "12/22/2020",
         "1960",
         "0",
         "0",
         "0"
        ],
        [
         "1818",
         "12/23/2020",
         "1681",
         "0",
         "0",
         "0"
        ],
        [
         "1819",
         "12/24/2020",
         "1605",
         "0",
         "0",
         "0"
        ],
        [
         "1820",
         "12/25/2020",
         "1388",
         "0",
         "1",
         "0"
        ],
        [
         "1821",
         "12/26/2020",
         "1593",
         "0",
         "0",
         "0"
        ],
        [
         "1822",
         "12/27/2020",
         "1719",
         "0",
         "0",
         "0"
        ],
        [
         "1823",
         "12/28/2020",
         "2040",
         "0",
         "0",
         "0"
        ],
        [
         "1824",
         "12/29/2020",
         "2178",
         "0",
         "0",
         "0"
        ],
        [
         "1825",
         "12/30/2020",
         "1992",
         "0",
         "0",
         "0"
        ],
        [
         "1826",
         "12/31/2020",
         "1635",
         "0",
         "0",
         "0"
        ]
       ],
       "shape": {
        "columns": 5,
        "rows": 33
       }
      },
      "text/html": [
       "<div>\n",
       "<style scoped>\n",
       "    .dataframe tbody tr th:only-of-type {\n",
       "        vertical-align: middle;\n",
       "    }\n",
       "\n",
       "    .dataframe tbody tr th {\n",
       "        vertical-align: top;\n",
       "    }\n",
       "\n",
       "    .dataframe thead th {\n",
       "        text-align: right;\n",
       "    }\n",
       "</style>\n",
       "<table border=\"1\" class=\"dataframe\">\n",
       "  <thead>\n",
       "    <tr style=\"text-align: right;\">\n",
       "      <th></th>\n",
       "      <th>Date</th>\n",
       "      <th>Udemy</th>\n",
       "      <th>Easter</th>\n",
       "      <th>Christmas</th>\n",
       "      <th>Black Friday</th>\n",
       "    </tr>\n",
       "  </thead>\n",
       "  <tbody>\n",
       "    <tr>\n",
       "      <th>1794</th>\n",
       "      <td>11/29/2020</td>\n",
       "      <td>1883</td>\n",
       "      <td>0</td>\n",
       "      <td>0</td>\n",
       "      <td>0</td>\n",
       "    </tr>\n",
       "    <tr>\n",
       "      <th>1795</th>\n",
       "      <td>11/30/2020</td>\n",
       "      <td>2551</td>\n",
       "      <td>0</td>\n",
       "      <td>0</td>\n",
       "      <td>0</td>\n",
       "    </tr>\n",
       "    <tr>\n",
       "      <th>1796</th>\n",
       "      <td>12/1/2020</td>\n",
       "      <td>2393</td>\n",
       "      <td>0</td>\n",
       "      <td>0</td>\n",
       "      <td>0</td>\n",
       "    </tr>\n",
       "    <tr>\n",
       "      <th>1797</th>\n",
       "      <td>12/2/2020</td>\n",
       "      <td>2185</td>\n",
       "      <td>0</td>\n",
       "      <td>0</td>\n",
       "      <td>0</td>\n",
       "    </tr>\n",
       "    <tr>\n",
       "      <th>1798</th>\n",
       "      <td>12/3/2020</td>\n",
       "      <td>2249</td>\n",
       "      <td>0</td>\n",
       "      <td>0</td>\n",
       "      <td>0</td>\n",
       "    </tr>\n",
       "    <tr>\n",
       "      <th>1799</th>\n",
       "      <td>12/4/2020</td>\n",
       "      <td>1964</td>\n",
       "      <td>0</td>\n",
       "      <td>0</td>\n",
       "      <td>0</td>\n",
       "    </tr>\n",
       "    <tr>\n",
       "      <th>1800</th>\n",
       "      <td>12/5/2020</td>\n",
       "      <td>1603</td>\n",
       "      <td>0</td>\n",
       "      <td>0</td>\n",
       "      <td>0</td>\n",
       "    </tr>\n",
       "    <tr>\n",
       "      <th>1801</th>\n",
       "      <td>12/6/2020</td>\n",
       "      <td>1753</td>\n",
       "      <td>0</td>\n",
       "      <td>0</td>\n",
       "      <td>0</td>\n",
       "    </tr>\n",
       "    <tr>\n",
       "      <th>1802</th>\n",
       "      <td>12/7/2020</td>\n",
       "      <td>2165</td>\n",
       "      <td>0</td>\n",
       "      <td>0</td>\n",
       "      <td>0</td>\n",
       "    </tr>\n",
       "    <tr>\n",
       "      <th>1803</th>\n",
       "      <td>12/8/2020</td>\n",
       "      <td>2007</td>\n",
       "      <td>0</td>\n",
       "      <td>0</td>\n",
       "      <td>0</td>\n",
       "    </tr>\n",
       "    <tr>\n",
       "      <th>1804</th>\n",
       "      <td>12/9/2020</td>\n",
       "      <td>1929</td>\n",
       "      <td>0</td>\n",
       "      <td>0</td>\n",
       "      <td>0</td>\n",
       "    </tr>\n",
       "    <tr>\n",
       "      <th>1805</th>\n",
       "      <td>12/10/2020</td>\n",
       "      <td>2058</td>\n",
       "      <td>0</td>\n",
       "      <td>0</td>\n",
       "      <td>0</td>\n",
       "    </tr>\n",
       "    <tr>\n",
       "      <th>1806</th>\n",
       "      <td>12/11/2020</td>\n",
       "      <td>1879</td>\n",
       "      <td>0</td>\n",
       "      <td>0</td>\n",
       "      <td>0</td>\n",
       "    </tr>\n",
       "    <tr>\n",
       "      <th>1807</th>\n",
       "      <td>12/12/2020</td>\n",
       "      <td>1540</td>\n",
       "      <td>0</td>\n",
       "      <td>0</td>\n",
       "      <td>0</td>\n",
       "    </tr>\n",
       "    <tr>\n",
       "      <th>1808</th>\n",
       "      <td>12/13/2020</td>\n",
       "      <td>1742</td>\n",
       "      <td>0</td>\n",
       "      <td>0</td>\n",
       "      <td>0</td>\n",
       "    </tr>\n",
       "    <tr>\n",
       "      <th>1809</th>\n",
       "      <td>12/14/2020</td>\n",
       "      <td>2131</td>\n",
       "      <td>0</td>\n",
       "      <td>0</td>\n",
       "      <td>0</td>\n",
       "    </tr>\n",
       "    <tr>\n",
       "      <th>1810</th>\n",
       "      <td>12/15/2020</td>\n",
       "      <td>2199</td>\n",
       "      <td>0</td>\n",
       "      <td>0</td>\n",
       "      <td>0</td>\n",
       "    </tr>\n",
       "    <tr>\n",
       "      <th>1811</th>\n",
       "      <td>12/16/2020</td>\n",
       "      <td>2182</td>\n",
       "      <td>0</td>\n",
       "      <td>0</td>\n",
       "      <td>0</td>\n",
       "    </tr>\n",
       "    <tr>\n",
       "      <th>1812</th>\n",
       "      <td>12/17/2020</td>\n",
       "      <td>1944</td>\n",
       "      <td>0</td>\n",
       "      <td>0</td>\n",
       "      <td>0</td>\n",
       "    </tr>\n",
       "    <tr>\n",
       "      <th>1813</th>\n",
       "      <td>12/18/2020</td>\n",
       "      <td>1729</td>\n",
       "      <td>0</td>\n",
       "      <td>0</td>\n",
       "      <td>0</td>\n",
       "    </tr>\n",
       "    <tr>\n",
       "      <th>1814</th>\n",
       "      <td>12/19/2020</td>\n",
       "      <td>1367</td>\n",
       "      <td>0</td>\n",
       "      <td>0</td>\n",
       "      <td>0</td>\n",
       "    </tr>\n",
       "    <tr>\n",
       "      <th>1815</th>\n",
       "      <td>12/20/2020</td>\n",
       "      <td>1679</td>\n",
       "      <td>0</td>\n",
       "      <td>0</td>\n",
       "      <td>0</td>\n",
       "    </tr>\n",
       "    <tr>\n",
       "      <th>1816</th>\n",
       "      <td>12/21/2020</td>\n",
       "      <td>1876</td>\n",
       "      <td>0</td>\n",
       "      <td>0</td>\n",
       "      <td>0</td>\n",
       "    </tr>\n",
       "    <tr>\n",
       "      <th>1817</th>\n",
       "      <td>12/22/2020</td>\n",
       "      <td>1960</td>\n",
       "      <td>0</td>\n",
       "      <td>0</td>\n",
       "      <td>0</td>\n",
       "    </tr>\n",
       "    <tr>\n",
       "      <th>1818</th>\n",
       "      <td>12/23/2020</td>\n",
       "      <td>1681</td>\n",
       "      <td>0</td>\n",
       "      <td>0</td>\n",
       "      <td>0</td>\n",
       "    </tr>\n",
       "    <tr>\n",
       "      <th>1819</th>\n",
       "      <td>12/24/2020</td>\n",
       "      <td>1605</td>\n",
       "      <td>0</td>\n",
       "      <td>0</td>\n",
       "      <td>0</td>\n",
       "    </tr>\n",
       "    <tr>\n",
       "      <th>1820</th>\n",
       "      <td>12/25/2020</td>\n",
       "      <td>1388</td>\n",
       "      <td>0</td>\n",
       "      <td>1</td>\n",
       "      <td>0</td>\n",
       "    </tr>\n",
       "    <tr>\n",
       "      <th>1821</th>\n",
       "      <td>12/26/2020</td>\n",
       "      <td>1593</td>\n",
       "      <td>0</td>\n",
       "      <td>0</td>\n",
       "      <td>0</td>\n",
       "    </tr>\n",
       "    <tr>\n",
       "      <th>1822</th>\n",
       "      <td>12/27/2020</td>\n",
       "      <td>1719</td>\n",
       "      <td>0</td>\n",
       "      <td>0</td>\n",
       "      <td>0</td>\n",
       "    </tr>\n",
       "    <tr>\n",
       "      <th>1823</th>\n",
       "      <td>12/28/2020</td>\n",
       "      <td>2040</td>\n",
       "      <td>0</td>\n",
       "      <td>0</td>\n",
       "      <td>0</td>\n",
       "    </tr>\n",
       "    <tr>\n",
       "      <th>1824</th>\n",
       "      <td>12/29/2020</td>\n",
       "      <td>2178</td>\n",
       "      <td>0</td>\n",
       "      <td>0</td>\n",
       "      <td>0</td>\n",
       "    </tr>\n",
       "    <tr>\n",
       "      <th>1825</th>\n",
       "      <td>12/30/2020</td>\n",
       "      <td>1992</td>\n",
       "      <td>0</td>\n",
       "      <td>0</td>\n",
       "      <td>0</td>\n",
       "    </tr>\n",
       "    <tr>\n",
       "      <th>1826</th>\n",
       "      <td>12/31/2020</td>\n",
       "      <td>1635</td>\n",
       "      <td>0</td>\n",
       "      <td>0</td>\n",
       "      <td>0</td>\n",
       "    </tr>\n",
       "  </tbody>\n",
       "</table>\n",
       "</div>"
      ],
      "text/plain": [
       "            Date  Udemy  Easter  Christmas  Black Friday\n",
       "1794  11/29/2020   1883       0          0             0\n",
       "1795  11/30/2020   2551       0          0             0\n",
       "1796   12/1/2020   2393       0          0             0\n",
       "1797   12/2/2020   2185       0          0             0\n",
       "1798   12/3/2020   2249       0          0             0\n",
       "1799   12/4/2020   1964       0          0             0\n",
       "1800   12/5/2020   1603       0          0             0\n",
       "1801   12/6/2020   1753       0          0             0\n",
       "1802   12/7/2020   2165       0          0             0\n",
       "1803   12/8/2020   2007       0          0             0\n",
       "1804   12/9/2020   1929       0          0             0\n",
       "1805  12/10/2020   2058       0          0             0\n",
       "1806  12/11/2020   1879       0          0             0\n",
       "1807  12/12/2020   1540       0          0             0\n",
       "1808  12/13/2020   1742       0          0             0\n",
       "1809  12/14/2020   2131       0          0             0\n",
       "1810  12/15/2020   2199       0          0             0\n",
       "1811  12/16/2020   2182       0          0             0\n",
       "1812  12/17/2020   1944       0          0             0\n",
       "1813  12/18/2020   1729       0          0             0\n",
       "1814  12/19/2020   1367       0          0             0\n",
       "1815  12/20/2020   1679       0          0             0\n",
       "1816  12/21/2020   1876       0          0             0\n",
       "1817  12/22/2020   1960       0          0             0\n",
       "1818  12/23/2020   1681       0          0             0\n",
       "1819  12/24/2020   1605       0          0             0\n",
       "1820  12/25/2020   1388       0          1             0\n",
       "1821  12/26/2020   1593       0          0             0\n",
       "1822  12/27/2020   1719       0          0             0\n",
       "1823  12/28/2020   2040       0          0             0\n",
       "1824  12/29/2020   2178       0          0             0\n",
       "1825  12/30/2020   1992       0          0             0\n",
       "1826  12/31/2020   1635       0          0             0"
      ]
     },
     "execution_count": 34,
     "metadata": {},
     "output_type": "execute_result"
    }
   ],
   "source": [
    "#Data\n",
    "df = pd.read_csv(\"Udemy_wikipedia_visits.csv\")\n",
    "df.tail(33)"
   ]
  },
  {
   "cell_type": "code",
   "execution_count": 7,
   "metadata": {
    "colab": {
     "base_uri": "https://localhost:8080/"
    },
    "executionInfo": {
     "elapsed": 17,
     "status": "ok",
     "timestamp": 1669098453500,
     "user": {
      "displayName": "Diogo Resende",
      "userId": "05706604408624562002"
     },
     "user_tz": -60
    },
    "id": "UUn_vuCqine-",
    "outputId": "b4cf6c15-6e42-4f06-bbc2-bd1ee1a70d5d"
   },
   "outputs": [
    {
     "name": "stdout",
     "output_type": "stream",
     "text": [
      "<class 'pandas.core.frame.DataFrame'>\n",
      "RangeIndex: 1827 entries, 0 to 1826\n",
      "Data columns (total 5 columns):\n",
      " #   Column        Non-Null Count  Dtype \n",
      "---  ------        --------------  ----- \n",
      " 0   Date          1827 non-null   object\n",
      " 1   Udemy         1827 non-null   int64 \n",
      " 2   Easter        1827 non-null   int64 \n",
      " 3   Christmas     1827 non-null   int64 \n",
      " 4   Black Friday  1827 non-null   int64 \n",
      "dtypes: int64(4), object(1)\n",
      "memory usage: 71.5+ KB\n"
     ]
    }
   ],
   "source": [
    "#Looking into what kind of variables we have\n",
    "df.info()"
   ]
  },
  {
   "cell_type": "code",
   "execution_count": 8,
   "metadata": {
    "colab": {
     "base_uri": "https://localhost:8080/",
     "height": 300
    },
    "executionInfo": {
     "elapsed": 15,
     "status": "ok",
     "timestamp": 1669098453501,
     "user": {
      "displayName": "Diogo Resende",
      "userId": "05706604408624562002"
     },
     "user_tz": -60
    },
    "id": "xTJLR6JNi2_6",
    "outputId": "ceba902b-5e72-49ca-af91-ba9d597a03e1"
   },
   "outputs": [
    {
     "data": {
      "application/vnd.microsoft.datawrangler.viewer.v0+json": {
       "columns": [
        {
         "name": "index",
         "rawType": "object",
         "type": "string"
        },
        {
         "name": "Udemy",
         "rawType": "float64",
         "type": "float"
        },
        {
         "name": "Easter",
         "rawType": "float64",
         "type": "float"
        },
        {
         "name": "Christmas",
         "rawType": "float64",
         "type": "float"
        },
        {
         "name": "Black Friday",
         "rawType": "float64",
         "type": "float"
        }
       ],
       "ref": "09667bd0-4c52-4b30-b781-61fb9a0b5507",
       "rows": [
        [
         "count",
         "1827.0",
         "1827.0",
         "1827.0",
         "1827.0"
        ],
        [
         "mean",
         "943.0684181718665",
         "0.002736726874657909",
         "0.002736726874657909",
         "0.002736726874657909"
        ],
        [
         "std",
         "531.3417002605544",
         "0.05225640491003917",
         "0.05225640491003917",
         "0.05225640491003917"
        ],
        [
         "min",
         "209.0",
         "0.0",
         "0.0",
         "0.0"
        ],
        [
         "25%",
         "542.5",
         "0.0",
         "0.0",
         "0.0"
        ],
        [
         "50%",
         "832.0",
         "0.0",
         "0.0",
         "0.0"
        ],
        [
         "75%",
         "1175.0",
         "0.0",
         "0.0",
         "0.0"
        ],
        [
         "max",
         "2847.0",
         "1.0",
         "1.0",
         "1.0"
        ]
       ],
       "shape": {
        "columns": 4,
        "rows": 8
       }
      },
      "text/html": [
       "<div>\n",
       "<style scoped>\n",
       "    .dataframe tbody tr th:only-of-type {\n",
       "        vertical-align: middle;\n",
       "    }\n",
       "\n",
       "    .dataframe tbody tr th {\n",
       "        vertical-align: top;\n",
       "    }\n",
       "\n",
       "    .dataframe thead th {\n",
       "        text-align: right;\n",
       "    }\n",
       "</style>\n",
       "<table border=\"1\" class=\"dataframe\">\n",
       "  <thead>\n",
       "    <tr style=\"text-align: right;\">\n",
       "      <th></th>\n",
       "      <th>Udemy</th>\n",
       "      <th>Easter</th>\n",
       "      <th>Christmas</th>\n",
       "      <th>Black Friday</th>\n",
       "    </tr>\n",
       "  </thead>\n",
       "  <tbody>\n",
       "    <tr>\n",
       "      <th>count</th>\n",
       "      <td>1827.000000</td>\n",
       "      <td>1827.000000</td>\n",
       "      <td>1827.000000</td>\n",
       "      <td>1827.000000</td>\n",
       "    </tr>\n",
       "    <tr>\n",
       "      <th>mean</th>\n",
       "      <td>943.068418</td>\n",
       "      <td>0.002737</td>\n",
       "      <td>0.002737</td>\n",
       "      <td>0.002737</td>\n",
       "    </tr>\n",
       "    <tr>\n",
       "      <th>std</th>\n",
       "      <td>531.341700</td>\n",
       "      <td>0.052256</td>\n",
       "      <td>0.052256</td>\n",
       "      <td>0.052256</td>\n",
       "    </tr>\n",
       "    <tr>\n",
       "      <th>min</th>\n",
       "      <td>209.000000</td>\n",
       "      <td>0.000000</td>\n",
       "      <td>0.000000</td>\n",
       "      <td>0.000000</td>\n",
       "    </tr>\n",
       "    <tr>\n",
       "      <th>25%</th>\n",
       "      <td>542.500000</td>\n",
       "      <td>0.000000</td>\n",
       "      <td>0.000000</td>\n",
       "      <td>0.000000</td>\n",
       "    </tr>\n",
       "    <tr>\n",
       "      <th>50%</th>\n",
       "      <td>832.000000</td>\n",
       "      <td>0.000000</td>\n",
       "      <td>0.000000</td>\n",
       "      <td>0.000000</td>\n",
       "    </tr>\n",
       "    <tr>\n",
       "      <th>75%</th>\n",
       "      <td>1175.000000</td>\n",
       "      <td>0.000000</td>\n",
       "      <td>0.000000</td>\n",
       "      <td>0.000000</td>\n",
       "    </tr>\n",
       "    <tr>\n",
       "      <th>max</th>\n",
       "      <td>2847.000000</td>\n",
       "      <td>1.000000</td>\n",
       "      <td>1.000000</td>\n",
       "      <td>1.000000</td>\n",
       "    </tr>\n",
       "  </tbody>\n",
       "</table>\n",
       "</div>"
      ],
      "text/plain": [
       "             Udemy       Easter    Christmas  Black Friday\n",
       "count  1827.000000  1827.000000  1827.000000   1827.000000\n",
       "mean    943.068418     0.002737     0.002737      0.002737\n",
       "std     531.341700     0.052256     0.052256      0.052256\n",
       "min     209.000000     0.000000     0.000000      0.000000\n",
       "25%     542.500000     0.000000     0.000000      0.000000\n",
       "50%     832.000000     0.000000     0.000000      0.000000\n",
       "75%    1175.000000     0.000000     0.000000      0.000000\n",
       "max    2847.000000     1.000000     1.000000      1.000000"
      ]
     },
     "execution_count": 8,
     "metadata": {},
     "output_type": "execute_result"
    }
   ],
   "source": [
    "#Summary statistics\n",
    "df.describe()"
   ]
  },
  {
   "cell_type": "code",
   "execution_count": 9,
   "metadata": {
    "colab": {
     "base_uri": "https://localhost:8080/",
     "height": 391
    },
    "executionInfo": {
     "elapsed": 744,
     "status": "ok",
     "timestamp": 1669098454232,
     "user": {
      "displayName": "Diogo Resende",
      "userId": "05706604408624562002"
     },
     "user_tz": -60
    },
    "id": "ieJfC4lvjM-j",
    "outputId": "1f511db2-7b76-49ef-f0ba-8e36fd78dac0"
   },
   "outputs": [
    {
     "data": {
      "text/plain": [
       "<Axes: >"
      ]
     },
     "execution_count": 9,
     "metadata": {},
     "output_type": "execute_result"
    },
    {
     "data": {
      "image/png": "[encoded data removed]",
      "text/plain": [
       "<Figure size 900x600 with 1 Axes>"
      ]
     },
     "metadata": {},
     "output_type": "display_data"
    }
   ],
   "source": [
    "#Plotting\n",
    "df.Udemy.plot(figsize = (9,6))"
   ]
  },
  {
   "cell_type": "markdown",
   "metadata": {
    "id": "xVJCeqwokCYj"
   },
   "source": [
    "# Data Preparation"
   ]
  },
  {
   "cell_type": "code",
   "execution_count": 10,
   "metadata": {
    "colab": {
     "base_uri": "https://localhost:8080/"
    },
    "executionInfo": {
     "elapsed": 13,
     "status": "ok",
     "timestamp": 1669098454233,
     "user": {
      "displayName": "Diogo Resende",
      "userId": "05706604408624562002"
     },
     "user_tz": -60
    },
    "id": "cbUw2bwfkEps",
    "outputId": "bd45e4de-a3e0-4328-d6be-161ae88d47fc"
   },
   "outputs": [
    {
     "data": {
      "application/vnd.microsoft.datawrangler.viewer.v0+json": {
       "columns": [
        {
         "name": "index",
         "rawType": "int64",
         "type": "integer"
        },
        {
         "name": "Date",
         "rawType": "datetime64[ns]",
         "type": "datetime"
        }
       ],
       "ref": "965d16c2-2b15-4b96-b895-e7bd17a9e985",
       "rows": [
        [
         "0",
         "2016-01-01 00:00:00"
        ],
        [
         "1",
         "2016-01-02 00:00:00"
        ],
        [
         "2",
         "2016-01-03 00:00:00"
        ],
        [
         "3",
         "2016-01-04 00:00:00"
        ],
        [
         "4",
         "2016-01-05 00:00:00"
        ],
        [
         "5",
         "2016-01-06 00:00:00"
        ],
        [
         "6",
         "2016-01-07 00:00:00"
        ],
        [
         "7",
         "2016-01-08 00:00:00"
        ],
        [
         "8",
         "2016-01-09 00:00:00"
        ],
        [
         "9",
         "2016-01-10 00:00:00"
        ],
        [
         "10",
         "2016-01-11 00:00:00"
        ],
        [
         "11",
         "2016-01-12 00:00:00"
        ],
        [
         "12",
         "2016-01-13 00:00:00"
        ],
        [
         "13",
         "2016-01-14 00:00:00"
        ],
        [
         "14",
         "2016-01-15 00:00:00"
        ],
        [
         "15",
         "2016-01-16 00:00:00"
        ],
        [
         "16",
         "2016-01-17 00:00:00"
        ],
        [
         "17",
         "2016-01-18 00:00:00"
        ],
        [
         "18",
         "2016-01-19 00:00:00"
        ],
        [
         "19",
         "2016-01-20 00:00:00"
        ],
        [
         "20",
         "2016-01-21 00:00:00"
        ],
        [
         "21",
         "2016-01-22 00:00:00"
        ],
        [
         "22",
         "2016-01-23 00:00:00"
        ],
        [
         "23",
         "2016-01-24 00:00:00"
        ],
        [
         "24",
         "2016-01-25 00:00:00"
        ],
        [
         "25",
         "2016-01-26 00:00:00"
        ],
        [
         "26",
         "2016-01-27 00:00:00"
        ],
        [
         "27",
         "2016-01-28 00:00:00"
        ],
        [
         "28",
         "2016-01-29 00:00:00"
        ],
        [
         "29",
         "2016-01-30 00:00:00"
        ],
        [
         "30",
         "2016-01-31 00:00:00"
        ],
        [
         "31",
         "2016-02-01 00:00:00"
        ],
        [
         "32",
         "2016-02-02 00:00:00"
        ],
        [
         "33",
         "2016-02-03 00:00:00"
        ],
        [
         "34",
         "2016-02-04 00:00:00"
        ],
        [
         "35",
         "2016-02-05 00:00:00"
        ],
        [
         "36",
         "2016-02-06 00:00:00"
        ],
        [
         "37",
         "2016-02-07 00:00:00"
        ],
        [
         "38",
         "2016-02-08 00:00:00"
        ],
        [
         "39",
         "2016-02-09 00:00:00"
        ],
        [
         "40",
         "2016-02-10 00:00:00"
        ],
        [
         "41",
         "2016-02-11 00:00:00"
        ],
        [
         "42",
         "2016-02-12 00:00:00"
        ],
        [
         "43",
         "2016-02-13 00:00:00"
        ],
        [
         "44",
         "2016-02-14 00:00:00"
        ],
        [
         "45",
         "2016-02-15 00:00:00"
        ],
        [
         "46",
         "2016-02-16 00:00:00"
        ],
        [
         "47",
         "2016-02-17 00:00:00"
        ],
        [
         "48",
         "2016-02-18 00:00:00"
        ],
        [
         "49",
         "2016-02-19 00:00:00"
        ]
       ],
       "shape": {
        "columns": 1,
        "rows": 1827
       }
      },
      "text/plain": [
       "0      2016-01-01\n",
       "1      2016-01-02\n",
       "2      2016-01-03\n",
       "3      2016-01-04\n",
       "4      2016-01-05\n",
       "          ...    \n",
       "1822   2020-12-27\n",
       "1823   2020-12-28\n",
       "1824   2020-12-29\n",
       "1825   2020-12-30\n",
       "1826   2020-12-31\n",
       "Name: Date, Length: 1827, dtype: datetime64[ns]"
      ]
     },
     "execution_count": 10,
     "metadata": {},
     "output_type": "execute_result"
    }
   ],
   "source": [
    "#Date variable: %m/%d/%Y -> %Y-%m-%d\n",
    "df.Date = pd.to_datetime(df.Date,\n",
    "                         format = \"%m/%d/%Y\")\n",
    "df.Date"
   ]
  },
  {
   "cell_type": "code",
   "execution_count": 11,
   "metadata": {
    "colab": {
     "base_uri": "https://localhost:8080/",
     "height": 81
    },
    "executionInfo": {
     "elapsed": 12,
     "status": "ok",
     "timestamp": 1669098454234,
     "user": {
      "displayName": "Diogo Resende",
      "userId": "05706604408624562002"
     },
     "user_tz": -60
    },
    "id": "jvZ2MIDmld8z",
    "outputId": "0d5dab96-2cf3-4f3a-b8e6-436b0b89af4d"
   },
   "outputs": [
    {
     "data": {
      "application/vnd.microsoft.datawrangler.viewer.v0+json": {
       "columns": [
        {
         "name": "index",
         "rawType": "int64",
         "type": "integer"
        },
        {
         "name": "ds",
         "rawType": "datetime64[ns]",
         "type": "datetime"
        },
        {
         "name": "y",
         "rawType": "int64",
         "type": "integer"
        },
        {
         "name": "Easter",
         "rawType": "int64",
         "type": "integer"
        },
        {
         "name": "Christmas",
         "rawType": "int64",
         "type": "integer"
        },
        {
         "name": "Black Friday",
         "rawType": "int64",
         "type": "integer"
        }
       ],
       "ref": "eacb25b0-bb19-4110-8322-6db5d360c133",
       "rows": [
        [
         "0",
         "2016-01-01 00:00:00",
         "311",
         "0",
         "0",
         "0"
        ]
       ],
       "shape": {
        "columns": 5,
        "rows": 1
       }
      },
      "text/html": [
       "<div>\n",
       "<style scoped>\n",
       "    .dataframe tbody tr th:only-of-type {\n",
       "        vertical-align: middle;\n",
       "    }\n",
       "\n",
       "    .dataframe tbody tr th {\n",
       "        vertical-align: top;\n",
       "    }\n",
       "\n",
       "    .dataframe thead th {\n",
       "        text-align: right;\n",
       "    }\n",
       "</style>\n",
       "<table border=\"1\" class=\"dataframe\">\n",
       "  <thead>\n",
       "    <tr style=\"text-align: right;\">\n",
       "      <th></th>\n",
       "      <th>ds</th>\n",
       "      <th>y</th>\n",
       "      <th>Easter</th>\n",
       "      <th>Christmas</th>\n",
       "      <th>Black Friday</th>\n",
       "    </tr>\n",
       "  </thead>\n",
       "  <tbody>\n",
       "    <tr>\n",
       "      <th>0</th>\n",
       "      <td>2016-01-01</td>\n",
       "      <td>311</td>\n",
       "      <td>0</td>\n",
       "      <td>0</td>\n",
       "      <td>0</td>\n",
       "    </tr>\n",
       "  </tbody>\n",
       "</table>\n",
       "</div>"
      ],
      "text/plain": [
       "          ds    y  Easter  Christmas  Black Friday\n",
       "0 2016-01-01  311       0          0             0"
      ]
     },
     "execution_count": 11,
     "metadata": {},
     "output_type": "execute_result"
    }
   ],
   "source": [
    "#Change variable: Date -> ds, time-series (Udemy) -> y\n",
    "df = df.rename(columns = {'Date': 'ds',\n",
    "                          'Udemy': 'y'})\n",
    "df.head(1)"
   ]
  },
  {
   "cell_type": "markdown",
   "metadata": {
    "id": "UPdNDVh39Dno"
   },
   "source": [
    "# holidays"
   ]
  },
  {
   "cell_type": "code",
   "execution_count": 12,
   "metadata": {
    "id": "EW_P7byi9El0"
   },
   "outputs": [],
   "source": [
    "#Easter\n",
    "easter_dates = df[df.Easter ==1 ].ds\n",
    "easter = pd.DataFrame({'holiday': 'easter',\n",
    "                       'ds': easter_dates,\n",
    "                       'lower_window': -5,\n",
    "                       'upper_window': 2})"
   ]
  },
  {
   "cell_type": "code",
   "execution_count": 13,
   "metadata": {
    "id": "IWDTC3JA-Xkb"
   },
   "outputs": [],
   "source": [
    "#Black Friday\n",
    "bf_dates = pd.to_datetime(df[df['Black Friday'] == 1].ds)\n",
    "bf = pd.DataFrame({'holiday': 'black_friday',\n",
    "                   'ds': bf_dates,\n",
    "                   'lower_window': -7,\n",
    "                   'upper_window': 5})"
   ]
  },
  {
   "cell_type": "code",
   "execution_count": 14,
   "metadata": {
    "colab": {
     "base_uri": "https://localhost:8080/",
     "height": 363
    },
    "executionInfo": {
     "elapsed": 19,
     "status": "ok",
     "timestamp": 1669098455041,
     "user": {
      "displayName": "Diogo Resende",
      "userId": "05706604408624562002"
     },
     "user_tz": -60
    },
    "id": "-Q2NkR0J_NAm",
    "outputId": "c917e41e-9e1b-4e38-8292-1945c13bc74a"
   },
   "outputs": [
    {
     "data": {
      "application/vnd.microsoft.datawrangler.viewer.v0+json": {
       "columns": [
        {
         "name": "index",
         "rawType": "int64",
         "type": "integer"
        },
        {
         "name": "holiday",
         "rawType": "object",
         "type": "string"
        },
        {
         "name": "ds",
         "rawType": "datetime64[ns]",
         "type": "datetime"
        },
        {
         "name": "lower_window",
         "rawType": "int64",
         "type": "integer"
        },
        {
         "name": "upper_window",
         "rawType": "int64",
         "type": "integer"
        }
       ],
       "ref": "3b027a31-d23e-468a-be1e-87e7ed31b6c5",
       "rows": [
        [
         "86",
         "easter",
         "2016-03-27 00:00:00",
         "-5",
         "2"
        ],
        [
         "471",
         "easter",
         "2017-04-16 00:00:00",
         "-5",
         "2"
        ],
        [
         "821",
         "easter",
         "2018-04-01 00:00:00",
         "-5",
         "2"
        ],
        [
         "1206",
         "easter",
         "2019-04-21 00:00:00",
         "-5",
         "2"
        ],
        [
         "1563",
         "easter",
         "2020-04-12 00:00:00",
         "-5",
         "2"
        ],
        [
         "329",
         "black_friday",
         "2016-11-25 00:00:00",
         "-7",
         "5"
        ],
        [
         "693",
         "black_friday",
         "2017-11-24 00:00:00",
         "-7",
         "5"
        ],
        [
         "1057",
         "black_friday",
         "2018-11-23 00:00:00",
         "-7",
         "5"
        ],
        [
         "1428",
         "black_friday",
         "2019-11-29 00:00:00",
         "-7",
         "5"
        ],
        [
         "1792",
         "black_friday",
         "2020-11-27 00:00:00",
         "-7",
         "5"
        ]
       ],
       "shape": {
        "columns": 4,
        "rows": 10
       }
      },
      "text/html": [
       "<div>\n",
       "<style scoped>\n",
       "    .dataframe tbody tr th:only-of-type {\n",
       "        vertical-align: middle;\n",
       "    }\n",
       "\n",
       "    .dataframe tbody tr th {\n",
       "        vertical-align: top;\n",
       "    }\n",
       "\n",
       "    .dataframe thead th {\n",
       "        text-align: right;\n",
       "    }\n",
       "</style>\n",
       "<table border=\"1\" class=\"dataframe\">\n",
       "  <thead>\n",
       "    <tr style=\"text-align: right;\">\n",
       "      <th></th>\n",
       "      <th>holiday</th>\n",
       "      <th>ds</th>\n",
       "      <th>lower_window</th>\n",
       "      <th>upper_window</th>\n",
       "    </tr>\n",
       "  </thead>\n",
       "  <tbody>\n",
       "    <tr>\n",
       "      <th>86</th>\n",
       "      <td>easter</td>\n",
       "      <td>2016-03-27</td>\n",
       "      <td>-5</td>\n",
       "      <td>2</td>\n",
       "    </tr>\n",
       "    <tr>\n",
       "      <th>471</th>\n",
       "      <td>easter</td>\n",
       "      <td>2017-04-16</td>\n",
       "      <td>-5</td>\n",
       "      <td>2</td>\n",
       "    </tr>\n",
       "    <tr>\n",
       "      <th>821</th>\n",
       "      <td>easter</td>\n",
       "      <td>2018-04-01</td>\n",
       "      <td>-5</td>\n",
       "      <td>2</td>\n",
       "    </tr>\n",
       "    <tr>\n",
       "      <th>1206</th>\n",
       "      <td>easter</td>\n",
       "      <td>2019-04-21</td>\n",
       "      <td>-5</td>\n",
       "      <td>2</td>\n",
       "    </tr>\n",
       "    <tr>\n",
       "      <th>1563</th>\n",
       "      <td>easter</td>\n",
       "      <td>2020-04-12</td>\n",
       "      <td>-5</td>\n",
       "      <td>2</td>\n",
       "    </tr>\n",
       "    <tr>\n",
       "      <th>329</th>\n",
       "      <td>black_friday</td>\n",
       "      <td>2016-11-25</td>\n",
       "      <td>-7</td>\n",
       "      <td>5</td>\n",
       "    </tr>\n",
       "    <tr>\n",
       "      <th>693</th>\n",
       "      <td>black_friday</td>\n",
       "      <td>2017-11-24</td>\n",
       "      <td>-7</td>\n",
       "      <td>5</td>\n",
       "    </tr>\n",
       "    <tr>\n",
       "      <th>1057</th>\n",
       "      <td>black_friday</td>\n",
       "      <td>2018-11-23</td>\n",
       "      <td>-7</td>\n",
       "      <td>5</td>\n",
       "    </tr>\n",
       "    <tr>\n",
       "      <th>1428</th>\n",
       "      <td>black_friday</td>\n",
       "      <td>2019-11-29</td>\n",
       "      <td>-7</td>\n",
       "      <td>5</td>\n",
       "    </tr>\n",
       "    <tr>\n",
       "      <th>1792</th>\n",
       "      <td>black_friday</td>\n",
       "      <td>2020-11-27</td>\n",
       "      <td>-7</td>\n",
       "      <td>5</td>\n",
       "    </tr>\n",
       "  </tbody>\n",
       "</table>\n",
       "</div>"
      ],
      "text/plain": [
       "           holiday         ds  lower_window  upper_window\n",
       "86          easter 2016-03-27            -5             2\n",
       "471         easter 2017-04-16            -5             2\n",
       "821         easter 2018-04-01            -5             2\n",
       "1206        easter 2019-04-21            -5             2\n",
       "1563        easter 2020-04-12            -5             2\n",
       "329   black_friday 2016-11-25            -7             5\n",
       "693   black_friday 2017-11-24            -7             5\n",
       "1057  black_friday 2018-11-23            -7             5\n",
       "1428  black_friday 2019-11-29            -7             5\n",
       "1792  black_friday 2020-11-27            -7             5"
      ]
     },
     "execution_count": 14,
     "metadata": {},
     "output_type": "execute_result"
    }
   ],
   "source": [
    "#combine the holidays\n",
    "holidays = pd.concat([easter, bf])\n",
    "holidays"
   ]
  },
  {
   "cell_type": "code",
   "execution_count": 15,
   "metadata": {
    "colab": {
     "base_uri": "https://localhost:8080/",
     "height": 49
    },
    "executionInfo": {
     "elapsed": 9,
     "status": "ok",
     "timestamp": 1669098455042,
     "user": {
      "displayName": "Diogo Resende",
      "userId": "05706604408624562002"
     },
     "user_tz": -60
    },
    "id": "SF8LTWK3__ej",
    "outputId": "d1496a2e-03e0-4311-a3bf-4c8c640783f7"
   },
   "outputs": [
    {
     "data": {
      "application/vnd.microsoft.datawrangler.viewer.v0+json": {
       "columns": [
        {
         "name": "index",
         "rawType": "int64",
         "type": "integer"
        },
        {
         "name": "ds",
         "rawType": "datetime64[ns]",
         "type": "datetime"
        },
        {
         "name": "y",
         "rawType": "int64",
         "type": "integer"
        },
        {
         "name": "Christmas",
         "rawType": "int64",
         "type": "integer"
        }
       ],
       "ref": "2d17b4ac-8347-4c18-821b-58adcd769d4f",
       "rows": [],
       "shape": {
        "columns": 3,
        "rows": 0
       }
      },
      "text/html": [
       "<div>\n",
       "<style scoped>\n",
       "    .dataframe tbody tr th:only-of-type {\n",
       "        vertical-align: middle;\n",
       "    }\n",
       "\n",
       "    .dataframe tbody tr th {\n",
       "        vertical-align: top;\n",
       "    }\n",
       "\n",
       "    .dataframe thead th {\n",
       "        text-align: right;\n",
       "    }\n",
       "</style>\n",
       "<table border=\"1\" class=\"dataframe\">\n",
       "  <thead>\n",
       "    <tr style=\"text-align: right;\">\n",
       "      <th></th>\n",
       "      <th>ds</th>\n",
       "      <th>y</th>\n",
       "      <th>Christmas</th>\n",
       "    </tr>\n",
       "  </thead>\n",
       "  <tbody>\n",
       "  </tbody>\n",
       "</table>\n",
       "</div>"
      ],
      "text/plain": [
       "Empty DataFrame\n",
       "Columns: [ds, y, Christmas]\n",
       "Index: []"
      ]
     },
     "execution_count": 15,
     "metadata": {},
     "output_type": "execute_result"
    }
   ],
   "source": [
    "#Remove holidays from the main df\n",
    "df = df.drop(columns = [\"Easter\", \"Black Friday\"])\n",
    "df.head(0)"
   ]
  },
  {
   "cell_type": "markdown",
   "metadata": {
    "id": "-GktZVJ5CSg3"
   },
   "source": [
    "# Prophet Model"
   ]
  },
  {
   "cell_type": "code",
   "execution_count": 16,
   "metadata": {
    "colab": {
     "base_uri": "https://localhost:8080/"
    },
    "executionInfo": {
     "elapsed": 9,
     "status": "ok",
     "timestamp": 1669098809611,
     "user": {
      "displayName": "Diogo Resende",
      "userId": "05706604408624562002"
     },
     "user_tz": -60
    },
    "id": "VLXn28MfBTpg",
    "outputId": "4dd43349-9b14-41ad-d4e1-985d12dbb22a"
   },
   "outputs": [
    {
     "name": "stdout",
     "output_type": "stream",
     "text": [
      "             ds     y  Christmas\n",
      "1796 2020-12-01  2393          0\n",
      "             ds     y  Christmas\n",
      "1795 2020-11-30  2551          0\n"
     ]
    }
   ],
   "source": [
    "#Training and Test Split\n",
    "test_days = 31\n",
    "training = df.iloc[:-test_days, : ]\n",
    "test = df.iloc[-test_days:, : ]\n",
    "print(test.head(1))\n",
    "print(training.tail(1))"
   ]
  },
  {
   "cell_type": "code",
   "execution_count": 17,
   "metadata": {
    "colab": {
     "base_uri": "https://localhost:8080/"
    },
    "executionInfo": {
     "elapsed": 1304,
     "status": "ok",
     "timestamp": 1669108487289,
     "user": {
      "displayName": "Diogo Resende",
      "userId": "05706604408624562002"
     },
     "user_tz": -60
    },
    "id": "xk67U1dVPUbl",
    "outputId": "a21f8349-ce12-49d9-8a68-df4cd394b5d9"
   },
   "outputs": [
    {
     "name": "stderr",
     "output_type": "stream",
     "text": [
      "00:29:04 - cmdstanpy - INFO - Chain [1] start processing\n",
      "00:29:04 - cmdstanpy - INFO - Chain [1] done processing\n"
     ]
    },
    {
     "data": {
      "text/plain": [
       "<prophet.forecaster.Prophet at 0x199b079d010>"
      ]
     },
     "execution_count": 17,
     "metadata": {},
     "output_type": "execute_result"
    }
   ],
   "source": [
    "#Prophet Model\n",
    "m = Prophet(growth = 'linear',\n",
    "            yearly_seasonality = True,\n",
    "            weekly_seasonality = True,\n",
    "            daily_seasonality = False,\n",
    "            holidays = holidays,\n",
    "            seasonality_mode = 'additive',\n",
    "            seasonality_prior_scale = 10,\n",
    "            holidays_prior_scale = 10,\n",
    "            changepoint_prior_scale= 0.05)\n",
    "m.add_regressor('Christmas', mode = 'multiplicative')\n",
    "#m.add_regressor('XXXX')\n",
    "m.fit(training)"
   ]
  },
  {
   "cell_type": "code",
   "execution_count": 18,
   "metadata": {
    "colab": {
     "base_uri": "https://localhost:8080/",
     "height": 81
    },
    "executionInfo": {
     "elapsed": 230,
     "status": "ok",
     "timestamp": 1669108490528,
     "user": {
      "displayName": "Diogo Resende",
      "userId": "05706604408624562002"
     },
     "user_tz": -60
    },
    "id": "WqMAKaowRG8k",
    "outputId": "684d700f-27a4-4d54-876e-d1c6eaf0c5cb"
   },
   "outputs": [
    {
     "data": {
      "application/vnd.microsoft.datawrangler.viewer.v0+json": {
       "columns": [
        {
         "name": "index",
         "rawType": "int64",
         "type": "integer"
        },
        {
         "name": "regressor",
         "rawType": "object",
         "type": "string"
        },
        {
         "name": "regressor_mode",
         "rawType": "object",
         "type": "string"
        },
        {
         "name": "center",
         "rawType": "float64",
         "type": "float"
        },
        {
         "name": "coef_lower",
         "rawType": "float64",
         "type": "float"
        },
        {
         "name": "coef",
         "rawType": "float64",
         "type": "float"
        },
        {
         "name": "coef_upper",
         "rawType": "float64",
         "type": "float"
        }
       ],
       "ref": "663ef649-eb77-4f6f-b2ec-37f98a4de211",
       "rows": [
        [
         "0",
         "Christmas",
         "multiplicative",
         "0.0",
         "-0.328282",
         "-0.328282",
         "-0.328282"
        ]
       ],
       "shape": {
        "columns": 6,
        "rows": 1
       }
      },
      "text/html": [
       "<div>\n",
       "<style scoped>\n",
       "    .dataframe tbody tr th:only-of-type {\n",
       "        vertical-align: middle;\n",
       "    }\n",
       "\n",
       "    .dataframe tbody tr th {\n",
       "        vertical-align: top;\n",
       "    }\n",
       "\n",
       "    .dataframe thead th {\n",
       "        text-align: right;\n",
       "    }\n",
       "</style>\n",
       "<table border=\"1\" class=\"dataframe\">\n",
       "  <thead>\n",
       "    <tr style=\"text-align: right;\">\n",
       "      <th></th>\n",
       "      <th>regressor</th>\n",
       "      <th>regressor_mode</th>\n",
       "      <th>center</th>\n",
       "      <th>coef_lower</th>\n",
       "      <th>coef</th>\n",
       "      <th>coef_upper</th>\n",
       "    </tr>\n",
       "  </thead>\n",
       "  <tbody>\n",
       "    <tr>\n",
       "      <th>0</th>\n",
       "      <td>Christmas</td>\n",
       "      <td>multiplicative</td>\n",
       "      <td>0.0</td>\n",
       "      <td>-0.328282</td>\n",
       "      <td>-0.328282</td>\n",
       "      <td>-0.328282</td>\n",
       "    </tr>\n",
       "  </tbody>\n",
       "</table>\n",
       "</div>"
      ],
      "text/plain": [
       "   regressor  regressor_mode  center  coef_lower      coef  coef_upper\n",
       "0  Christmas  multiplicative     0.0   -0.328282 -0.328282   -0.328282"
      ]
     },
     "execution_count": 18,
     "metadata": {},
     "output_type": "execute_result"
    }
   ],
   "source": [
    "#Regressor coefficients\n",
    "from prophet.utilities import regressor_coefficients\n",
    "regressor_coefficients(m)"
   ]
  },
  {
   "cell_type": "markdown",
   "metadata": {
    "id": "zNaMtP6tTHGU"
   },
   "source": [
    "# Forecasting"
   ]
  },
  {
   "cell_type": "code",
   "execution_count": 19,
   "metadata": {
    "colab": {
     "base_uri": "https://localhost:8080/",
     "height": 424
    },
    "executionInfo": {
     "elapsed": 453,
     "status": "ok",
     "timestamp": 1669108493394,
     "user": {
      "displayName": "Diogo Resende",
      "userId": "05706604408624562002"
     },
     "user_tz": -60
    },
    "id": "0lEDSxxbTJGU",
    "outputId": "8380a3bd-e225-4606-bde3-9f4a47557f6a"
   },
   "outputs": [
    {
     "data": {
      "application/vnd.microsoft.datawrangler.viewer.v0+json": {
       "columns": [
        {
         "name": "index",
         "rawType": "int64",
         "type": "integer"
        },
        {
         "name": "ds",
         "rawType": "datetime64[ns]",
         "type": "datetime"
        },
        {
         "name": "Christmas",
         "rawType": "int64",
         "type": "integer"
        }
       ],
       "ref": "f610b803-4613-46b7-b6ca-fefd227353fe",
       "rows": [
        [
         "0",
         "2016-01-01 00:00:00",
         "0"
        ],
        [
         "1",
         "2016-01-02 00:00:00",
         "0"
        ],
        [
         "2",
         "2016-01-03 00:00:00",
         "0"
        ],
        [
         "3",
         "2016-01-04 00:00:00",
         "0"
        ],
        [
         "4",
         "2016-01-05 00:00:00",
         "0"
        ],
        [
         "5",
         "2016-01-06 00:00:00",
         "0"
        ],
        [
         "6",
         "2016-01-07 00:00:00",
         "0"
        ],
        [
         "7",
         "2016-01-08 00:00:00",
         "0"
        ],
        [
         "8",
         "2016-01-09 00:00:00",
         "0"
        ],
        [
         "9",
         "2016-01-10 00:00:00",
         "0"
        ],
        [
         "10",
         "2016-01-11 00:00:00",
         "0"
        ],
        [
         "11",
         "2016-01-12 00:00:00",
         "0"
        ],
        [
         "12",
         "2016-01-13 00:00:00",
         "0"
        ],
        [
         "13",
         "2016-01-14 00:00:00",
         "0"
        ],
        [
         "14",
         "2016-01-15 00:00:00",
         "0"
        ],
        [
         "15",
         "2016-01-16 00:00:00",
         "0"
        ],
        [
         "16",
         "2016-01-17 00:00:00",
         "0"
        ],
        [
         "17",
         "2016-01-18 00:00:00",
         "0"
        ],
        [
         "18",
         "2016-01-19 00:00:00",
         "0"
        ],
        [
         "19",
         "2016-01-20 00:00:00",
         "0"
        ],
        [
         "20",
         "2016-01-21 00:00:00",
         "0"
        ],
        [
         "21",
         "2016-01-22 00:00:00",
         "0"
        ],
        [
         "22",
         "2016-01-23 00:00:00",
         "0"
        ],
        [
         "23",
         "2016-01-24 00:00:00",
         "0"
        ],
        [
         "24",
         "2016-01-25 00:00:00",
         "0"
        ],
        [
         "25",
         "2016-01-26 00:00:00",
         "0"
        ],
        [
         "26",
         "2016-01-27 00:00:00",
         "0"
        ],
        [
         "27",
         "2016-01-28 00:00:00",
         "0"
        ],
        [
         "28",
         "2016-01-29 00:00:00",
         "0"
        ],
        [
         "29",
         "2016-01-30 00:00:00",
         "0"
        ],
        [
         "30",
         "2016-01-31 00:00:00",
         "0"
        ],
        [
         "31",
         "2016-02-01 00:00:00",
         "0"
        ],
        [
         "32",
         "2016-02-02 00:00:00",
         "0"
        ],
        [
         "33",
         "2016-02-03 00:00:00",
         "0"
        ],
        [
         "34",
         "2016-02-04 00:00:00",
         "0"
        ],
        [
         "35",
         "2016-02-05 00:00:00",
         "0"
        ],
        [
         "36",
         "2016-02-06 00:00:00",
         "0"
        ],
        [
         "37",
         "2016-02-07 00:00:00",
         "0"
        ],
        [
         "38",
         "2016-02-08 00:00:00",
         "0"
        ],
        [
         "39",
         "2016-02-09 00:00:00",
         "0"
        ],
        [
         "40",
         "2016-02-10 00:00:00",
         "0"
        ],
        [
         "41",
         "2016-02-11 00:00:00",
         "0"
        ],
        [
         "42",
         "2016-02-12 00:00:00",
         "0"
        ],
        [
         "43",
         "2016-02-13 00:00:00",
         "0"
        ],
        [
         "44",
         "2016-02-14 00:00:00",
         "0"
        ],
        [
         "45",
         "2016-02-15 00:00:00",
         "0"
        ],
        [
         "46",
         "2016-02-16 00:00:00",
         "0"
        ],
        [
         "47",
         "2016-02-17 00:00:00",
         "0"
        ],
        [
         "48",
         "2016-02-18 00:00:00",
         "0"
        ],
        [
         "49",
         "2016-02-19 00:00:00",
         "0"
        ]
       ],
       "shape": {
        "columns": 2,
        "rows": 1827
       }
      },
      "text/html": [
       "<div>\n",
       "<style scoped>\n",
       "    .dataframe tbody tr th:only-of-type {\n",
       "        vertical-align: middle;\n",
       "    }\n",
       "\n",
       "    .dataframe tbody tr th {\n",
       "        vertical-align: top;\n",
       "    }\n",
       "\n",
       "    .dataframe thead th {\n",
       "        text-align: right;\n",
       "    }\n",
       "</style>\n",
       "<table border=\"1\" class=\"dataframe\">\n",
       "  <thead>\n",
       "    <tr style=\"text-align: right;\">\n",
       "      <th></th>\n",
       "      <th>ds</th>\n",
       "      <th>Christmas</th>\n",
       "    </tr>\n",
       "  </thead>\n",
       "  <tbody>\n",
       "    <tr>\n",
       "      <th>0</th>\n",
       "      <td>2016-01-01</td>\n",
       "      <td>0</td>\n",
       "    </tr>\n",
       "    <tr>\n",
       "      <th>1</th>\n",
       "      <td>2016-01-02</td>\n",
       "      <td>0</td>\n",
       "    </tr>\n",
       "    <tr>\n",
       "      <th>2</th>\n",
       "      <td>2016-01-03</td>\n",
       "      <td>0</td>\n",
       "    </tr>\n",
       "    <tr>\n",
       "      <th>3</th>\n",
       "      <td>2016-01-04</td>\n",
       "      <td>0</td>\n",
       "    </tr>\n",
       "    <tr>\n",
       "      <th>4</th>\n",
       "      <td>2016-01-05</td>\n",
       "      <td>0</td>\n",
       "    </tr>\n",
       "    <tr>\n",
       "      <th>...</th>\n",
       "      <td>...</td>\n",
       "      <td>...</td>\n",
       "    </tr>\n",
       "    <tr>\n",
       "      <th>1822</th>\n",
       "      <td>2020-12-27</td>\n",
       "      <td>0</td>\n",
       "    </tr>\n",
       "    <tr>\n",
       "      <th>1823</th>\n",
       "      <td>2020-12-28</td>\n",
       "      <td>0</td>\n",
       "    </tr>\n",
       "    <tr>\n",
       "      <th>1824</th>\n",
       "      <td>2020-12-29</td>\n",
       "      <td>0</td>\n",
       "    </tr>\n",
       "    <tr>\n",
       "      <th>1825</th>\n",
       "      <td>2020-12-30</td>\n",
       "      <td>0</td>\n",
       "    </tr>\n",
       "    <tr>\n",
       "      <th>1826</th>\n",
       "      <td>2020-12-31</td>\n",
       "      <td>0</td>\n",
       "    </tr>\n",
       "  </tbody>\n",
       "</table>\n",
       "<p>1827 rows × 2 columns</p>\n",
       "</div>"
      ],
      "text/plain": [
       "             ds  Christmas\n",
       "0    2016-01-01          0\n",
       "1    2016-01-02          0\n",
       "2    2016-01-03          0\n",
       "3    2016-01-04          0\n",
       "4    2016-01-05          0\n",
       "...         ...        ...\n",
       "1822 2020-12-27          0\n",
       "1823 2020-12-28          0\n",
       "1824 2020-12-29          0\n",
       "1825 2020-12-30          0\n",
       "1826 2020-12-31          0\n",
       "\n",
       "[1827 rows x 2 columns]"
      ]
     },
     "execution_count": 19,
     "metadata": {},
     "output_type": "execute_result"
    }
   ],
   "source": [
    "#create future dataframe\n",
    "future = m.make_future_dataframe(periods = test_days,\n",
    "                                 freq = 'D')\n",
    "future = pd.concat([future, df.iloc[:, 2:]],\n",
    "                   axis = 1)\n",
    "future"
   ]
  },
  {
   "cell_type": "code",
   "execution_count": 20,
   "metadata": {
    "colab": {
     "base_uri": "https://localhost:8080/"
    },
    "executionInfo": {
     "elapsed": 2412,
     "status": "ok",
     "timestamp": 1669108497867,
     "user": {
      "displayName": "Diogo Resende",
      "userId": "05706604408624562002"
     },
     "user_tz": -60
    },
    "id": "ntRMmyNvT-Ca",
    "outputId": "52e35222-bcb9-45e5-805a-f5b77c39a5f2"
   },
   "outputs": [
    {
     "name": "stdout",
     "output_type": "stream",
     "text": [
      "Index(['ds', 'trend', 'yhat_lower', 'yhat_upper', 'trend_lower', 'trend_upper',\n",
      "       'Christmas', 'Christmas_lower', 'Christmas_upper', 'additive_terms',\n",
      "       'additive_terms_lower', 'additive_terms_upper', 'black_friday',\n",
      "       'black_friday_lower', 'black_friday_upper', 'easter', 'easter_lower',\n",
      "       'easter_upper', 'extra_regressors_multiplicative',\n",
      "       'extra_regressors_multiplicative_lower',\n",
      "       'extra_regressors_multiplicative_upper', 'holidays', 'holidays_lower',\n",
      "       'holidays_upper', 'multiplicative_terms', 'multiplicative_terms_lower',\n",
      "       'multiplicative_terms_upper', 'weekly', 'weekly_lower', 'weekly_upper',\n",
      "       'yearly', 'yearly_lower', 'yearly_upper', 'yhat'],\n",
      "      dtype='object')\n"
     ]
    }
   ],
   "source": [
    "#forecasting\n",
    "forecast = m.predict(future)\n",
    "forecast.head()\n",
    "print(forecast.columns)"
   ]
  },
  {
   "cell_type": "code",
   "execution_count": 21,
   "metadata": {
    "colab": {
     "base_uri": "https://localhost:8080/",
     "height": 457
    },
    "executionInfo": {
     "elapsed": 327,
     "status": "ok",
     "timestamp": 1669108806370,
     "user": {
      "displayName": "Diogo Resende",
      "userId": "05706604408624562002"
     },
     "user_tz": -60
    },
    "id": "47rHzap0nnJz",
    "outputId": "0a2abe0e-1c69-4430-b6ce-d2879465bd0b"
   },
   "outputs": [
    {
     "data": {
      "application/vnd.microsoft.datawrangler.viewer.v0+json": {
       "columns": [
        {
         "name": "index",
         "rawType": "int64",
         "type": "integer"
        },
        {
         "name": "ds",
         "rawType": "datetime64[ns]",
         "type": "datetime"
        },
        {
         "name": "black_friday",
         "rawType": "float64",
         "type": "float"
        }
       ],
       "ref": "fcc780f4-4c4a-4f45-895b-88c8feb34c67",
       "rows": [
        [
         "1785",
         "2020-11-20 00:00:00",
         "89.9250573"
        ],
        [
         "1786",
         "2020-11-21 00:00:00",
         "81.1056207"
        ],
        [
         "1787",
         "2020-11-22 00:00:00",
         "155.2779423"
        ],
        [
         "1788",
         "2020-11-23 00:00:00",
         "227.43771959999998"
        ],
        [
         "1789",
         "2020-11-24 00:00:00",
         "203.82840269999997"
        ],
        [
         "1790",
         "2020-11-25 00:00:00",
         "174.3346215"
        ],
        [
         "1791",
         "2020-11-26 00:00:00",
         "214.30906380000002"
        ],
        [
         "1792",
         "2020-11-27 00:00:00",
         "447.109962"
        ],
        [
         "1793",
         "2020-11-28 00:00:00",
         "192.99955350000002"
        ],
        [
         "1794",
         "2020-11-29 00:00:00",
         "217.8271017"
        ],
        [
         "1795",
         "2020-11-30 00:00:00",
         "440.641578"
        ],
        [
         "1796",
         "2020-12-01 00:00:00",
         "373.76270100000005"
        ],
        [
         "1797",
         "2020-12-02 00:00:00",
         "252.793671"
        ]
       ],
       "shape": {
        "columns": 2,
        "rows": 13
       }
      },
      "text/html": [
       "<div>\n",
       "<style scoped>\n",
       "    .dataframe tbody tr th:only-of-type {\n",
       "        vertical-align: middle;\n",
       "    }\n",
       "\n",
       "    .dataframe tbody tr th {\n",
       "        vertical-align: top;\n",
       "    }\n",
       "\n",
       "    .dataframe thead th {\n",
       "        text-align: right;\n",
       "    }\n",
       "</style>\n",
       "<table border=\"1\" class=\"dataframe\">\n",
       "  <thead>\n",
       "    <tr style=\"text-align: right;\">\n",
       "      <th></th>\n",
       "      <th>ds</th>\n",
       "      <th>black_friday</th>\n",
       "    </tr>\n",
       "  </thead>\n",
       "  <tbody>\n",
       "    <tr>\n",
       "      <th>1785</th>\n",
       "      <td>2020-11-20</td>\n",
       "      <td>89.925057</td>\n",
       "    </tr>\n",
       "    <tr>\n",
       "      <th>1786</th>\n",
       "      <td>2020-11-21</td>\n",
       "      <td>81.105621</td>\n",
       "    </tr>\n",
       "    <tr>\n",
       "      <th>1787</th>\n",
       "      <td>2020-11-22</td>\n",
       "      <td>155.277942</td>\n",
       "    </tr>\n",
       "    <tr>\n",
       "      <th>1788</th>\n",
       "      <td>2020-11-23</td>\n",
       "      <td>227.437720</td>\n",
       "    </tr>\n",
       "    <tr>\n",
       "      <th>1789</th>\n",
       "      <td>2020-11-24</td>\n",
       "      <td>203.828403</td>\n",
       "    </tr>\n",
       "    <tr>\n",
       "      <th>1790</th>\n",
       "      <td>2020-11-25</td>\n",
       "      <td>174.334621</td>\n",
       "    </tr>\n",
       "    <tr>\n",
       "      <th>1791</th>\n",
       "      <td>2020-11-26</td>\n",
       "      <td>214.309064</td>\n",
       "    </tr>\n",
       "    <tr>\n",
       "      <th>1792</th>\n",
       "      <td>2020-11-27</td>\n",
       "      <td>447.109962</td>\n",
       "    </tr>\n",
       "    <tr>\n",
       "      <th>1793</th>\n",
       "      <td>2020-11-28</td>\n",
       "      <td>192.999554</td>\n",
       "    </tr>\n",
       "    <tr>\n",
       "      <th>1794</th>\n",
       "      <td>2020-11-29</td>\n",
       "      <td>217.827102</td>\n",
       "    </tr>\n",
       "    <tr>\n",
       "      <th>1795</th>\n",
       "      <td>2020-11-30</td>\n",
       "      <td>440.641578</td>\n",
       "    </tr>\n",
       "    <tr>\n",
       "      <th>1796</th>\n",
       "      <td>2020-12-01</td>\n",
       "      <td>373.762701</td>\n",
       "    </tr>\n",
       "    <tr>\n",
       "      <th>1797</th>\n",
       "      <td>2020-12-02</td>\n",
       "      <td>252.793671</td>\n",
       "    </tr>\n",
       "  </tbody>\n",
       "</table>\n",
       "</div>"
      ],
      "text/plain": [
       "             ds  black_friday\n",
       "1785 2020-11-20     89.925057\n",
       "1786 2020-11-21     81.105621\n",
       "1787 2020-11-22    155.277942\n",
       "1788 2020-11-23    227.437720\n",
       "1789 2020-11-24    203.828403\n",
       "1790 2020-11-25    174.334621\n",
       "1791 2020-11-26    214.309064\n",
       "1792 2020-11-27    447.109962\n",
       "1793 2020-11-28    192.999554\n",
       "1794 2020-11-29    217.827102\n",
       "1795 2020-11-30    440.641578\n",
       "1796 2020-12-01    373.762701\n",
       "1797 2020-12-02    252.793671"
      ]
     },
     "execution_count": 21,
     "metadata": {},
     "output_type": "execute_result"
    }
   ],
   "source": [
    "#Holiday assessment\n",
    "holiday = 'black_friday'\n",
    "forecast[(forecast[holiday].abs() > 0) & (forecast['ds'] > '2020-01-01')][\n",
    "    ['ds', holiday]]"
   ]
  },
  {
   "cell_type": "code",
   "execution_count": 22,
   "metadata": {
    "id": "HHxSvAdFpiB1"
   },
   "outputs": [],
   "source": [
    "#Retrieve the predictions\n",
    "predictions = forecast.yhat[-test_days:]"
   ]
  },
  {
   "cell_type": "code",
   "execution_count": 23,
   "metadata": {
    "colab": {
     "base_uri": "https://localhost:8080/"
    },
    "executionInfo": {
     "elapsed": 256,
     "status": "ok",
     "timestamp": 1669109231346,
     "user": {
      "displayName": "Diogo Resende",
      "userId": "05706604408624562002"
     },
     "user_tz": -60
    },
    "id": "YvBw1Mzlpfxo",
    "outputId": "250723cd-347b-4c55-c82c-2bda5a8c3421"
   },
   "outputs": [
    {
     "name": "stdout",
     "output_type": "stream",
     "text": [
      "187.58269407653538\n",
      "238.92892163020096\n"
     ]
    }
   ],
   "source": [
    "#Accuracy assessment\n",
    "#MAR-RMSE\n",
    "from sklearn.metrics import mean_squared_error, mean_absolute_error\n",
    "print(mean_absolute_error(test.y, predictions))\n",
    "print(np.sqrt(mean_squared_error(test.y, predictions)))"
   ]
  },
  {
   "cell_type": "markdown",
   "metadata": {
    "id": "8SLoUHrMrEIb"
   },
   "source": [
    "# Visualization"
   ]
  },
  {
   "cell_type": "code",
   "execution_count": 24,
   "metadata": {
    "colab": {
     "base_uri": "https://localhost:8080/",
     "height": 441
    },
    "executionInfo": {
     "elapsed": 1399,
     "status": "ok",
     "timestamp": 1669109441233,
     "user": {
      "displayName": "Diogo Resende",
      "userId": "05706604408624562002"
     },
     "user_tz": -60
    },
    "id": "aZsZmbEHrFTY",
    "outputId": "af2dbde4-4cf2-48c8-9226-3e4850f30eb0"
   },
   "outputs": [
    {
     "data": {
      "image/png": "[encoded data removed]",
      "text/plain": [
       "<Figure size 1000x600 with 1 Axes>"
      ]
     },
     "metadata": {},
     "output_type": "display_data"
    }
   ],
   "source": [
    "#Visualize the forecast\n",
    "m.plot(forecast);"
   ]
  },
  {
   "cell_type": "code",
   "execution_count": 25,
   "metadata": {
    "colab": {
     "base_uri": "https://localhost:8080/",
     "height": 1000
    },
    "executionInfo": {
     "elapsed": 2929,
     "status": "ok",
     "timestamp": 1669109564794,
     "user": {
      "displayName": "Diogo Resende",
      "userId": "05706604408624562002"
     },
     "user_tz": -60
    },
    "id": "LpuQnwaerfVQ",
    "outputId": "d68db0b0-b455-4ee7-90b4-876ca39dd363"
   },
   "outputs": [
    {
     "data": {
      "image/png": "[encoded data removed]",
      "text/plain": [
       "<Figure size 900x1500 with 5 Axes>"
      ]
     },
     "metadata": {},
     "output_type": "display_data"
    }
   ],
   "source": [
    "#plot components -> Structural Time Series decomposition\n",
    "m.plot_components(forecast);"
   ]
  },
  {
   "cell_type": "markdown",
   "metadata": {
    "id": "WBT0T6dA2NIP"
   },
   "source": [
    "# Cross-Validation"
   ]
  },
  {
   "cell_type": "code",
   "execution_count": 26,
   "metadata": {
    "id": "jWzIPlvj2OZG"
   },
   "outputs": [],
   "source": [
    "#CV\n",
    "from prophet.diagnostics import cross_validation\n",
    "df_cv = cross_validation(m,\n",
    "                         horizon = '31 days',\n",
    "                         initial = '1450 days',\n",
    "                         parallel = 'processes')"
   ]
  },
  {
   "cell_type": "code",
   "execution_count": 27,
   "metadata": {
    "colab": {
     "base_uri": "https://localhost:8080/",
     "height": 206
    },
    "executionInfo": {
     "elapsed": 271,
     "status": "ok",
     "timestamp": 1669112674618,
     "user": {
      "displayName": "Diogo Resende",
      "userId": "05706604408624562002"
     },
     "user_tz": -60
    },
    "id": "1185oflv2tbq",
    "outputId": "42e19464-90b9-4074-94de-b1d0fcac0f8a"
   },
   "outputs": [
    {
     "data": {
      "application/vnd.microsoft.datawrangler.viewer.v0+json": {
       "columns": [
        {
         "name": "index",
         "rawType": "int64",
         "type": "integer"
        },
        {
         "name": "ds",
         "rawType": "datetime64[ns]",
         "type": "datetime"
        },
        {
         "name": "yhat",
         "rawType": "float64",
         "type": "float"
        },
        {
         "name": "yhat_lower",
         "rawType": "float64",
         "type": "float"
        },
        {
         "name": "yhat_upper",
         "rawType": "float64",
         "type": "float"
        },
        {
         "name": "y",
         "rawType": "int64",
         "type": "integer"
        },
        {
         "name": "cutoff",
         "rawType": "datetime64[ns]",
         "type": "datetime"
        }
       ],
       "ref": "fb6e432f-dc25-491a-89e0-a318f2257b7d",
       "rows": [
        [
         "0",
         "2019-12-26 00:00:00",
         "1282.7569353907256",
         "1148.059868811161",
         "1418.5808118353077",
         "1165",
         "2019-12-25 00:00:00"
        ],
        [
         "1",
         "2019-12-27 00:00:00",
         "1224.139617759963",
         "1089.8819067496781",
         "1349.4568541859526",
         "1111",
         "2019-12-25 00:00:00"
        ],
        [
         "2",
         "2019-12-28 00:00:00",
         "1102.8052285756737",
         "965.0179218119929",
         "1238.2018058592369",
         "1038",
         "2019-12-25 00:00:00"
        ],
        [
         "3",
         "2019-12-29 00:00:00",
         "1164.6643110017121",
         "1014.6300034888019",
         "1290.7665553252614",
         "971",
         "2019-12-25 00:00:00"
        ],
        [
         "4",
         "2019-12-30 00:00:00",
         "1373.209792343319",
         "1241.997516097877",
         "1505.311373104516",
         "1192",
         "2019-12-25 00:00:00"
        ]
       ],
       "shape": {
        "columns": 6,
        "rows": 5
       }
      },
      "text/html": [
       "<div>\n",
       "<style scoped>\n",
       "    .dataframe tbody tr th:only-of-type {\n",
       "        vertical-align: middle;\n",
       "    }\n",
       "\n",
       "    .dataframe tbody tr th {\n",
       "        vertical-align: top;\n",
       "    }\n",
       "\n",
       "    .dataframe thead th {\n",
       "        text-align: right;\n",
       "    }\n",
       "</style>\n",
       "<table border=\"1\" class=\"dataframe\">\n",
       "  <thead>\n",
       "    <tr style=\"text-align: right;\">\n",
       "      <th></th>\n",
       "      <th>ds</th>\n",
       "      <th>yhat</th>\n",
       "      <th>yhat_lower</th>\n",
       "      <th>yhat_upper</th>\n",
       "      <th>y</th>\n",
       "      <th>cutoff</th>\n",
       "    </tr>\n",
       "  </thead>\n",
       "  <tbody>\n",
       "    <tr>\n",
       "      <th>0</th>\n",
       "      <td>2019-12-26</td>\n",
       "      <td>1282.756935</td>\n",
       "      <td>1148.059869</td>\n",
       "      <td>1418.580812</td>\n",
       "      <td>1165</td>\n",
       "      <td>2019-12-25</td>\n",
       "    </tr>\n",
       "    <tr>\n",
       "      <th>1</th>\n",
       "      <td>2019-12-27</td>\n",
       "      <td>1224.139618</td>\n",
       "      <td>1089.881907</td>\n",
       "      <td>1349.456854</td>\n",
       "      <td>1111</td>\n",
       "      <td>2019-12-25</td>\n",
       "    </tr>\n",
       "    <tr>\n",
       "      <th>2</th>\n",
       "      <td>2019-12-28</td>\n",
       "      <td>1102.805229</td>\n",
       "      <td>965.017922</td>\n",
       "      <td>1238.201806</td>\n",
       "      <td>1038</td>\n",
       "      <td>2019-12-25</td>\n",
       "    </tr>\n",
       "    <tr>\n",
       "      <th>3</th>\n",
       "      <td>2019-12-29</td>\n",
       "      <td>1164.664311</td>\n",
       "      <td>1014.630003</td>\n",
       "      <td>1290.766555</td>\n",
       "      <td>971</td>\n",
       "      <td>2019-12-25</td>\n",
       "    </tr>\n",
       "    <tr>\n",
       "      <th>4</th>\n",
       "      <td>2019-12-30</td>\n",
       "      <td>1373.209792</td>\n",
       "      <td>1241.997516</td>\n",
       "      <td>1505.311373</td>\n",
       "      <td>1192</td>\n",
       "      <td>2019-12-25</td>\n",
       "    </tr>\n",
       "  </tbody>\n",
       "</table>\n",
       "</div>"
      ],
      "text/plain": [
       "          ds         yhat   yhat_lower   yhat_upper     y     cutoff\n",
       "0 2019-12-26  1282.756935  1148.059869  1418.580812  1165 2019-12-25\n",
       "1 2019-12-27  1224.139618  1089.881907  1349.456854  1111 2019-12-25\n",
       "2 2019-12-28  1102.805229   965.017922  1238.201806  1038 2019-12-25\n",
       "3 2019-12-29  1164.664311  1014.630003  1290.766555   971 2019-12-25\n",
       "4 2019-12-30  1373.209792  1241.997516  1505.311373  1192 2019-12-25"
      ]
     },
     "execution_count": 27,
     "metadata": {},
     "output_type": "execute_result"
    }
   ],
   "source": [
    "#Output of the CV\n",
    "df_cv.head()"
   ]
  },
  {
   "cell_type": "code",
   "execution_count": 28,
   "metadata": {
    "colab": {
     "base_uri": "https://localhost:8080/"
    },
    "executionInfo": {
     "elapsed": 738,
     "status": "ok",
     "timestamp": 1669112876911,
     "user": {
      "displayName": "Diogo Resende",
      "userId": "05706604408624562002"
     },
     "user_tz": -60
    },
    "id": "iNGYMqwK3-Je",
    "outputId": "b8fff37f-e0f7-4093-e6b5-f7f5a34d3d32"
   },
   "outputs": [
    {
     "name": "stdout",
     "output_type": "stream",
     "text": [
      "400.4219381314898\n",
      "518.3567575494878\n"
     ]
    }
   ],
   "source": [
    "#Error assessment\n",
    "print(mean_absolute_error(df_cv['y'], df_cv['yhat']))\n",
    "print(np.sqrt(mean_squared_error(df_cv['y'], df_cv['yhat'])))"
   ]
  },
  {
   "cell_type": "code",
   "execution_count": 35,
   "metadata": {
    "colab": {
     "base_uri": "https://localhost:8080/",
     "height": 477
    },
    "executionInfo": {
     "elapsed": 1144,
     "status": "ok",
     "timestamp": 1669113075248,
     "user": {
      "displayName": "Diogo Resende",
      "userId": "05706604408624562002"
     },
     "user_tz": -60
    },
    "id": "OxA4PAOt4maU",
    "outputId": "b684735d-6c37-40dd-97af-07ee669bfa6b"
   },
   "outputs": [
    {
     "name": "stderr",
     "output_type": "stream",
     "text": [
      "c:\\Program Files\\Python313\\Lib\\site-packages\\prophet\\plot.py:547: FutureWarning: Series.view is deprecated and will be removed in a future version. Use ``astype`` as an alternative to change the dtype.\n",
      "  x_plt = df_none['horizon'].astype('timedelta64[ns]').view(np.int64) / float(dt_conversions[i])\n",
      "c:\\Program Files\\Python313\\Lib\\site-packages\\prophet\\plot.py:548: FutureWarning: Series.view is deprecated and will be removed in a future version. Use ``astype`` as an alternative to change the dtype.\n",
      "  x_plt_h = df_h['horizon'].astype('timedelta64[ns]').view(np.int64) / float(dt_conversions[i])\n"
     ]
    },
    {
     "data": {
      "image/png": "[encoded data removed]",
      "text/plain": [
       "<Figure size 1000x600 with 1 Axes>"
      ]
     },
     "metadata": {},
     "output_type": "display_data"
    }
   ],
   "source": [
    "#CV Visualization\n",
    "from prophet.plot import plot_cross_validation_metric\n",
    "plot_cross_validation_metric(df_cv,\n",
    "                             metric = 'rmse');"
   ]
  },
  {
   "cell_type": "markdown",
   "metadata": {
    "id": "XeCtLdmt65KE"
   },
   "source": [
    "# Parameter tuning"
   ]
  },
  {
   "cell_type": "code",
   "execution_count": 30,
   "metadata": {
    "colab": {
     "base_uri": "https://localhost:8080/"
    },
    "executionInfo": {
     "elapsed": 259,
     "status": "ok",
     "timestamp": 1669113818620,
     "user": {
      "displayName": "Diogo Resende",
      "userId": "05706604408624562002"
     },
     "user_tz": -60
    },
    "id": "n8f4KY4h67v5",
    "outputId": "33708ac8-4b96-40b3-d951-04f87035b07b"
   },
   "outputs": [
    {
     "data": {
      "text/plain": [
       "54"
      ]
     },
     "execution_count": 30,
     "metadata": {},
     "output_type": "execute_result"
    }
   ],
   "source": [
    "#Parameter Grid\n",
    "from sklearn.model_selection import ParameterGrid\n",
    "param_grid = {'seasonality_mode': ['additive', 'multiplicative'],\n",
    "              'seasonality_prior_scale': [5, 10, 20],\n",
    "              'holidays_prior_scale': [5, 10, 20],\n",
    "              'changepoint_prior_scale': [0.01, 0.05, 0.1]}\n",
    "grid = ParameterGrid(param_grid)\n",
    "len(list(grid))              "
   ]
  },
  {
   "cell_type": "code",
   "execution_count": null,
   "metadata": {
    "id": "zwC6nxeU8WTu"
   },
   "outputs": [],
   "source": [
    "#Empty list to store results\n",
    "rmse = []\n",
    "#start the loop\n",
    "for params in grid:\n",
    "  #build the model\n",
    "  m = Prophet(growth = 'linear',\n",
    "            yearly_seasonality = True,\n",
    "            weekly_seasonality = True,\n",
    "            daily_seasonality = False,\n",
    "            holidays = holidays,\n",
    "            seasonality_mode = params['seasonality_mode'],\n",
    "            seasonality_prior_scale = params['seasonality_prior_scale'],\n",
    "            holidays_prior_scale = params['holidays_prior_scale'],\n",
    "            changepoint_prior_scale= params['changepoint_prior_scale'])\n",
    "  m.add_regressor('Christmas', mode = 'multiplicative')\n",
    "  m.fit(training)\n",
    "\n",
    "  #Cross-Validation\n",
    "  df_cv = cross_validation(m,\n",
    "                           horizon = '31 days',\n",
    "                           initial = '1450 days',\n",
    "                           parallel = 'processes')\n",
    "\n",
    "  #Measure and store results\n",
    "  error = np.sqrt(mean_squared_error(df_cv['y'], df_cv['yhat']))\n",
    "  rmse.append(error)"
   ]
  },
  {
   "cell_type": "code",
   "execution_count": 32,
   "metadata": {
    "colab": {
     "base_uri": "https://localhost:8080/",
     "height": 655
    },
    "executionInfo": {
     "elapsed": 232,
     "status": "ok",
     "timestamp": 1669122214583,
     "user": {
      "displayName": "Diogo Resende",
      "userId": "05706604408624562002"
     },
     "user_tz": -60
    },
    "id": "x2e3oslZbsL8",
    "outputId": "9b45d5f1-27d1-43d2-e152-e091b08afba7"
   },
   "outputs": [
    {
     "data": {
      "application/vnd.microsoft.datawrangler.viewer.v0+json": {
       "columns": [
        {
         "name": "index",
         "rawType": "int64",
         "type": "integer"
        },
        {
         "name": "changepoint_prior_scale",
         "rawType": "float64",
         "type": "float"
        },
        {
         "name": "holidays_prior_scale",
         "rawType": "int64",
         "type": "integer"
        },
        {
         "name": "seasonality_mode",
         "rawType": "object",
         "type": "string"
        },
        {
         "name": "seasonality_prior_scale",
         "rawType": "int64",
         "type": "integer"
        },
        {
         "name": "rmse",
         "rawType": "float64",
         "type": "float"
        }
       ],
       "ref": "d505f2b5-10f2-405d-a2a8-f2107a37bda3",
       "rows": [
        [
         "0",
         "0.01",
         "5",
         "additive",
         "5",
         "511.7353073528945"
        ],
        [
         "1",
         "0.01",
         "5",
         "additive",
         "10",
         "514.3048891096709"
        ],
        [
         "2",
         "0.01",
         "5",
         "additive",
         "20",
         "512.6875358252748"
        ],
        [
         "3",
         "0.01",
         "5",
         "multiplicative",
         "5",
         "529.6262655884134"
        ],
        [
         "4",
         "0.01",
         "5",
         "multiplicative",
         "10",
         "530.3256405228461"
        ],
        [
         "5",
         "0.01",
         "5",
         "multiplicative",
         "20",
         "529.4352884202978"
        ],
        [
         "6",
         "0.01",
         "10",
         "additive",
         "5",
         "512.0503002694801"
        ],
        [
         "7",
         "0.01",
         "10",
         "additive",
         "10",
         "512.5362659055393"
        ],
        [
         "8",
         "0.01",
         "10",
         "additive",
         "20",
         "511.0747220899214"
        ],
        [
         "9",
         "0.01",
         "10",
         "multiplicative",
         "5",
         "530.095822948133"
        ],
        [
         "10",
         "0.01",
         "10",
         "multiplicative",
         "10",
         "530.7336399343058"
        ],
        [
         "11",
         "0.01",
         "10",
         "multiplicative",
         "20",
         "529.5038174105673"
        ],
        [
         "12",
         "0.01",
         "20",
         "additive",
         "5",
         "511.36925953546773"
        ],
        [
         "13",
         "0.01",
         "20",
         "additive",
         "10",
         "514.1021668131473"
        ],
        [
         "14",
         "0.01",
         "20",
         "additive",
         "20",
         "513.7274738669533"
        ],
        [
         "15",
         "0.01",
         "20",
         "multiplicative",
         "5",
         "530.6397018641251"
        ],
        [
         "16",
         "0.01",
         "20",
         "multiplicative",
         "10",
         "528.8204675059966"
        ],
        [
         "17",
         "0.01",
         "20",
         "multiplicative",
         "20",
         "530.1230561875191"
        ],
        [
         "18",
         "0.05",
         "5",
         "additive",
         "5",
         "516.1891848174035"
        ],
        [
         "19",
         "0.05",
         "5",
         "additive",
         "10",
         "517.506020422506"
        ],
        [
         "20",
         "0.05",
         "5",
         "additive",
         "20",
         "517.1975892774129"
        ],
        [
         "21",
         "0.05",
         "5",
         "multiplicative",
         "5",
         "497.705827012631"
        ],
        [
         "22",
         "0.05",
         "5",
         "multiplicative",
         "10",
         "498.48871728894966"
        ],
        [
         "23",
         "0.05",
         "5",
         "multiplicative",
         "20",
         "496.7875436558347"
        ],
        [
         "24",
         "0.05",
         "10",
         "additive",
         "5",
         "517.4844445515145"
        ],
        [
         "25",
         "0.05",
         "10",
         "additive",
         "10",
         "518.3567575494878"
        ],
        [
         "26",
         "0.05",
         "10",
         "additive",
         "20",
         "517.8131219821773"
        ],
        [
         "27",
         "0.05",
         "10",
         "multiplicative",
         "5",
         "494.27578735218384"
        ],
        [
         "28",
         "0.05",
         "10",
         "multiplicative",
         "10",
         "494.55510889436573"
        ],
        [
         "29",
         "0.05",
         "10",
         "multiplicative",
         "20",
         "495.32814293926987"
        ],
        [
         "30",
         "0.05",
         "20",
         "additive",
         "5",
         "518.0297815383747"
        ],
        [
         "31",
         "0.05",
         "20",
         "additive",
         "10",
         "517.4391610661584"
        ],
        [
         "32",
         "0.05",
         "20",
         "additive",
         "20",
         "517.2182591230909"
        ],
        [
         "33",
         "0.05",
         "20",
         "multiplicative",
         "5",
         "492.66026302303646"
        ],
        [
         "34",
         "0.05",
         "20",
         "multiplicative",
         "10",
         "494.3636211626103"
        ],
        [
         "35",
         "0.05",
         "20",
         "multiplicative",
         "20",
         "497.5198872286171"
        ],
        [
         "36",
         "0.1",
         "5",
         "additive",
         "5",
         "502.06241057758234"
        ],
        [
         "37",
         "0.1",
         "5",
         "additive",
         "10",
         "501.79770620237355"
        ],
        [
         "38",
         "0.1",
         "5",
         "additive",
         "20",
         "505.4643468174722"
        ],
        [
         "39",
         "0.1",
         "5",
         "multiplicative",
         "5",
         "449.6238599175778"
        ],
        [
         "40",
         "0.1",
         "5",
         "multiplicative",
         "10",
         "449.42147786849836"
        ],
        [
         "41",
         "0.1",
         "5",
         "multiplicative",
         "20",
         "449.0939539085936"
        ],
        [
         "42",
         "0.1",
         "10",
         "additive",
         "5",
         "502.13881766964687"
        ],
        [
         "43",
         "0.1",
         "10",
         "additive",
         "10",
         "505.2862482992647"
        ],
        [
         "44",
         "0.1",
         "10",
         "additive",
         "20",
         "504.6837817272941"
        ],
        [
         "45",
         "0.1",
         "10",
         "multiplicative",
         "5",
         "450.6518717656399"
        ],
        [
         "46",
         "0.1",
         "10",
         "multiplicative",
         "10",
         "448.35899679671184"
        ],
        [
         "47",
         "0.1",
         "10",
         "multiplicative",
         "20",
         "450.9668586389968"
        ],
        [
         "48",
         "0.1",
         "20",
         "additive",
         "5",
         "505.124323633923"
        ],
        [
         "49",
         "0.1",
         "20",
         "additive",
         "10",
         "501.1046633934819"
        ]
       ],
       "shape": {
        "columns": 5,
        "rows": 54
       }
      },
      "text/html": [
       "<div>\n",
       "<style scoped>\n",
       "    .dataframe tbody tr th:only-of-type {\n",
       "        vertical-align: middle;\n",
       "    }\n",
       "\n",
       "    .dataframe tbody tr th {\n",
       "        vertical-align: top;\n",
       "    }\n",
       "\n",
       "    .dataframe thead th {\n",
       "        text-align: right;\n",
       "    }\n",
       "</style>\n",
       "<table border=\"1\" class=\"dataframe\">\n",
       "  <thead>\n",
       "    <tr style=\"text-align: right;\">\n",
       "      <th></th>\n",
       "      <th>changepoint_prior_scale</th>\n",
       "      <th>holidays_prior_scale</th>\n",
       "      <th>seasonality_mode</th>\n",
       "      <th>seasonality_prior_scale</th>\n",
       "      <th>rmse</th>\n",
       "    </tr>\n",
       "  </thead>\n",
       "  <tbody>\n",
       "    <tr>\n",
       "      <th>0</th>\n",
       "      <td>0.01</td>\n",
       "      <td>5</td>\n",
       "      <td>additive</td>\n",
       "      <td>5</td>\n",
       "      <td>511.735307</td>\n",
       "    </tr>\n",
       "    <tr>\n",
       "      <th>1</th>\n",
       "      <td>0.01</td>\n",
       "      <td>5</td>\n",
       "      <td>additive</td>\n",
       "      <td>10</td>\n",
       "      <td>514.304889</td>\n",
       "    </tr>\n",
       "    <tr>\n",
       "      <th>2</th>\n",
       "      <td>0.01</td>\n",
       "      <td>5</td>\n",
       "      <td>additive</td>\n",
       "      <td>20</td>\n",
       "      <td>512.687536</td>\n",
       "    </tr>\n",
       "    <tr>\n",
       "      <th>3</th>\n",
       "      <td>0.01</td>\n",
       "      <td>5</td>\n",
       "      <td>multiplicative</td>\n",
       "      <td>5</td>\n",
       "      <td>529.626266</td>\n",
       "    </tr>\n",
       "    <tr>\n",
       "      <th>4</th>\n",
       "      <td>0.01</td>\n",
       "      <td>5</td>\n",
       "      <td>multiplicative</td>\n",
       "      <td>10</td>\n",
       "      <td>530.325641</td>\n",
       "    </tr>\n",
       "    <tr>\n",
       "      <th>5</th>\n",
       "      <td>0.01</td>\n",
       "      <td>5</td>\n",
       "      <td>multiplicative</td>\n",
       "      <td>20</td>\n",
       "      <td>529.435288</td>\n",
       "    </tr>\n",
       "    <tr>\n",
       "      <th>6</th>\n",
       "      <td>0.01</td>\n",
       "      <td>10</td>\n",
       "      <td>additive</td>\n",
       "      <td>5</td>\n",
       "      <td>512.050300</td>\n",
       "    </tr>\n",
       "    <tr>\n",
       "      <th>7</th>\n",
       "      <td>0.01</td>\n",
       "      <td>10</td>\n",
       "      <td>additive</td>\n",
       "      <td>10</td>\n",
       "      <td>512.536266</td>\n",
       "    </tr>\n",
       "    <tr>\n",
       "      <th>8</th>\n",
       "      <td>0.01</td>\n",
       "      <td>10</td>\n",
       "      <td>additive</td>\n",
       "      <td>20</td>\n",
       "      <td>511.074722</td>\n",
       "    </tr>\n",
       "    <tr>\n",
       "      <th>9</th>\n",
       "      <td>0.01</td>\n",
       "      <td>10</td>\n",
       "      <td>multiplicative</td>\n",
       "      <td>5</td>\n",
       "      <td>530.095823</td>\n",
       "    </tr>\n",
       "    <tr>\n",
       "      <th>10</th>\n",
       "      <td>0.01</td>\n",
       "      <td>10</td>\n",
       "      <td>multiplicative</td>\n",
       "      <td>10</td>\n",
       "      <td>530.733640</td>\n",
       "    </tr>\n",
       "    <tr>\n",
       "      <th>11</th>\n",
       "      <td>0.01</td>\n",
       "      <td>10</td>\n",
       "      <td>multiplicative</td>\n",
       "      <td>20</td>\n",
       "      <td>529.503817</td>\n",
       "    </tr>\n",
       "    <tr>\n",
       "      <th>12</th>\n",
       "      <td>0.01</td>\n",
       "      <td>20</td>\n",
       "      <td>additive</td>\n",
       "      <td>5</td>\n",
       "      <td>511.369260</td>\n",
       "    </tr>\n",
       "    <tr>\n",
       "      <th>13</th>\n",
       "      <td>0.01</td>\n",
       "      <td>20</td>\n",
       "      <td>additive</td>\n",
       "      <td>10</td>\n",
       "      <td>514.102167</td>\n",
       "    </tr>\n",
       "    <tr>\n",
       "      <th>14</th>\n",
       "      <td>0.01</td>\n",
       "      <td>20</td>\n",
       "      <td>additive</td>\n",
       "      <td>20</td>\n",
       "      <td>513.727474</td>\n",
       "    </tr>\n",
       "    <tr>\n",
       "      <th>15</th>\n",
       "      <td>0.01</td>\n",
       "      <td>20</td>\n",
       "      <td>multiplicative</td>\n",
       "      <td>5</td>\n",
       "      <td>530.639702</td>\n",
       "    </tr>\n",
       "    <tr>\n",
       "      <th>16</th>\n",
       "      <td>0.01</td>\n",
       "      <td>20</td>\n",
       "      <td>multiplicative</td>\n",
       "      <td>10</td>\n",
       "      <td>528.820468</td>\n",
       "    </tr>\n",
       "    <tr>\n",
       "      <th>17</th>\n",
       "      <td>0.01</td>\n",
       "      <td>20</td>\n",
       "      <td>multiplicative</td>\n",
       "      <td>20</td>\n",
       "      <td>530.123056</td>\n",
       "    </tr>\n",
       "    <tr>\n",
       "      <th>18</th>\n",
       "      <td>0.05</td>\n",
       "      <td>5</td>\n",
       "      <td>additive</td>\n",
       "      <td>5</td>\n",
       "      <td>516.189185</td>\n",
       "    </tr>\n",
       "    <tr>\n",
       "      <th>19</th>\n",
       "      <td>0.05</td>\n",
       "      <td>5</td>\n",
       "      <td>additive</td>\n",
       "      <td>10</td>\n",
       "      <td>517.506020</td>\n",
       "    </tr>\n",
       "    <tr>\n",
       "      <th>20</th>\n",
       "      <td>0.05</td>\n",
       "      <td>5</td>\n",
       "      <td>additive</td>\n",
       "      <td>20</td>\n",
       "      <td>517.197589</td>\n",
       "    </tr>\n",
       "    <tr>\n",
       "      <th>21</th>\n",
       "      <td>0.05</td>\n",
       "      <td>5</td>\n",
       "      <td>multiplicative</td>\n",
       "      <td>5</td>\n",
       "      <td>497.705827</td>\n",
       "    </tr>\n",
       "    <tr>\n",
       "      <th>22</th>\n",
       "      <td>0.05</td>\n",
       "      <td>5</td>\n",
       "      <td>multiplicative</td>\n",
       "      <td>10</td>\n",
       "      <td>498.488717</td>\n",
       "    </tr>\n",
       "    <tr>\n",
       "      <th>23</th>\n",
       "      <td>0.05</td>\n",
       "      <td>5</td>\n",
       "      <td>multiplicative</td>\n",
       "      <td>20</td>\n",
       "      <td>496.787544</td>\n",
       "    </tr>\n",
       "    <tr>\n",
       "      <th>24</th>\n",
       "      <td>0.05</td>\n",
       "      <td>10</td>\n",
       "      <td>additive</td>\n",
       "      <td>5</td>\n",
       "      <td>517.484445</td>\n",
       "    </tr>\n",
       "    <tr>\n",
       "      <th>25</th>\n",
       "      <td>0.05</td>\n",
       "      <td>10</td>\n",
       "      <td>additive</td>\n",
       "      <td>10</td>\n",
       "      <td>518.356758</td>\n",
       "    </tr>\n",
       "    <tr>\n",
       "      <th>26</th>\n",
       "      <td>0.05</td>\n",
       "      <td>10</td>\n",
       "      <td>additive</td>\n",
       "      <td>20</td>\n",
       "      <td>517.813122</td>\n",
       "    </tr>\n",
       "    <tr>\n",
       "      <th>27</th>\n",
       "      <td>0.05</td>\n",
       "      <td>10</td>\n",
       "      <td>multiplicative</td>\n",
       "      <td>5</td>\n",
       "      <td>494.275787</td>\n",
       "    </tr>\n",
       "    <tr>\n",
       "      <th>28</th>\n",
       "      <td>0.05</td>\n",
       "      <td>10</td>\n",
       "      <td>multiplicative</td>\n",
       "      <td>10</td>\n",
       "      <td>494.555109</td>\n",
       "    </tr>\n",
       "    <tr>\n",
       "      <th>29</th>\n",
       "      <td>0.05</td>\n",
       "      <td>10</td>\n",
       "      <td>multiplicative</td>\n",
       "      <td>20</td>\n",
       "      <td>495.328143</td>\n",
       "    </tr>\n",
       "    <tr>\n",
       "      <th>30</th>\n",
       "      <td>0.05</td>\n",
       "      <td>20</td>\n",
       "      <td>additive</td>\n",
       "      <td>5</td>\n",
       "      <td>518.029782</td>\n",
       "    </tr>\n",
       "    <tr>\n",
       "      <th>31</th>\n",
       "      <td>0.05</td>\n",
       "      <td>20</td>\n",
       "      <td>additive</td>\n",
       "      <td>10</td>\n",
       "      <td>517.439161</td>\n",
       "    </tr>\n",
       "    <tr>\n",
       "      <th>32</th>\n",
       "      <td>0.05</td>\n",
       "      <td>20</td>\n",
       "      <td>additive</td>\n",
       "      <td>20</td>\n",
       "      <td>517.218259</td>\n",
       "    </tr>\n",
       "    <tr>\n",
       "      <th>33</th>\n",
       "      <td>0.05</td>\n",
       "      <td>20</td>\n",
       "      <td>multiplicative</td>\n",
       "      <td>5</td>\n",
       "      <td>492.660263</td>\n",
       "    </tr>\n",
       "    <tr>\n",
       "      <th>34</th>\n",
       "      <td>0.05</td>\n",
       "      <td>20</td>\n",
       "      <td>multiplicative</td>\n",
       "      <td>10</td>\n",
       "      <td>494.363621</td>\n",
       "    </tr>\n",
       "    <tr>\n",
       "      <th>35</th>\n",
       "      <td>0.05</td>\n",
       "      <td>20</td>\n",
       "      <td>multiplicative</td>\n",
       "      <td>20</td>\n",
       "      <td>497.519887</td>\n",
       "    </tr>\n",
       "    <tr>\n",
       "      <th>36</th>\n",
       "      <td>0.10</td>\n",
       "      <td>5</td>\n",
       "      <td>additive</td>\n",
       "      <td>5</td>\n",
       "      <td>502.062411</td>\n",
       "    </tr>\n",
       "    <tr>\n",
       "      <th>37</th>\n",
       "      <td>0.10</td>\n",
       "      <td>5</td>\n",
       "      <td>additive</td>\n",
       "      <td>10</td>\n",
       "      <td>501.797706</td>\n",
       "    </tr>\n",
       "    <tr>\n",
       "      <th>38</th>\n",
       "      <td>0.10</td>\n",
       "      <td>5</td>\n",
       "      <td>additive</td>\n",
       "      <td>20</td>\n",
       "      <td>505.464347</td>\n",
       "    </tr>\n",
       "    <tr>\n",
       "      <th>39</th>\n",
       "      <td>0.10</td>\n",
       "      <td>5</td>\n",
       "      <td>multiplicative</td>\n",
       "      <td>5</td>\n",
       "      <td>449.623860</td>\n",
       "    </tr>\n",
       "    <tr>\n",
       "      <th>40</th>\n",
       "      <td>0.10</td>\n",
       "      <td>5</td>\n",
       "      <td>multiplicative</td>\n",
       "      <td>10</td>\n",
       "      <td>449.421478</td>\n",
       "    </tr>\n",
       "    <tr>\n",
       "      <th>41</th>\n",
       "      <td>0.10</td>\n",
       "      <td>5</td>\n",
       "      <td>multiplicative</td>\n",
       "      <td>20</td>\n",
       "      <td>449.093954</td>\n",
       "    </tr>\n",
       "    <tr>\n",
       "      <th>42</th>\n",
       "      <td>0.10</td>\n",
       "      <td>10</td>\n",
       "      <td>additive</td>\n",
       "      <td>5</td>\n",
       "      <td>502.138818</td>\n",
       "    </tr>\n",
       "    <tr>\n",
       "      <th>43</th>\n",
       "      <td>0.10</td>\n",
       "      <td>10</td>\n",
       "      <td>additive</td>\n",
       "      <td>10</td>\n",
       "      <td>505.286248</td>\n",
       "    </tr>\n",
       "    <tr>\n",
       "      <th>44</th>\n",
       "      <td>0.10</td>\n",
       "      <td>10</td>\n",
       "      <td>additive</td>\n",
       "      <td>20</td>\n",
       "      <td>504.683782</td>\n",
       "    </tr>\n",
       "    <tr>\n",
       "      <th>45</th>\n",
       "      <td>0.10</td>\n",
       "      <td>10</td>\n",
       "      <td>multiplicative</td>\n",
       "      <td>5</td>\n",
       "      <td>450.651872</td>\n",
       "    </tr>\n",
       "    <tr>\n",
       "      <th>46</th>\n",
       "      <td>0.10</td>\n",
       "      <td>10</td>\n",
       "      <td>multiplicative</td>\n",
       "      <td>10</td>\n",
       "      <td>448.358997</td>\n",
       "    </tr>\n",
       "    <tr>\n",
       "      <th>47</th>\n",
       "      <td>0.10</td>\n",
       "      <td>10</td>\n",
       "      <td>multiplicative</td>\n",
       "      <td>20</td>\n",
       "      <td>450.966859</td>\n",
       "    </tr>\n",
       "    <tr>\n",
       "      <th>48</th>\n",
       "      <td>0.10</td>\n",
       "      <td>20</td>\n",
       "      <td>additive</td>\n",
       "      <td>5</td>\n",
       "      <td>505.124324</td>\n",
       "    </tr>\n",
       "    <tr>\n",
       "      <th>49</th>\n",
       "      <td>0.10</td>\n",
       "      <td>20</td>\n",
       "      <td>additive</td>\n",
       "      <td>10</td>\n",
       "      <td>501.104663</td>\n",
       "    </tr>\n",
       "    <tr>\n",
       "      <th>50</th>\n",
       "      <td>0.10</td>\n",
       "      <td>20</td>\n",
       "      <td>additive</td>\n",
       "      <td>20</td>\n",
       "      <td>502.107213</td>\n",
       "    </tr>\n",
       "    <tr>\n",
       "      <th>51</th>\n",
       "      <td>0.10</td>\n",
       "      <td>20</td>\n",
       "      <td>multiplicative</td>\n",
       "      <td>5</td>\n",
       "      <td>450.976296</td>\n",
       "    </tr>\n",
       "    <tr>\n",
       "      <th>52</th>\n",
       "      <td>0.10</td>\n",
       "      <td>20</td>\n",
       "      <td>multiplicative</td>\n",
       "      <td>10</td>\n",
       "      <td>451.919955</td>\n",
       "    </tr>\n",
       "    <tr>\n",
       "      <th>53</th>\n",
       "      <td>0.10</td>\n",
       "      <td>20</td>\n",
       "      <td>multiplicative</td>\n",
       "      <td>20</td>\n",
       "      <td>451.531432</td>\n",
       "    </tr>\n",
       "  </tbody>\n",
       "</table>\n",
       "</div>"
      ],
      "text/plain": [
       "    changepoint_prior_scale  holidays_prior_scale seasonality_mode  \\\n",
       "0                      0.01                     5         additive   \n",
       "1                      0.01                     5         additive   \n",
       "2                      0.01                     5         additive   \n",
       "3                      0.01                     5   multiplicative   \n",
       "4                      0.01                     5   multiplicative   \n",
       "5                      0.01                     5   multiplicative   \n",
       "6                      0.01                    10         additive   \n",
       "7                      0.01                    10         additive   \n",
       "8                      0.01                    10         additive   \n",
       "9                      0.01                    10   multiplicative   \n",
       "10                     0.01                    10   multiplicative   \n",
       "11                     0.01                    10   multiplicative   \n",
       "12                     0.01                    20         additive   \n",
       "13                     0.01                    20         additive   \n",
       "14                     0.01                    20         additive   \n",
       "15                     0.01                    20   multiplicative   \n",
       "16                     0.01                    20   multiplicative   \n",
       "17                     0.01                    20   multiplicative   \n",
       "18                     0.05                     5         additive   \n",
       "19                     0.05                     5         additive   \n",
       "20                     0.05                     5         additive   \n",
       "21                     0.05                     5   multiplicative   \n",
       "22                     0.05                     5   multiplicative   \n",
       "23                     0.05                     5   multiplicative   \n",
       "24                     0.05                    10         additive   \n",
       "25                     0.05                    10         additive   \n",
       "26                     0.05                    10         additive   \n",
       "27                     0.05                    10   multiplicative   \n",
       "28                     0.05                    10   multiplicative   \n",
       "29                     0.05                    10   multiplicative   \n",
       "30                     0.05                    20         additive   \n",
       "31                     0.05                    20         additive   \n",
       "32                     0.05                    20         additive   \n",
       "33                     0.05                    20   multiplicative   \n",
       "34                     0.05                    20   multiplicative   \n",
       "35                     0.05                    20   multiplicative   \n",
       "36                     0.10                     5         additive   \n",
       "37                     0.10                     5         additive   \n",
       "38                     0.10                     5         additive   \n",
       "39                     0.10                     5   multiplicative   \n",
       "40                     0.10                     5   multiplicative   \n",
       "41                     0.10                     5   multiplicative   \n",
       "42                     0.10                    10         additive   \n",
       "43                     0.10                    10         additive   \n",
       "44                     0.10                    10         additive   \n",
       "45                     0.10                    10   multiplicative   \n",
       "46                     0.10                    10   multiplicative   \n",
       "47                     0.10                    10   multiplicative   \n",
       "48                     0.10                    20         additive   \n",
       "49                     0.10                    20         additive   \n",
       "50                     0.10                    20         additive   \n",
       "51                     0.10                    20   multiplicative   \n",
       "52                     0.10                    20   multiplicative   \n",
       "53                     0.10                    20   multiplicative   \n",
       "\n",
       "    seasonality_prior_scale        rmse  \n",
       "0                         5  511.735307  \n",
       "1                        10  514.304889  \n",
       "2                        20  512.687536  \n",
       "3                         5  529.626266  \n",
       "4                        10  530.325641  \n",
       "5                        20  529.435288  \n",
       "6                         5  512.050300  \n",
       "7                        10  512.536266  \n",
       "8                        20  511.074722  \n",
       "9                         5  530.095823  \n",
       "10                       10  530.733640  \n",
       "11                       20  529.503817  \n",
       "12                        5  511.369260  \n",
       "13                       10  514.102167  \n",
       "14                       20  513.727474  \n",
       "15                        5  530.639702  \n",
       "16                       10  528.820468  \n",
       "17                       20  530.123056  \n",
       "18                        5  516.189185  \n",
       "19                       10  517.506020  \n",
       "20                       20  517.197589  \n",
       "21                        5  497.705827  \n",
       "22                       10  498.488717  \n",
       "23                       20  496.787544  \n",
       "24                        5  517.484445  \n",
       "25                       10  518.356758  \n",
       "26                       20  517.813122  \n",
       "27                        5  494.275787  \n",
       "28                       10  494.555109  \n",
       "29                       20  495.328143  \n",
       "30                        5  518.029782  \n",
       "31                       10  517.439161  \n",
       "32                       20  517.218259  \n",
       "33                        5  492.660263  \n",
       "34                       10  494.363621  \n",
       "35                       20  497.519887  \n",
       "36                        5  502.062411  \n",
       "37                       10  501.797706  \n",
       "38                       20  505.464347  \n",
       "39                        5  449.623860  \n",
       "40                       10  449.421478  \n",
       "41                       20  449.093954  \n",
       "42                        5  502.138818  \n",
       "43                       10  505.286248  \n",
       "44                       20  504.683782  \n",
       "45                        5  450.651872  \n",
       "46                       10  448.358997  \n",
       "47                       20  450.966859  \n",
       "48                        5  505.124324  \n",
       "49                       10  501.104663  \n",
       "50                       20  502.107213  \n",
       "51                        5  450.976296  \n",
       "52                       10  451.919955  \n",
       "53                       20  451.531432  "
      ]
     },
     "execution_count": 32,
     "metadata": {},
     "output_type": "execute_result"
    }
   ],
   "source": [
    "#Get the best parameters\n",
    "tuning_results = pd.DataFrame(grid)\n",
    "tuning_results['rmse'] = rmse\n",
    "tuning_results"
   ]
  },
  {
   "cell_type": "code",
   "execution_count": null,
   "metadata": {},
   "outputs": [],
   "source": []
  }
 ],
 "metadata": {
  "colab": {
   "authorship_tag": "ABX9TyNaaupqFvRRSZcJrC/Cz62o",
   "mount_file_id": "1Yj03O2UjcGB3FK6KdSzl54l29giA4gTV",
   "provenance": []
  },
  "kernelspec": {
   "display_name": "Python 3",
   "name": "python3"
  },
  "language_info": {
   "codemirror_mode": {
    "name": "ipython",
    "version": 3
   },
   "file_extension": ".py",
   "mimetype": "text/x-python",
   "name": "python",
   "nbconvert_exporter": "python",
   "pygments_lexer": "ipython3",
   "version": "3.13.2"
  }
 },
 "nbformat": 4,
 "nbformat_minor": 0
}
